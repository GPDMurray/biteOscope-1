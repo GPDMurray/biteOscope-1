{
 "cells": [
  {
   "cell_type": "code",
   "execution_count": 1,
   "metadata": {},
   "outputs": [],
   "source": [
    "'''\n",
    "author: Felix Hol\n",
    "date: 2019 June 24\n",
    "content: find curve around mosquito body using active contour (snakelet), find max width of short axis and determine engorgement\n",
    "'''\n",
    "\n",
    "import numpy as np\n",
    "%matplotlib inline\n",
    "import matplotlib as mpl\n",
    "# mpl.use('TkAgg') ### this is a workaround for a bug when running on macOS, may not be necessary anymore\n",
    "import matplotlib.pyplot as plt\n",
    "import os\n",
    "import pandas as pd\n",
    "from pandas import DataFrame, Series  # for convenience\n",
    "import pims\n",
    "import skimage\n",
    "from skimage import data, io, util\n",
    "from skimage.feature import (canny, match_descriptors, peak_local_max, match_template, corner_peaks, corner_harris, plot_matches, BRIEF)\n",
    "from skimage.color import rgb2gray\n",
    "from skimage.draw import circle\n",
    "from skimage.measure import label, regionprops\n",
    "from skimage.morphology import binary_dilation, erosion, dilation, opening, binary_closing, closing, white_tophat, remove_small_objects, disk, black_tophat, skeletonize, convex_hull_image\n",
    "from scipy import ndimage as ndi\n",
    "import scipy\n",
    "import trackpy as tp\n",
    "import pylab\n",
    "import math\n",
    "from joblib import Parallel, delayed\n",
    "import multiprocessing\n",
    "from datetime import datetime\n",
    "from tqdm import tnrange\n",
    "import pickle\n",
    "from PIL import Image\n",
    "from tqdm import tnrange\n",
    "import glob\n",
    "import cv2 as cv"
   ]
  },
  {
   "cell_type": "code",
   "execution_count": 2,
   "metadata": {},
   "outputs": [],
   "source": [
    "dataDir = '/Volumes/Fe_ssd02/biteData/190618_KPPTN/190618_KPPTN_crops200-9000/'\n",
    "saveDir = '/Volumes/Fe_ssd02/biteData/190618_KPPTN/190618_KPPTN_analysis/'\n",
    "frames = pims.ImageSequence(dataDir+'/*p074*.png', as_grey=True)"
   ]
  },
  {
   "cell_type": "code",
   "execution_count": 3,
   "metadata": {},
   "outputs": [],
   "source": [
    "frameSize = frames[0].shape\n",
    "BG = np.zeros([frameSize[0], frameSize[1]])\n",
    "BG[:][:] = 10"
   ]
  },
  {
   "cell_type": "code",
   "execution_count": 4,
   "metadata": {},
   "outputs": [],
   "source": [
    "#### get centroid\n",
    "\n",
    "def trackMosq2(i):\n",
    "    selem1 = disk(8)\n",
    "    selem2 = disk(1)\n",
    "    A = np.zeros(frameSize)\n",
    "    A = A + np.invert(frames[i])\n",
    "    B = A - BG\n",
    "    if B.min() > 0:\n",
    "        Bm = B - B.min()\n",
    "    else:\n",
    "        Bm = B\n",
    "    Bt = Bm > 70\n",
    "    Bts = remove_small_objects(Bt, min_size=300)\n",
    "    Be = erosion(Bts, selem2)\n",
    "    Bf = remove_small_objects(Be, min_size=200)\n",
    "    Bc = binary_closing(Bf, selem1)\n",
    "    C = B * Bc\n",
    "    eroded = erosion(C, selem2)\n",
    "    eroded = skimage.filters.gaussian(eroded, 4)\n",
    "    eroded[eroded < 0] = 0\n",
    "    erL = label(eroded>0)\n",
    "    erR = regionprops(erL, C)#, coordinates='xy')\n",
    "    l = 1\n",
    "    for props in erR:\n",
    "        if props.area > 100000:\n",
    "            erL[erL==l] = 0\n",
    "        if props.major_axis_length > 1000:\n",
    "            erL[erL==l] = 0\n",
    "        l = l +1\n",
    "    erLf = label(erL>0)\n",
    "    erodedF = eroded * (erLf > 0)\n",
    "    erRf = regionprops(erLf, C)#, coordinates='xy')\n",
    "    centroids = np.zeros([len(erRf), 2])\n",
    "    numCent = 0\n",
    "    for props in erRf:\n",
    "        centroids[numCent] = props.centroid\n",
    "        numCent += 1\n",
    "#     coordinates = peak_local_max(eroded, min_distance=130, exclude_border=1)\n",
    "#     cS= coordinates.shape; numCoor = cS[0]\n",
    "    cenS= centroids.shape; numCen = cenS[0]\n",
    "    frameNo = i\n",
    "#     frameNoA = np.zeros((numCoor,1), dtype=np.int)\n",
    "    frameNoCen = np.zeros((numCen,1), dtype=np.int)\n",
    "#     frameNoA[:] = frameNo\n",
    "    frameNoCen[:] = frameNo\n",
    "#     coordinatesF = np.hstack((coordinates,frameNoA))\n",
    "    centroidsF = np.hstack((centroids,frameNoCen))\n",
    "#     coordinatesF = np.hstack((coordinates,frameNoA))\n",
    "#     numCoords = coordinatesF.shape[0]\n",
    "    numCents = centroidsF.shape[0]\n",
    "    return centroidsF, numCents\n"
   ]
  },
  {
   "cell_type": "code",
   "execution_count": 5,
   "metadata": {},
   "outputs": [
    {
     "data": {
      "application/vnd.jupyter.widget-view+json": {
       "model_id": "f979af9c980c4394aab23a9d738fceaf",
       "version_major": 2,
       "version_minor": 0
      },
      "text/plain": [
       "HBox(children=(IntProgress(value=0, max=75), HTML(value='')))"
      ]
     },
     "metadata": {},
     "output_type": "display_data"
    },
    {
     "name": "stdout",
     "output_type": "stream",
     "text": [
      "\n"
     ]
    }
   ],
   "source": [
    "bellySizeRR = np.empty([0, 0])\n",
    "\n",
    "### parameters for p074\n",
    "\n",
    "for i in tnrange(5, 600, 8):\n",
    "#     print(i)\n",
    "    centroidsF, numCents = trackMosq2(i)\n",
    "    s = np.linspace(0, 2*np.pi, 400)\n",
    "    x = centroidsF[0,1] + 120*np.cos(s)\n",
    "    y = centroidsF[0,0] + 120*np.sin(s)\n",
    "    init = np.array([x, y]).T\n",
    "    imBTH = skimage.morphology.black_tophat(frames[i], disk(3))\n",
    "    imBT = imBTH > 15\n",
    "    F = frames[i]\n",
    "    F[imBT] = np.median(F)\n",
    "    F = skimage.filters.gaussian(F, 5)\n",
    "    snake = skimage.segmentation.active_contour(F*10, init, alpha=0.015, beta=80, gamma=0.001, w_edge=2)\n",
    "    snakeD = np.expand_dims(snake, axis=1)\n",
    "    rotRect = cv.minAreaRect(snakeD.astype(int))\n",
    "    bellySizeRR = np.append(bellySizeRR, rotRect[1][1])"
   ]
  },
  {
   "cell_type": "code",
   "execution_count": 10,
   "metadata": {},
   "outputs": [
    {
     "data": {
      "text/plain": [
       "<matplotlib.text.Text at 0x1353d6160>"
      ]
     },
     "execution_count": 10,
     "metadata": {},
     "output_type": "execute_result"
    },
    {
     "data": {
      "image/png": "[encoded data removed]",
      "text/plain": [
       "<matplotlib.figure.Figure at 0x13534e668>"
      ]
     },
     "metadata": {
      "needs_background": "light"
     },
     "output_type": "display_data"
    }
   ],
   "source": [
    "bellySizeC = bellySizeRR\n",
    "bellySizeC[bellySizeC < 35] = np.nan\n",
    "initSize = np.nanmean(bellySizeC[0:20])\n",
    "\n",
    "plt.plot(bellySizeRR / initSize)\n",
    "N = 4\n",
    "bellySizeC = bellySizeRR\n",
    "bellySizeC[bellySizeC < 35] = np.nan\n",
    "bellySizeS = np.convolve(bellySizeC, np.ones((N,))/N, mode='valid')\n",
    "plt.plot(bellySizeS / initSize, 'r')\n",
    "plt.ylim([0.9, 1.5])\n",
    "plt.xlabel('time')\n",
    "plt.ylabel('fold expansion')"
   ]
  }
 ],
 "metadata": {
  "kernelspec": {
   "display_name": "bs2",
   "language": "python",
   "name": "bs2"
  },
  "language_info": {
   "codemirror_mode": {
    "name": "ipython",
    "version": 3
   },
   "file_extension": ".py",
   "mimetype": "text/x-python",
   "name": "python",
   "nbconvert_exporter": "python",
   "pygments_lexer": "ipython3",
   "version": "3.6.5"
  },
  "varInspector": {
   "cols": {
    "lenName": 16,
    "lenType": 16,
    "lenVar": 40
   },
   "kernels_config": {
    "python": {
     "delete_cmd_postfix": "",
     "delete_cmd_prefix": "del ",
     "library": "var_list.py",
     "varRefreshCmd": "print(var_dic_list())"
    },
    "r": {
     "delete_cmd_postfix": ") ",
     "delete_cmd_prefix": "rm(",
     "library": "var_list.r",
     "varRefreshCmd": "cat(var_dic_list()) "
    }
   },
   "types_to_exclude": [
    "module",
    "function",
    "builtin_function_or_method",
    "instance",
    "_Feature"
   ],
   "window_display": false
  }
 },
 "nbformat": 4,
 "nbformat_minor": 2
}
