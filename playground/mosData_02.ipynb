{
 "cells": [
  {
   "cell_type": "code",
   "execution_count": 2,
   "metadata": {},
   "outputs": [],
   "source": [
    "'''\n",
    "author: Felix Hol\n",
    "date: 2019 June 4\n",
    "content: code to track mosquitoes, several filtering parameters will need tweaking depending on imaging parameters.\n",
    "'''\n",
    "\n",
    "import numpy as np\n",
    "%matplotlib inline\n",
    "import matplotlib as mpl\n",
    "# mpl.use('TkAgg') ### this is a workaround for a bug when running on macOS, may not be necessary anymore\n",
    "import matplotlib.pyplot as plt\n",
    "import os\n",
    "import itertools as it\n",
    "import pandas as pd\n",
    "from pandas import DataFrame, Series  # for convenience\n",
    "import pims\n",
    "import skimage\n",
    "from skimage import data, io, util\n",
    "from skimage.feature import (canny, match_descriptors, peak_local_max, match_template, corner_peaks, corner_harris, plot_matches, BRIEF)\n",
    "from skimage.color import rgb2gray\n",
    "from skimage.draw import circle\n",
    "from skimage.measure import label, regionprops\n",
    "from skimage.morphology import binary_dilation, erosion, dilation, opening, binary_closing, closing, white_tophat, remove_small_objects, disk, black_tophat, skeletonize, convex_hull_image\n",
    "from scipy import ndimage as ndi\n",
    "import scipy\n",
    "import trackpy as tp\n",
    "import pylab\n",
    "import math\n",
    "from joblib import Parallel, delayed\n",
    "import multiprocessing\n",
    "from datetime import datetime\n",
    "from tqdm import tnrange\n",
    "import pickle\n",
    "import glob\n",
    "import cv2 as cv\n",
    "\n",
    "mpl.rcParams['pdf.fonttype'] = 42\n",
    "mpl.rcParams['ps.fonttype'] = 42"
   ]
  },
  {
   "cell_type": "code",
   "execution_count": 3,
   "metadata": {},
   "outputs": [],
   "source": [
    "dataDir = '/Volumes/Fe_ssd02/biteData/190618_KPPTN/01'\n",
    "saveDir = '/Users/felix/Documents/mosquitoes/mosquitoData/biteData/aegypti/190618_KPPTN/190618_01/crops'\n",
    "frames = pims.ImageSequence(dataDir+'/*.tiff', as_grey=True)"
   ]
  },
  {
   "cell_type": "code",
   "execution_count": 4,
   "metadata": {},
   "outputs": [
    {
     "data": {
      "text/plain": [
       "10858"
      ]
     },
     "execution_count": 4,
     "metadata": {},
     "output_type": "execute_result"
    }
   ],
   "source": [
    "len(frames)"
   ]
  },
  {
   "cell_type": "code",
   "execution_count": 6,
   "metadata": {},
   "outputs": [],
   "source": [
    "t = pickle.load(open('/Users/felix/Documents/mosquitoes/mosquitoData/biteData/aegypti/190618_KPPTN/190618_01/190618_01_KPPTN_ROItracks_r250.pkl', 'rb'))"
   ]
  },
  {
   "cell_type": "code",
   "execution_count": 7,
   "metadata": {},
   "outputs": [
    {
     "data": {
      "text/html": [
       "<div>\n",
       "<style>\n",
       "    .dataframe thead tr:only-child th {\n",
       "        text-align: right;\n",
       "    }\n",
       "\n",
       "    .dataframe thead th {\n",
       "        text-align: left;\n",
       "    }\n",
       "\n",
       "    .dataframe tbody tr th {\n",
       "        vertical-align: top;\n",
       "    }\n",
       "</style>\n",
       "<table border=\"1\" class=\"dataframe\">\n",
       "  <thead>\n",
       "    <tr style=\"text-align: right;\">\n",
       "      <th></th>\n",
       "      <th>y</th>\n",
       "      <th>x</th>\n",
       "      <th>frame</th>\n",
       "      <th>particle</th>\n",
       "    </tr>\n",
       "  </thead>\n",
       "  <tbody>\n",
       "    <tr>\n",
       "      <th>0</th>\n",
       "      <td>0.000000</td>\n",
       "      <td>0.000000</td>\n",
       "      <td>0.0</td>\n",
       "      <td>0.0</td>\n",
       "    </tr>\n",
       "    <tr>\n",
       "      <th>1</th>\n",
       "      <td>227.028638</td>\n",
       "      <td>1717.062006</td>\n",
       "      <td>290.0</td>\n",
       "      <td>1.0</td>\n",
       "    </tr>\n",
       "    <tr>\n",
       "      <th>2</th>\n",
       "      <td>230.164769</td>\n",
       "      <td>1717.459557</td>\n",
       "      <td>291.0</td>\n",
       "      <td>1.0</td>\n",
       "    </tr>\n",
       "    <tr>\n",
       "      <th>3</th>\n",
       "      <td>229.519110</td>\n",
       "      <td>1721.314101</td>\n",
       "      <td>292.0</td>\n",
       "      <td>1.0</td>\n",
       "    </tr>\n",
       "    <tr>\n",
       "      <th>4</th>\n",
       "      <td>236.166317</td>\n",
       "      <td>1720.201520</td>\n",
       "      <td>293.0</td>\n",
       "      <td>1.0</td>\n",
       "    </tr>\n",
       "  </tbody>\n",
       "</table>\n",
       "</div>"
      ],
      "text/plain": [
       "            y            x  frame  particle\n",
       "0    0.000000     0.000000    0.0       0.0\n",
       "1  227.028638  1717.062006  290.0       1.0\n",
       "2  230.164769  1717.459557  291.0       1.0\n",
       "3  229.519110  1721.314101  292.0       1.0\n",
       "4  236.166317  1720.201520  293.0       1.0"
      ]
     },
     "execution_count": 7,
     "metadata": {},
     "output_type": "execute_result"
    }
   ],
   "source": [
    "t.head()"
   ]
  },
  {
   "cell_type": "code",
   "execution_count": 8,
   "metadata": {},
   "outputs": [],
   "source": [
    "def cropMosAndBelly02(p, t):\n",
    "    frameWidth = 2048\n",
    "    frameHeigth = 2048\n",
    "    ROIwidth = 550\n",
    "    ROIheigth = 550\n",
    "    halfROIwidth = ROIwidth / 2\n",
    "    halfROIheigth = ROIheigth / 2\n",
    "\n",
    "    tP = t.loc[t['particle'] == p]\n",
    "    if len(tP) > 2000:\n",
    "        tP = tP[:2000]\n",
    "    s = np.linspace(0, 2*np.pi, 400)\n",
    "    bellySizeRR = np.empty([0, 0])\n",
    "    snakeArea = np.empty([0, 0])\n",
    "    for index, row in tP.iterrows():\n",
    "        if row['x'] < halfROIwidth:\n",
    "            x_start = 0\n",
    "            x_stop = ROIwidth\n",
    "            newX = row.x\n",
    "        elif row['x'] + halfROIwidth > frameWidth:\n",
    "            x_start = frameWidth - ROIwidth\n",
    "            x_stop = frameWidth\n",
    "            newX = halfROIwidth + (halfROIwidth - (frameWidth - row.x))\n",
    "        else:\n",
    "            x_start = row['x'] - halfROIwidth\n",
    "            x_stop = row['x'] + halfROIwidth\n",
    "            newX = halfROIwidth\n",
    "        if row['y'] < halfROIwidth:\n",
    "            y_start = 0\n",
    "            y_stop = ROIwidth\n",
    "            newY = row.y\n",
    "        elif row['y'] + halfROIwidth > frameWidth:\n",
    "            y_start = frameWidth - ROIwidth\n",
    "            y_stop = frameWidth\n",
    "            newY = halfROIheigth + (halfROIheigth - (frameHeigth - row.y))\n",
    "        else:\n",
    "            y_start = row['y'] - halfROIwidth\n",
    "            y_stop = row['y'] + halfROIwidth\n",
    "            newY = halfROIheigth\n",
    "        currFrame = frames[row['frame']]\n",
    "        currROI = currFrame[int(y_start):int(y_stop), int(x_start):int(x_stop)]\n",
    "        skimage.io.imsave(\"crop_p\" + str(int(p)).zfill(3) + \"_f\" + str(int(row['frame'])).zfill(6) + \".png\", currROI)\n",
    "\n",
    "        x = newX + 100*np.cos(s)\n",
    "        y = newY + 100*np.sin(s)\n",
    "        init = np.array([x, y]).T\n",
    "        imBTH = skimage.morphology.black_tophat(currROI, disk(4))\n",
    "        imBT = imBTH > 7\n",
    "        # imBTE = erosion(imBT, disk(1))\n",
    "        # imBTED = binary_dilation(imBT, disk(2))\n",
    "        # imBTES = remove_small_objects(imBTED, min_size=200)\n",
    "        F = np.copy(currROI)\n",
    "        F[F > np.median(currROI)] = np.median(currROI)\n",
    "        F[imBT] = np.median(F)\n",
    "        F[currROI>70] = np.median(F)\n",
    "        F = skimage.filters.gaussian(F, 4)\n",
    "        snake = skimage.segmentation.active_contour(F*20, init, alpha=0.5, beta=8, gamma=0.001, w_edge=1, w_line=0)\n",
    "        snakeD = np.expand_dims(snake, axis=1)\n",
    "        rotRect = cv.minAreaRect(snakeD.astype(int))\n",
    "    #         bellySizeRR = np.min(rotRect[1])\n",
    "        bellySizeRR = np.append(bellySizeRR, np.min(rotRect[1]))\n",
    "        snakeArea = np.append(snakeArea, cv.contourArea(snakeD.astype(int)))\n",
    "    return bellySizeRR, snakeArea"
   ]
  },
  {
   "cell_type": "code",
   "execution_count": 10,
   "metadata": {},
   "outputs": [],
   "source": [
    "def analyzeMos(j, t):\n",
    "    mosData = pd.DataFrame(columns=['p','totDist','totTime','meanSpeed','bellyWExp','bellyWidthT', 'bellyAExp', 'bellyAreaT'])\n",
    "    p = t.loc[t['particle'] == j]\n",
    "    d = 0\n",
    "    for i in range(1, len(p) - 2):\n",
    "        d = d + math.sqrt((p.iloc[i + 1].x - p.iloc[i].x) ** 2 + (p.iloc[i + 1].y - p.iloc[i].y) ** 2)\n",
    "    D = d\n",
    "    V = D / (len(p) - 2)\n",
    "    [bellyWidth, bellyArea] = cropMosAndBelly02(j, t)\n",
    "    initSizeW = np.nanmean(bellyWidth[0:15])\n",
    "    bellyWidthExpansion = np.percentile(bellyWidth / initSizeW, 95)\n",
    "    initSizeA = np.nanmean(bellyArea[0:15])\n",
    "    bellyAreaExpansion = np.percentile(bellyArea / initSizeA, 95)\n",
    "    \n",
    "    mosData = mosData.append({'p': j,\n",
    "                   'totDist': D,\n",
    "                    'totTime': len(p),\n",
    "                   'meanSpeed': V,\n",
    "                   'bellyWExp': bellyWidthExpansion,\n",
    "                    'bellyWidthT': bellyWidth, \n",
    "                    'bellyAExp': bellyAreaExpansion,\n",
    "                    'bellyAreaT': bellyArea},\n",
    "                    ignore_index=True)\n",
    "    mosData.to_pickle('/Users/felix/Documents/mosquitoes/mosquitoData/biteData/aegypti/190618_KPPTN/190618_01/mosData190618_01_' + str(j) + '.pkl')\n",
    "  "
   ]
  },
  {
   "cell_type": "code",
   "execution_count": 11,
   "metadata": {},
   "outputs": [
    {
     "data": {
      "text/plain": [
       "array([  1.,   2.,  17.,  20.,  21.,  25.,  29.,  30.,  39.,  41.,  44.,\n",
       "        51.,  56.,  57.,  62.,  65.,  66.,  69.,  70.,  73.,  74.,  75.,\n",
       "        76.,  78.,  82.,  87.,  95.,  97.,  98., 101., 104., 107., 108.,\n",
       "       111., 114., 127., 136., 138., 139., 140., 142., 145., 146., 148.,\n",
       "       158., 161., 163., 165., 181., 183., 184., 185., 200., 202.])"
      ]
     },
     "execution_count": 11,
     "metadata": {},
     "output_type": "execute_result"
    }
   ],
   "source": [
    "tFilt = tp.filter_stubs(t, 10)\n",
    "tFilt.particle.unique()"
   ]
  },
  {
   "cell_type": "code",
   "execution_count": null,
   "metadata": {},
   "outputs": [],
   "source": [
    "tFilt.particle.unique()"
   ]
  },
  {
   "cell_type": "code",
   "execution_count": null,
   "metadata": {},
   "outputs": [],
   "source": [
    "os.chdir(saveDir)\n",
    "\n",
    "mosToAnalyze = tFilt.particle.unique()\n",
    "# mosToAnalyze = [100.0, 125.0, 128.0, 135.0, 140.0, 148.0, 149.0, 150.0]\n",
    "\n",
    "\n",
    "\n",
    "num_cores = multiprocessing.cpu_count()\n",
    "Parallel(n_jobs=num_cores)(delayed(analyzeMos)(i, t) for i in mosToAnalyze)"
   ]
  },
  {
   "cell_type": "code",
   "execution_count": null,
   "metadata": {},
   "outputs": [],
   "source": [
    "pklList = glob.glob('/Users/felix/Documents/mosquitoes/mosquitoData/biteData/aegypti/190618_KPPTN/mosData*.pkl')\n",
    "\n",
    "mosDataAll = pd.DataFrame(columns=['p','totDist','totTime','meanSpeed','bellyWExp','bellyWidthT', 'bellyAExp', 'bellyAreaT'])\n",
    "\n",
    "for i in pklList:\n",
    "    mD = pd.read_pickle(i)\n",
    "    mosDataAll = mosDataAll.append(mD, ignore_index=True)"
   ]
  },
  {
   "cell_type": "code",
   "execution_count": null,
   "metadata": {},
   "outputs": [],
   "source": [
    "mosDataAll[\"totTime\"] = pd.to_numeric(mosDataAll[\"totTime\"])"
   ]
  },
  {
   "cell_type": "code",
   "execution_count": null,
   "metadata": {},
   "outputs": [],
   "source": [
    "mosDataAll.dtypes"
   ]
  },
  {
   "cell_type": "code",
   "execution_count": null,
   "metadata": {},
   "outputs": [],
   "source": [
    "len(mosDataAll)"
   ]
  },
  {
   "cell_type": "code",
   "execution_count": null,
   "metadata": {
    "scrolled": false
   },
   "outputs": [],
   "source": [
    "mosDataAll.head()"
   ]
  },
  {
   "cell_type": "code",
   "execution_count": null,
   "metadata": {},
   "outputs": [],
   "source": [
    "mosDataAll.hist( figsize=(10,7), bins=45)"
   ]
  },
  {
   "cell_type": "code",
   "execution_count": null,
   "metadata": {},
   "outputs": [],
   "source": [
    "plt.loglog(mosDataAll.totTime, mosDataAll.totDist, '.r')"
   ]
  },
  {
   "cell_type": "code",
   "execution_count": null,
   "metadata": {
    "scrolled": true
   },
   "outputs": [],
   "source": [
    "#### create engorged column: 0: did not engorge, 1: did engorge, 2: already engorged at start of track\n",
    "\n",
    "mosDataE = mosDataAll.copy()\n",
    "mosDataE[\"engorged\"] = ''\n",
    "mosDataE[\"engorgementTime\"] = ''\n",
    "areaThreshold = 4750\n",
    "engorgementIncrease = 1.3\n",
    "\n",
    "for i in range(0, len(mosDataE)):\n",
    "#     print(np.percentile(mosDataAll.iloc[i].bellyAreaT[0:3000], 90) / np.percentile(mosDataAll.iloc[i].bellyAreaT[0:3000], 5))\n",
    "#     if np.percentile(mosDataE.iloc[i].bellyAreaT, 5) > areaThreshold:\n",
    "    if np.percentile(mosDataE.iloc[i].bellyAreaT[0:10], 80) > areaThreshold:\n",
    "        mosDataE.at[i, 'engorged'] = 2\n",
    "        mosDataE.at[i, 'engorgementTime'] = np.nan\n",
    "    else:\n",
    "        if len(mosDataAll.iloc[i].bellyAreaT) > 30 and np.percentile(mosDataAll.iloc[i].bellyAreaT[0:3000], 90) > 3500 and np.percentile(mosDataAll.iloc[i].bellyAreaT[0:3000], 90) / np.percentile(mosDataAll.iloc[i].bellyAreaT[0:3000], 5) > engorgementIncrease:\n",
    "#             print(np.percentile(mosDataAll.iloc[i].bellyAreaT[0:3000], 90) / np.percentile(mosDataAll.iloc[i].bellyAreaT[0:3000], 5))\n",
    "            mosDataE.at[i, 'engorged'] = 1\n",
    "            mosDataE.at[i, 'engorgementTime'] = np.where(mosDataE.iloc[i].bellyAreaT[10:] > np.percentile(mosDataE.iloc[i].bellyAreaT, 90))[0][0]\n",
    "        else:\n",
    "            mosDataE.at[i, 'engorged'] = 0\n",
    "            mosDataE.at[i, 'engorgementTime'] = np.nan\n",
    "        \n",
    "  "
   ]
  },
  {
   "cell_type": "code",
   "execution_count": null,
   "metadata": {},
   "outputs": [],
   "source": [
    "#### create engorged column: 0: did not engorge, 1: did engorge, 2: already engorged at start of track\n",
    "\n",
    "mosDataE = mosDataAll.copy()\n",
    "mosDataE[\"engorged\"] = ''\n",
    "mosDataE[\"engorgementTime\"] = ''\n",
    "areaThreshold = 4750\n",
    "engorgementIncrease = 1.3\n",
    "\n",
    "for i in range(0, len(mosDataE)):\n",
    "    belly = np.copy(mosDataE.iloc[i].bellyAreaT)\n",
    "    belly[belly < 1800] = np.nan\n",
    "    belly[belly > 6500] = np.nan\n",
    "#     print(np.percentile(mosDataAll.iloc[i].bellyAreaT[0:3000], 90) / np.percentile(mosDataAll.iloc[i].bellyAreaT[0:3000], 5))\n",
    "#     if np.percentile(mosDataE.iloc[i].bellyAreaT, 5) > areaThreshold:\n",
    "    if np.nanpercentile(belly[0:50], 80) > areaThreshold:\n",
    "        mosDataE.at[i, 'engorged'] = 2\n",
    "        mosDataE.at[i, 'engorgementTime'] = np.nan\n",
    "    else:\n",
    "        if len(belly) > 30 and np.nanpercentile(belly[0:3000], 90) > 4000 and np.nanpercentile(belly[0:3000], 90) / np.nanpercentile(belly, 5) > engorgementIncrease:\n",
    "#             print(np.percentile(mosDataAll.iloc[i].bellyAreaT[0:3000], 90) / np.percentile(mosDataAll.iloc[i].bellyAreaT[0:3000], 5))\n",
    "            mosDataE.at[i, 'engorged'] = 1\n",
    "            mosDataE.at[i, 'engorgementTime'] = np.where(belly[10:] > np.nanpercentile(belly, 90))[0][0]\n",
    "        else:\n",
    "            mosDataE.at[i, 'engorged'] = 0\n",
    "            mosDataE.at[i, 'engorgementTime'] = np.nan\n",
    "        \n",
    "  "
   ]
  },
  {
   "cell_type": "code",
   "execution_count": null,
   "metadata": {},
   "outputs": [],
   "source": [
    "mosDataE = pickle.load(open('/Users/felix/Documents/mosquitoes/mosquitoData/biteData/aegypti/190618_KPPTN/190618_01/190618_01_mosDataE.pkl', 'rb'))"
   ]
  },
  {
   "cell_type": "code",
   "execution_count": null,
   "metadata": {},
   "outputs": [],
   "source": [
    "mosDataE.loc[mosDataE.engorged == 1]"
   ]
  },
  {
   "cell_type": "code",
   "execution_count": null,
   "metadata": {},
   "outputs": [],
   "source": [
    "plt.plot( np.concatenate(mosDataAll.loc[mosDataAll['p'] == 63.0].bellyAreaT.values).astype(None))\n",
    "plt.xlim([-10, 1000])\n",
    "plt.ylim([1000, 8000])"
   ]
  },
  {
   "cell_type": "code",
   "execution_count": null,
   "metadata": {},
   "outputs": [],
   "source": [
    "mosDataE.loc[mosDataE['p'] == 149.0]"
   ]
  },
  {
   "cell_type": "code",
   "execution_count": null,
   "metadata": {},
   "outputs": [],
   "source": [
    "mosDataE.loc[mosDataE.engorged == 1]"
   ]
  },
  {
   "cell_type": "code",
   "execution_count": null,
   "metadata": {},
   "outputs": [],
   "source": [
    "mosDataE.loc[mosDataE.engorged == 2]"
   ]
  },
  {
   "cell_type": "code",
   "execution_count": null,
   "metadata": {},
   "outputs": [],
   "source": [
    "mosDataE = mosDataE.sort_values(by=['p'])\n",
    "mosDataE.head()"
   ]
  },
  {
   "cell_type": "code",
   "execution_count": null,
   "metadata": {
    "scrolled": true
   },
   "outputs": [],
   "source": [
    "mosDataE"
   ]
  },
  {
   "cell_type": "code",
   "execution_count": null,
   "metadata": {},
   "outputs": [],
   "source": [
    "mosDataE.to_pickle(saveDir + '190618_mosDataE.pkl')"
   ]
  },
  {
   "cell_type": "code",
   "execution_count": null,
   "metadata": {},
   "outputs": [],
   "source": []
  },
  {
   "cell_type": "code",
   "execution_count": null,
   "metadata": {},
   "outputs": [],
   "source": [
    "os.chdir(saveDir)\n",
    "# mosToAnalyze = tFilt.particle.unique()\n",
    "mosToAnalyze = [13.0]\n",
    "mosData = pd.DataFrame(columns=['p','totDist','totTime','meanSpeed','bellyWExp','bellyWidthT', 'bellyAExp', 'bellyAreaT'])\n",
    "\n",
    "for j in  mosToAnalyze:\n",
    "    p = t.loc[t['particle'] == j]\n",
    "    d = 0\n",
    "    for i in range(1, len(p) - 2):\n",
    "        d = d + math.sqrt((p.iloc[i + 1].x - p.iloc[i].x) ** 2 + (p.iloc[i + 1].y - p.iloc[i].y) ** 2)\n",
    "    D = d\n",
    "    V = D / (len(p) - 2)\n",
    "    [bellyWidth, bellyArea] = cropMosAndBelly02(j, t)\n",
    "#     bellySizeC = bellyWidth\n",
    "#     bellySizeC[bellySizeC < 15] = np.nan\n",
    "#     bellySizeC[bellySizeC > 70] = np.nan\n",
    "    initSizeW = np.nanmean(bellyWidth[0:15])\n",
    "    bellyWidthExpansion = np.percentile(bellyWidth / initSizeW, 95)\n",
    "    initSizeA = np.nanmean(bellyArea[0:15])\n",
    "    bellyAreaExpansion = np.percentile(bellyArea / initSizeA, 95)\n",
    "    \n",
    "    mosData = mosData.append({'p': j,\n",
    "                   'totDist': D,\n",
    "                    'totTime': len(p),\n",
    "                   'meanSpeed': V,\n",
    "                   'bellyWExp': bellyWidthExpansion,\n",
    "                    'bellyWidthT': bellyWidth, \n",
    "                    'bellyAExp': bellyAreaExpansion,\n",
    "                    'bellyAreaT': bellyArea},\n",
    "                    ignore_index=True)\n",
    "#     mosData.to_pickle('/Users/felix/Documents/mosquitoes/mosquitoData/biteData/aegypti/190625_KPPTN/mosDataTest' + str(j) + '.pkl')\n",
    "    "
   ]
  },
  {
   "cell_type": "code",
   "execution_count": null,
   "metadata": {},
   "outputs": [],
   "source": [
    "mosData.head()"
   ]
  },
  {
   "cell_type": "code",
   "execution_count": null,
   "metadata": {},
   "outputs": [],
   "source": [
    "color=plt.cm.rainbow(np.linspace(0,1,len(mosDataAll)))"
   ]
  },
  {
   "cell_type": "code",
   "execution_count": null,
   "metadata": {},
   "outputs": [],
   "source": [
    "len(mosDataAll.iloc[i-1].bellyAreaT)"
   ]
  },
  {
   "cell_type": "code",
   "execution_count": null,
   "metadata": {},
   "outputs": [],
   "source": [
    "plt.figure(figsize=(15,9))\n",
    "\n",
    "color=iter(plt.cm.rainbow(np.linspace(0,1, len(mosDataAll))))\n",
    "\n",
    "N = 30\n",
    "\n",
    "for i in range(1, len(mosDataAll)):\n",
    "    c=next(color)\n",
    "    bellySizeC = np.copy(mosDataAll.iloc[i-1].bellyAreaT)\n",
    "#     bellySizeC[bellySizeC < 15] = np.nan\n",
    "#     bellySizeC[bellySizeC > 70] = np.nan\n",
    "#     initSize = np.nanmean(bellySizeC[0:35])\n",
    "    bellySizeS = np.convolve(bellySizeC, np.ones((N,))/N, mode='valid')\n",
    "    plt.plot(bellySizeC , c=c, alpha=0.25)\n",
    "    plt.plot(bellySizeS , c=c, alpha=0.95, label='mosquito %s' % mosDataAll.iloc[i-1].p)\n",
    "    \n",
    "# plt.legend()\n",
    "# plt.xlim([0,1500])\n",
    "# plt.ylim([2000, 8000])\n",
    "\n",
    "\n",
    "# bellySizeC = bellySizeRRp\n",
    "# bellySizeC[bellySizeC < 15] = np.nan\n",
    "# bellySizeC[bellySizeC > 70] = np.nan\n",
    "# initSize = np.nanmean(bellySizeC[0:35])\n",
    "\n",
    "# plt.plot(t[0:-Nmin1], bellySizeRRp[0:-Nmin1] / initSize, 'm', alpha=0.3, label='_nolegend_')\n",
    "# bellySizeS = np.convolve(bellySizeC, np.ones((N,))/N, mode='valid')\n",
    "# plt.plot(t[int(N/2):-NminHalf], bellySizeS / initSize, 'm', linewidth=3)"
   ]
  },
  {
   "cell_type": "code",
   "execution_count": null,
   "metadata": {},
   "outputs": [],
   "source": [
    "mosDataAll.iloc[i-1].totTime > 20"
   ]
  },
  {
   "cell_type": "code",
   "execution_count": null,
   "metadata": {
    "scrolled": false
   },
   "outputs": [],
   "source": [
    "plt.figure(figsize=(15,9))\n",
    "\n",
    "color=iter(plt.cm.rainbow(np.linspace(0,1, len(mosDataAll))))\n",
    "\n",
    "for i in range(1, len(mosDataAll)):\n",
    "    c=next(color)\n",
    "    if mosDataAll.iloc[i-1].totTime > 200:\n",
    "        mosDataAll.iloc[i-1].bellyAreaT\n",
    "        plt.plot(mosDataAll.iloc[i-1].bellyAreaT, c=c, alpha=0.75, label='mosquito %s' % mosDataAll.iloc[i-1].p)\n",
    "\n",
    "plt.legend()\n",
    "plt.xlim([0,2000])\n",
    "plt.ylim([200, 8000])\n"
   ]
  },
  {
   "cell_type": "code",
   "execution_count": null,
   "metadata": {},
   "outputs": [],
   "source": [
    "plt.plot( np.concatenate(mosDataAll.loc[mosDataAll['p'] == 10.0].bellyAreaT.values).astype(None))\n",
    "\n",
    "# plt.xlim([0,1500])\n",
    "# plt.ylim([20, 70])\n",
    "# plt.xlim([-100,3000])\n",
    "# plt.ylim([1000, 8000])"
   ]
  },
  {
   "cell_type": "code",
   "execution_count": null,
   "metadata": {},
   "outputs": [],
   "source": [
    "####create background image\n",
    "\n",
    "start = 1\n",
    "stop = len(frames) - 15000\n",
    "step = math.floor(len(frames)/20)\n",
    "\n",
    "numBGframes = int(np.ceil((stop - start) /step) + 1)\n",
    "frameSize = frames[1].shape\n",
    "BG = np.zeros([frameSize[0], frameSize[1], numBGframes])\n",
    "\n",
    "j = 1\n",
    "for i in range(start, stop, step):\n",
    "    j += 1\n",
    "    BG[:, :, j - 1] = np.invert(frames[i])    \n",
    "\n",
    "BG = np.median(BG, axis=2)"
   ]
  },
  {
   "cell_type": "code",
   "execution_count": null,
   "metadata": {},
   "outputs": [],
   "source": [
    "plt.figure(figsize=(25,10))\n",
    "plt.imshow(BG)"
   ]
  },
  {
   "cell_type": "code",
   "execution_count": null,
   "metadata": {},
   "outputs": [],
   "source": [
    "os.chdir('/Users/felix/Documents/mosquitoes/mosquitoData/biteData/albopictus/190625_albopictus_crops/')\n",
    "mosToCrop = tFilt.particle.unique()\n",
    "\n",
    "num_cores = multiprocessing.cpu_count()\n",
    "Parallel(n_jobs=num_cores)(delayed(cropMos)(i, t) for i in mosToCrop)"
   ]
  },
  {
   "cell_type": "code",
   "execution_count": null,
   "metadata": {},
   "outputs": [],
   "source": [
    "#### get centroid and head coordinates\n",
    "\n",
    "def trackMosq2(i):\n",
    "    selem1 = disk(8)\n",
    "    selem2 = disk(1)\n",
    "    A = np.zeros(frameSize)\n",
    "    A = A + np.invert(frames[i])\n",
    "    B = A - BG\n",
    "    if B.min() > 0:\n",
    "        Bm = B - B.min()\n",
    "    else:\n",
    "        Bm = B\n",
    "    Bt = Bm > 100\n",
    "    Bts = remove_small_objects(Bt, min_size=400)\n",
    "    Be = erosion(Bts, selem2)\n",
    "    Bf = remove_small_objects(Be, min_size=300)\n",
    "    Bc = binary_closing(Bf, selem1)\n",
    "    C = B * Bc\n",
    "    eroded = erosion(C, selem2)\n",
    "    eroded = skimage.filters.gaussian(eroded, 4)\n",
    "    eroded[eroded < 0] = 0\n",
    "    erL = label(eroded>0)\n",
    "    erR = regionprops(erL, C)#, coordinates='xy')\n",
    "    l = 1\n",
    "    for props in erR:\n",
    "        if props.area > 100000:\n",
    "            erL[erL==l] = 0\n",
    "        if props.major_axis_length > 1000:\n",
    "            erL[erL==l] = 0\n",
    "        l = l +1\n",
    "    erLf = label(erL>0)\n",
    "    erodedF = eroded * (erLf > 0)\n",
    "    erRf = regionprops(erLf, C)#, coordinates='xy')\n",
    "    centroids = np.zeros([len(erRf), 2])\n",
    "    numCent = 0\n",
    "    for props in erRf:\n",
    "        centroids[numCent] = props.centroid\n",
    "        numCent += 1\n",
    "#     coordinates = peak_local_max(eroded, min_distance=130, exclude_border=1)\n",
    "#     cS= coordinates.shape; numCoor = cS[0]\n",
    "    cenS= centroids.shape; numCen = cenS[0]\n",
    "    frameNo = i\n",
    "#     frameNoA = np.zeros((numCoor,1), dtype=np.int)\n",
    "    frameNoCen = np.zeros((numCen,1), dtype=np.int)\n",
    "#     frameNoA[:] = frameNo\n",
    "    frameNoCen[:] = frameNo\n",
    "#     coordinatesF = np.hstack((coordinates,frameNoA))\n",
    "    centroidsF = np.hstack((centroids,frameNoCen))\n",
    "#     coordinatesF = np.hstack((coordinates,frameNoA))\n",
    "#     numCoords = coordinatesF.shape[0]\n",
    "    numCents = centroidsF.shape[0]\n",
    "    return centroidsF, numCents\n",
    "\n",
    "#     return centroidsF, coordinatesF, numCents, numCoords\n"
   ]
  },
  {
   "cell_type": "code",
   "execution_count": null,
   "metadata": {},
   "outputs": [],
   "source": [
    "#####testing....\n",
    "i = 1216\n",
    "centroidsF, numCents = trackMosq2(i)\n",
    "plt.figure(figsize=(18,12))\n",
    "plt.imshow(frames[i], cmap = 'gray')\n",
    "# plt.imshow(eroded)\n",
    "# plt.plot(coordinatesF[:,1],coordinatesF[:,0],'r.')\n",
    "plt.plot(centroidsF[:,1],centroidsF[:,0],'r.')"
   ]
  },
  {
   "cell_type": "code",
   "execution_count": null,
   "metadata": {},
   "outputs": [],
   "source": [
    "def cropMosAndBelly(p, t):\n",
    "    \n",
    "    frameWidth = 2048\n",
    "    frameHeigth = 2048\n",
    "    ROIwidth = 550\n",
    "    ROIheigth = 550\n",
    "    halfROIwidth = ROIwidth / 2\n",
    "    halfROIheigth = ROIheigth / 2\n",
    "    timeStepBelly = 10\n",
    "    \n",
    "    tP = t.loc[t['particle'] == p]\n",
    "    s = np.linspace(0, 2*np.pi, 400)\n",
    "    bellySizeRR = np.empty([0, 0])\n",
    "    snakeArea = np.empty([0, 0])\n",
    "    for index, row in tP.iterrows():\n",
    "        if row['x'] < halfROIwidth:\n",
    "            x_start = 0\n",
    "            x_stop = ROIwidth\n",
    "        elif row['x'] + halfROIwidth > frameWidth:\n",
    "            x_start = frameWidth - ROIwidth\n",
    "            x_stop = frameWidth\n",
    "        else:\n",
    "            x_start = row['x'] - halfROIwidth\n",
    "            x_stop = row['x'] + halfROIwidth\n",
    "        if row['y'] < halfROIwidth:\n",
    "            y_start = 0\n",
    "            y_stop = ROIwidth\n",
    "        elif row['y'] + halfROIwidth > frameWidth:\n",
    "            y_start = frameWidth - ROIwidth\n",
    "            y_stop = frameWidth\n",
    "        else:\n",
    "            y_start = row['y'] - halfROIwidth\n",
    "            y_stop = row['y'] + halfROIwidth\n",
    "        currFrame = frames[row['frame']]\n",
    "        currROI = currFrame[int(y_start):int(y_stop), int(x_start):int(x_stop)]\n",
    "        skimage.io.imsave(\"crop_p\" + str(int(p)).zfill(3) + \"_f\" + str(int(row['frame'])).zfill(6) + \".png\", currROI)\n",
    "        \n",
    "        if index % timeStepBelly == 0:\n",
    "            x = row['x'] + 100*np.cos(s)\n",
    "            y = row['y'] + 100*np.sin(s)\n",
    "            init = np.array([x, y]).T\n",
    "            imBTH = skimage.morphology.black_tophat(frames[row.frame], disk(4))\n",
    "            imBT = imBTH > 7\n",
    "            # imBTE = erosion(imBT, disk(1))\n",
    "            # imBTED = binary_dilation(imBT, disk(2))\n",
    "            # imBTES = remove_small_objects(imBTED, min_size=200)\n",
    "            F = frames[row.frame]\n",
    "            F[F > np.median(frames[row.frame])] = np.median(frames[row.frame])\n",
    "            F[imBT] = np.median(F)\n",
    "            F[frames[row.frame]>70] = np.median(F)\n",
    "            F = skimage.filters.gaussian(F, 4)\n",
    "            snake = skimage.segmentation.active_contour(F*30, init, alpha=0.15, beta=8, gamma=0.001, w_edge=1, w_line=-0.1)\n",
    "            snakeD = np.expand_dims(snake, axis=1)\n",
    "            rotRect = cv.minAreaRect(snakeD.astype(int))\n",
    "    #         bellySizeRR = np.min(rotRect[1])\n",
    "            bellySizeRR = np.append(bellySizeRR, np.min(rotRect[1]))\n",
    "            snakeArea = np.append(snakeArea, cv.contourArea(snakeD.astype(int)))\n",
    "    return bellySizeRR, snakeArea\n",
    "\n"
   ]
  },
  {
   "cell_type": "code",
   "execution_count": null,
   "metadata": {},
   "outputs": [],
   "source": [
    "num_cores = multiprocessing.cpu_count()\n",
    "results = Parallel(n_jobs=num_cores)(delayed(trackMosq2)(i) for i in tnrange(1, 1500))"
   ]
  },
  {
   "cell_type": "code",
   "execution_count": null,
   "metadata": {},
   "outputs": [],
   "source": [
    "centroidsAllT = np.zeros((1,3))\n",
    "\n",
    "for i in range(len(results)):\n",
    "    centroidsAllT = np.vstack((centroidsAllT,results[i][0]))"
   ]
  },
  {
   "cell_type": "code",
   "execution_count": null,
   "metadata": {},
   "outputs": [],
   "source": [
    "plt.figure(figsize=(18,12))\n",
    "plt.imshow(frames[1000], cmap = 'gray')\n",
    "# plt.imshow(eroded)\n",
    "# plt.plot(coordinatesF[:,1],coordinatesF[:,0],'r.')\n",
    "plt.plot(centroidsAllT[:,1],centroidsAllT[:,0],'r.')"
   ]
  },
  {
   "cell_type": "code",
   "execution_count": null,
   "metadata": {},
   "outputs": [],
   "source": [
    "os.chdir(saveDir)\n",
    "with open('190625_KPPTN_01_Cent.pkl', 'wb') as f:\n",
    "    pickle.dump(centroidsAllT, f)"
   ]
  },
  {
   "cell_type": "code",
   "execution_count": null,
   "metadata": {},
   "outputs": [],
   "source": [
    "os.chdir(saveDir)\n",
    "with open('190625_KPPTN_01_Cent.pkl', 'rb') as f:\n",
    "    centroidsAllT = pickle.load(f)"
   ]
  },
  {
   "cell_type": "code",
   "execution_count": null,
   "metadata": {
    "scrolled": true
   },
   "outputs": [],
   "source": [
    "centroidsAllT"
   ]
  },
  {
   "cell_type": "code",
   "execution_count": null,
   "metadata": {},
   "outputs": [],
   "source": [
    "os.chdir(saveDir)\n",
    "pickleList = glob.glob('*.pkl')\n",
    "centroidsAllCat = np.zeros((1,3))\n",
    "\n",
    "for i in pickleList:\n",
    "    with open(i, \"rb\") as input_file:\n",
    "        centroidsI = pickle.load(input_file)\n",
    "    centroidsAllCat = np.vstack((centroidsAllCat, centroidsI))"
   ]
  },
  {
   "cell_type": "code",
   "execution_count": null,
   "metadata": {},
   "outputs": [],
   "source": [
    "df_cenAllT = pd.DataFrame(centroidsAllT)\n",
    "df_cenAllT = df_cenAllT.rename(columns={0: \"y\", 1: \"x\", 2: \"frame\"})\n",
    "df_cenAllT.head()"
   ]
  },
  {
   "cell_type": "code",
   "execution_count": null,
   "metadata": {},
   "outputs": [],
   "source": [
    "t = tp.link_df(df_cenAllT, 500, memory=4)"
   ]
  },
  {
   "cell_type": "code",
   "execution_count": null,
   "metadata": {},
   "outputs": [],
   "source": [
    "plt.figure(figsize=(25,10))\n",
    "plt.imshow(frames[200], cmap='gray')\n",
    "plt.plot(centroidsAllT[:,1],centroidsAllT[:,0],'r.',alpha=0.5, markersize=10)\n",
    "tp.plot_traj(t, plot_style={'linewidth':'2.0'})"
   ]
  },
  {
   "cell_type": "code",
   "execution_count": null,
   "metadata": {},
   "outputs": [],
   "source": [
    "os.chdir(saveDir)\n",
    "t.to_pickle('190625_KPPTN_01_tracks.pkl')"
   ]
  },
  {
   "cell_type": "code",
   "execution_count": null,
   "metadata": {},
   "outputs": [],
   "source": [
    "t.head()"
   ]
  },
  {
   "cell_type": "code",
   "execution_count": null,
   "metadata": {},
   "outputs": [],
   "source": [
    "tFilt = tp.filter_stubs(t, 10)\n",
    "tFilt.particle.unique()"
   ]
  },
  {
   "cell_type": "code",
   "execution_count": null,
   "metadata": {},
   "outputs": [],
   "source": [
    "tFilt.head()"
   ]
  },
  {
   "cell_type": "code",
   "execution_count": null,
   "metadata": {},
   "outputs": [],
   "source": [
    "plt.figure(figsize=(25,10))\n",
    "plt.imshow(frames[200], cmap='gray')\n",
    "plt.plot(centroidsAllT[:,1],centroidsAllT[:,0],'r.',alpha=0.5, markersize=10)\n",
    "tp.plot_traj(tFilt, plot_style={'linewidth':'2.0'})"
   ]
  },
  {
   "cell_type": "code",
   "execution_count": null,
   "metadata": {},
   "outputs": [],
   "source": [
    "len(tFilt)"
   ]
  },
  {
   "cell_type": "code",
   "execution_count": null,
   "metadata": {},
   "outputs": [],
   "source": [
    "len(tFilt.loc[tFilt['particle'] == 49.0])"
   ]
  },
  {
   "cell_type": "code",
   "execution_count": null,
   "metadata": {},
   "outputs": [],
   "source": [
    "for i in tFilt.particle.unique():\n",
    "    plt.plot(i, len(tFilt.loc[tFilt['particle'] == i]), '.r')"
   ]
  },
  {
   "cell_type": "code",
   "execution_count": null,
   "metadata": {},
   "outputs": [],
   "source": [
    "d"
   ]
  },
  {
   "cell_type": "code",
   "execution_count": null,
   "metadata": {},
   "outputs": [],
   "source": [
    "for j in tFilt.particle.unique():\n",
    "    p = tFilt.loc[tFilt['particle'] == j]\n",
    "    d = 0\n",
    "    for i in range(1, len(p) - 2):\n",
    "        d = d + math.sqrt((p.iloc[i + 1].x - p.iloc[i].x) ** 2 + (p.iloc[i + 1].y - p.iloc[i].y) ** 2)\n",
    "    D = d / len(p) - 2\n",
    "    plt.plot(j, D, '.k')\n",
    "#     plt.plot(j, len(p), '.r')\n",
    "#         if d == 0:\n",
    "#             d = d + 0.0000001\n",
    "#         plt.plot(p.iloc[i:i+2].x, p.iloc[i:i+2].y, c=mpl.cm.autumn(1 / (d/15)), lw=5)\n",
    "    "
   ]
  },
  {
   "cell_type": "code",
   "execution_count": null,
   "metadata": {},
   "outputs": [],
   "source": [
    "fig, ax1 = plt.subplots()\n",
    "ax2 = ax1.twinx()  # instantiate a second axes that shares the same x-axis\n",
    "# color = 'tab:blue'\n",
    "# ax2.set_ylabel('sin', color=color)  # we already handled the x-label with ax1\n",
    "\n",
    "# color = 'tab:red'\n",
    "# ax1.set_xlabel('time (s)')\n",
    "# ax1.set_ylabel('exp', color=color)\n",
    "\n",
    "for j in tFilt.particle.unique():\n",
    "    p = tFilt.loc[tFilt['particle'] == j]\n",
    "    d = 0\n",
    "    for i in range(1, len(p) - 2):\n",
    "        d = d + math.sqrt((p.iloc[i + 1].x - p.iloc[i].x) ** 2 + (p.iloc[i + 1].y - p.iloc[i].y) ** 2)\n",
    "#     D = d / (len(p) - 2)\n",
    "    ax1.plot(j, d, '.k')\n",
    "    ax2.plot(j, len(p), '.r')\n",
    "\n",
    "# ax1.plot(t, data1, color=color)\n",
    "# ax1.tick_params(axis='y', labelcolor=color)\n",
    "\n",
    "\n",
    "\n",
    "\n",
    "# ax2.plot(t, data2, color=color)\n",
    "# ax2.tick_params(axis='y', labelcolor=color)"
   ]
  },
  {
   "cell_type": "code",
   "execution_count": null,
   "metadata": {},
   "outputs": [],
   "source": [
    "t.head()"
   ]
  },
  {
   "cell_type": "code",
   "execution_count": null,
   "metadata": {
    "scrolled": true
   },
   "outputs": [],
   "source": [
    "len(tFilt.loc[tFilt['particle'] == 12.0])"
   ]
  },
  {
   "cell_type": "code",
   "execution_count": null,
   "metadata": {},
   "outputs": [],
   "source": [
    "plt.figure(figsize=(25,10))\n",
    "plt.imshow(frames[50], cmap='gray')\n",
    "tp.plot_traj(t.loc[t['particle'] == 2.0], plot_style={'linewidth':'3.0'})"
   ]
  },
  {
   "cell_type": "code",
   "execution_count": null,
   "metadata": {},
   "outputs": [],
   "source": [
    "p114 = tFilt.loc[tFilt['particle'] == 114.0]"
   ]
  },
  {
   "cell_type": "code",
   "execution_count": null,
   "metadata": {},
   "outputs": [],
   "source": [
    "p049 = tFilt.loc[tFilt['particle'] == 49.0]\n",
    "p125 = tFilt.loc[tFilt['particle'] == 125.0]"
   ]
  },
  {
   "cell_type": "code",
   "execution_count": null,
   "metadata": {
    "scrolled": true
   },
   "outputs": [],
   "source": [
    "p114.head()"
   ]
  },
  {
   "cell_type": "code",
   "execution_count": null,
   "metadata": {},
   "outputs": [],
   "source": [
    "A = np.zeros(frameSize)\n",
    "A = A + np.invert(frames[4381])\n",
    "B = A - BG\n",
    "B[B < 0] = 0\n",
    "# if B.min() > 0:\n",
    "#     Bm = B - B.min()\n",
    "# else:\n",
    "#     Bm = B\n",
    "\n",
    "plt.figure(figsize=(25,25))\n",
    "plt.imshow(np.invert(B.astype(int)), cmap='gray')"
   ]
  },
  {
   "cell_type": "code",
   "execution_count": null,
   "metadata": {},
   "outputs": [],
   "source": [
    "np.min(np.invert(B.astype(int)))"
   ]
  },
  {
   "cell_type": "code",
   "execution_count": null,
   "metadata": {},
   "outputs": [],
   "source": [
    "np.max(B)"
   ]
  },
  {
   "cell_type": "code",
   "execution_count": null,
   "metadata": {},
   "outputs": [],
   "source": [
    "\n",
    "A = np.zeros(frameSize)\n",
    "A = A + np.invert(frames[4381])\n",
    "B = A - BG\n",
    "B[B < 0] = 0\n",
    "# if B.min() > 0:\n",
    "#     Bm = B - B.min()\n",
    "# else:\n",
    "#     Bm = B\n",
    "\n",
    "plt.figure(figsize=(25,25))\n",
    "plt.imshow(np.invert(B.astype(int)), cmap='gray', vmin=25, vmax=95)"
   ]
  },
  {
   "cell_type": "code",
   "execution_count": null,
   "metadata": {},
   "outputs": [],
   "source": [
    "plt.figure(figsize=(25,25))\n",
    "\n",
    "alphas = [1, 0.5, 0.35, 0.25]\n",
    "\n",
    "j = 0\n",
    "\n",
    "for i in [3194, 3312, 4675, 5767]:\n",
    "    A = np.zeros(frameSize)\n",
    "    A = A + np.invert(frames[i])\n",
    "    B = A - BG\n",
    "    B[B < 0] = 0\n",
    "    plt.imshow(np.invert(B.astype(int)), cmap='gray', alpha=alphas[j], vmin=-40, vmax=-3)\n",
    "    j = j + 1\n",
    "    \n",
    "plt.savefig('190625_KPTTN_p049_114_125_NOtracks05.png')"
   ]
  },
  {
   "cell_type": "code",
   "execution_count": null,
   "metadata": {},
   "outputs": [],
   "source": [
    "plt.figure(figsize=(25,25))\n",
    "\n",
    "alphas = [1, 0.75, 0.65, 0.55]\n",
    "\n",
    "j = 0\n",
    "\n",
    "for i in [3194, 3312, 4675, 5767]:\n",
    "    A = np.zeros(frameSize)\n",
    "    A = A + np.invert(frames[i])\n",
    "    B = A - BG\n",
    "    B[B < 0] = 0\n",
    "    plt.imshow(np.invert(B.astype(int)), cmap='gray', alpha=alphas[j], vmin=-40, vmax=-3)\n",
    "    j = j + 1\n",
    "\n",
    "for i in range(1, len(p114) - 2):\n",
    "    d = math.sqrt((p114.iloc[i + 1].x - p114.iloc[i].x) ** 2 + (p114.iloc[i + 1].y - p114.iloc[i].y) ** 2)\n",
    "    plt.plot(p114.iloc[i:i+2].x, p114.iloc[i:i+2].y, c=mpl.cm.autumn(1 / (d/15)), lw=5)\n",
    "    \n",
    "for i in range(1, len(p049) - 2):\n",
    "    d = math.sqrt((p049.iloc[i + 1].x - p049.iloc[i].x) ** 2 + (p049.iloc[i + 1].y - p049.iloc[i].y) ** 2)\n",
    "    plt.plot(p049.iloc[i:i+2].x, p049.iloc[i:i+2].y, c=mpl.cm.autumn(1 / (d/15)), lw=5)\n",
    "    \n",
    "for i in range(1, len(p125) - 2):\n",
    "    d = math.sqrt((p125.iloc[i + 1].x - p125.iloc[i].x) ** 2 + (p125.iloc[i + 1].y - p125.iloc[i].y) ** 2)\n",
    "    plt.plot(p125.iloc[i:i+2].x, p125.iloc[i:i+2].y, c=mpl.cm.autumn(1 / (d/15)), lw=5)\n",
    "    \n",
    "plt.savefig('190625_KPTTN_p049_114_125_tracks05.pdf')"
   ]
  },
  {
   "cell_type": "code",
   "execution_count": null,
   "metadata": {},
   "outputs": [],
   "source": [
    "os.getcwd()"
   ]
  },
  {
   "cell_type": "code",
   "execution_count": null,
   "metadata": {},
   "outputs": [],
   "source": [
    "plt.figure(figsize=(25,25))\n",
    "plt.imshow(frames[3194], cmap='gray', vmin=125, vmax=155, alpha=1)\n",
    "plt.imshow(frames[3312], cmap='gray', vmin=125, vmax=155, alpha=0.5)\n",
    "plt.imshow(frames[5100], cmap='gray', vmin=125, vmax=155, alpha=0.4)\n",
    "# plt.imshow(frames[2591], cmap='gray', vmin=55, vmax=160, alpha=0.4)\n",
    "# plt.imshow(frames[5571], cmap='gray', vmin=55, vmax=160, alpha=0.4)\n",
    "# plt.imshow(frames[3195], cmap='gray', vmin=55, vmax=180, alpha=0.4)\n",
    "\n",
    "# plt.imshow(frames[4327], cmap='gray', vmin=95, vmax=180, alpha=1)\n",
    "# plt.imshow(frames[4411], cmap='gray', vmin=95, vmax=180, alpha=0.5)\n",
    "# plt.imshow(frames[5148], cmap='gray', vmin=55, vmax=180, alpha=0.4)\n",
    "\n",
    "# for i in range(1, len(p114) - 2):\n",
    "#     d = math.sqrt((p114.iloc[i + 1].x - p114.iloc[i].x) ** 2 + (p114.iloc[i + 1].y - p114.iloc[i].y) ** 2)\n",
    "#     plt.plot(p114.iloc[i:i+2].x, p114.iloc[i:i+2].y, c=mpl.cm.autumn(1 / (d/15)), lw=5)\n",
    "    \n",
    "# for i in range(1, len(p049) - 2):\n",
    "#     d = math.sqrt((p049.iloc[i + 1].x - p049.iloc[i].x) ** 2 + (p049.iloc[i + 1].y - p049.iloc[i].y) ** 2)\n",
    "#     plt.plot(p049.iloc[i:i+2].x, p049.iloc[i:i+2].y, c=mpl.cm.autumn(1 / (d/15)), lw=5)\n",
    "    \n",
    "# for i in range(1, len(p125) - 2):\n",
    "#     d = math.sqrt((p125.iloc[i + 1].x - p125.iloc[i].x) ** 2 + (p125.iloc[i + 1].y - p125.iloc[i].y) ** 2)\n",
    "#     plt.plot(p125.iloc[i:i+2].x, p125.iloc[i:i+2].y, c=mpl.cm.autumn(1 / (d/15)), lw=5)"
   ]
  },
  {
   "cell_type": "code",
   "execution_count": null,
   "metadata": {},
   "outputs": [],
   "source": [
    "p114.iloc[0:2].x"
   ]
  },
  {
   "cell_type": "code",
   "execution_count": null,
   "metadata": {},
   "outputs": [],
   "source": [
    "d = math.sqrt((p114.iloc[1].x - p114.iloc[0].x) ** 2 + (p114.iloc[1].y - p114.iloc[0].y) ** 2)\n",
    "d"
   ]
  },
  {
   "cell_type": "code",
   "execution_count": null,
   "metadata": {},
   "outputs": [],
   "source": [
    "(p114.iloc[1].x - p114.iloc[0].x) ** 2"
   ]
  },
  {
   "cell_type": "code",
   "execution_count": null,
   "metadata": {},
   "outputs": [],
   "source": [
    "trajLen = np.empty([0, 0])\n",
    "\n",
    "for i in t.particle.unique():\n",
    "    trajLen = np.append(trajLen, len(tFilt.loc[tFilt['particle'] == i]))\n",
    "    "
   ]
  },
  {
   "cell_type": "code",
   "execution_count": null,
   "metadata": {},
   "outputs": [],
   "source": [
    "trajLen"
   ]
  },
  {
   "cell_type": "code",
   "execution_count": null,
   "metadata": {},
   "outputs": [],
   "source": [
    "def cropMos(p, t):\n",
    "    \n",
    "    frameWidth = 2048\n",
    "    frameHeigth = 2048\n",
    "    ROIwidth = 550\n",
    "    ROIheigth = 550\n",
    "    halfROIwidth = ROIwidth / 2\n",
    "    halfROIheigth = ROIheigth / 2\n",
    "    \n",
    "    tP = t.loc[t['particle'] == p]\n",
    "    for index, row in tP.iterrows():\n",
    "        if row['x'] < halfROIwidth:\n",
    "            x_start = 0\n",
    "            x_stop = ROIwidth\n",
    "        elif row['x'] + halfROIwidth > frameWidth:\n",
    "            x_start = frameWidth - ROIwidth\n",
    "            x_stop = frameWidth\n",
    "        else:\n",
    "            x_start = row['x'] - halfROIwidth\n",
    "            x_stop = row['x'] + halfROIwidth\n",
    "        if row['y'] < halfROIwidth:\n",
    "            y_start = 0\n",
    "            y_stop = ROIwidth\n",
    "        elif row['y'] + halfROIwidth > frameWidth:\n",
    "            y_start = frameWidth - ROIwidth\n",
    "            y_stop = frameWidth\n",
    "        else:\n",
    "            y_start = row['y'] - halfROIwidth\n",
    "            y_stop = row['y'] + halfROIwidth\n",
    "        currFrame = frames[row['frame']]\n",
    "        currROI = currFrame[int(y_start):int(y_stop), int(x_start):int(x_stop)]\n",
    "        skimage.io.imsave(\"crop_p\" + str(int(p)).zfill(3) + \"_f\" + str(int(row['frame'])).zfill(6) + \".png\", currROI)\n"
   ]
  },
  {
   "cell_type": "code",
   "execution_count": null,
   "metadata": {},
   "outputs": [],
   "source": [
    "tFilt = tp.filter_stubs(t, 10)\n",
    "tFilt.particle.unique()"
   ]
  },
  {
   "cell_type": "code",
   "execution_count": null,
   "metadata": {
    "scrolled": true
   },
   "outputs": [],
   "source": [
    "from IPython import display\n",
    "import pylab as pl\n",
    "\n",
    "\n",
    "frameWidth = 2048\n",
    "frameHeigth = 2048\n",
    "ROIwidth = 550\n",
    "ROIheigth = 550\n",
    "halfROIwidth = ROIwidth / 2\n",
    "halfROIheigth = ROIheigth / 2\n",
    "\n",
    "tP = t.loc[t['particle'] == 60.0]\n",
    "s = np.linspace(0, 2*np.pi, 400)\n",
    "bellySizeRR = np.empty([0, 0])\n",
    "snakeArea = np.empty([0, 0])\n",
    "for index, row in tP.iterrows():\n",
    "    if row['x'] < halfROIwidth:\n",
    "        x_start = 0\n",
    "        x_stop = ROIwidth\n",
    "        newX = row.x\n",
    "    elif row['x'] + halfROIwidth > frameWidth:\n",
    "        x_start = frameWidth - ROIwidth\n",
    "        x_stop = frameWidth\n",
    "        newX = halfROIwidth + (halfROIwidth - (frameWidth - row.x))\n",
    "    else:\n",
    "        x_start = row['x'] - halfROIwidth\n",
    "        x_stop = row['x'] + halfROIwidth\n",
    "        newX = halfROIwidth\n",
    "    if row['y'] < halfROIwidth:\n",
    "        y_start = 0\n",
    "        y_stop = ROIwidth\n",
    "        newY = row.y\n",
    "    elif row['y'] + halfROIwidth > frameWidth:\n",
    "        y_start = frameWidth - ROIwidth\n",
    "        y_stop = frameWidth\n",
    "        newY = halfROIheigth + (halfROIheigth - (frameHeigth - row.y))\n",
    "    else:\n",
    "        y_start = row['y'] - halfROIwidth\n",
    "        y_stop = row['y'] + halfROIwidth\n",
    "        newY = halfROIheigth\n",
    "    currFrame = frames[row['frame']]\n",
    "    currROI = currFrame[int(y_start):int(y_stop), int(x_start):int(x_stop)]\n",
    "#     skimage.io.imsave(\"crop_p\" + str(int(p)).zfill(3) + \"_f\" + str(int(row['frame'])).zfill(6) + \".png\", currROI)\n",
    "    print(row.frame)\n",
    "\n",
    "    x = newX + 100*np.cos(s)\n",
    "    y = newY + 100*np.sin(s)\n",
    "    init = np.array([x, y]).T\n",
    "    imBTH = skimage.morphology.black_tophat(currROI, disk(4))\n",
    "    imBT = imBTH > 7\n",
    "    # imBTE = erosion(imBT, disk(1))\n",
    "    # imBTED = binary_dilation(imBT, disk(2))\n",
    "    # imBTES = remove_small_objects(imBTED, min_size=200)\n",
    "    F = np.copy(currROI)\n",
    "    F[F > np.median(currROI)] = np.median(currROI)\n",
    "    F[imBT] = np.median(F)\n",
    "    F[currROI>70] = np.median(F)\n",
    "    F = skimage.filters.gaussian(F, 4)\n",
    "    snake = skimage.segmentation.active_contour(F*20, init, alpha=0.5, beta=8, gamma=0.001, w_edge=1, w_line=0)\n",
    "    snakeD = np.expand_dims(snake, axis=1)\n",
    "    rotRect = cv.minAreaRect(snakeD.astype(int))\n",
    "#         bellySizeRR = np.min(rotRect[1])\n",
    "    bellySizeRR = np.append(bellySizeRR, np.min(rotRect[1]))\n",
    "    snakeArea = np.append(snakeArea, cv.contourArea(snakeD.astype(int)))\n",
    "\n",
    "    plt.figure(figsize=(10,10))\n",
    "    plt.imshow(currROI, cmap=plt.cm.gray)\n",
    "    plt.plot(init[:, 0], init[:, 1])\n",
    "    plt.plot(snake[:, 0], snake[:, 1], '-r', lw=1)\n",
    "    plt.plot(newX, newY, '.g', markersize=6)\n",
    "    display.clear_output(wait=True)\n",
    "    display.display(pl.gcf())"
   ]
  },
  {
   "cell_type": "code",
   "execution_count": null,
   "metadata": {},
   "outputs": [],
   "source": [
    "plt.figure(figsize=(10,10))\n",
    "# currFrame = frames[row['frame']]\n",
    "plt.imshow(currFrame)"
   ]
  },
  {
   "cell_type": "code",
   "execution_count": null,
   "metadata": {},
   "outputs": [],
   "source": [
    "from IPython import display\n",
    "import pylab as pl\n",
    "\n",
    "\n",
    "frameWidth = 2048\n",
    "frameHeigth = 2048\n",
    "ROIwidth = 550\n",
    "ROIheigth = 550\n",
    "halfROIwidth = ROIwidth / 2\n",
    "halfROIheigth = ROIheigth / 2\n",
    "\n",
    "tP = t.loc[t['particle'] == 13.0]\n",
    "s = np.linspace(0, 2*np.pi, 400)\n",
    "bellySizeRR = np.empty([0, 0])\n",
    "snakeArea = np.empty([0, 0])\n",
    "for index, row in tP.iterrows():\n",
    "    if row['x'] < halfROIwidth:\n",
    "        x_start = 0\n",
    "        x_stop = ROIwidth\n",
    "    elif row['x'] + halfROIwidth > frameWidth:\n",
    "        x_start = frameWidth - ROIwidth\n",
    "        x_stop = frameWidth\n",
    "    else:\n",
    "        x_start = row['x'] - halfROIwidth\n",
    "        x_stop = row['x'] + halfROIwidth\n",
    "    if row['y'] < halfROIwidth:\n",
    "        y_start = 0\n",
    "        y_stop = ROIwidth\n",
    "    elif row['y'] + halfROIwidth > frameWidth:\n",
    "        y_start = frameWidth - ROIwidth\n",
    "        y_stop = frameWidth\n",
    "    else:\n",
    "        y_start = row['y'] - halfROIwidth\n",
    "        y_stop = row['y'] + halfROIwidth\n",
    "    currFrame = frames[row['frame']]\n",
    "    currROI = currFrame[int(y_start):int(y_stop), int(x_start):int(x_stop)]\n",
    "#     skimage.io.imsave(\"crop_p\" + str(int(p)).zfill(3) + \"_f\" + str(int(row['frame'])).zfill(6) + \".png\", currROI)\n",
    "\n",
    "\n",
    "    x = row['x'] + 100*np.cos(s)\n",
    "    y = row['y'] + 100*np.sin(s)\n",
    "    init = np.array([x, y]).T\n",
    "    imBTH = skimage.morphology.black_tophat(frames[i], disk(4))\n",
    "    imBT = imBTH > 7\n",
    "    # imBTE = erosion(imBT, disk(1))\n",
    "    # imBTED = binary_dilation(imBT, disk(2))\n",
    "    # imBTES = remove_small_objects(imBTED, min_size=200)\n",
    "    F = frames[row.frame]\n",
    "    F[F > np.median(frames[row.frame])] = np.median(frames[row.frame])\n",
    "    F[imBT] = np.median(F)\n",
    "    F[frames[row.frame]>70] = np.median(F)\n",
    "    F = skimage.filters.gaussian(F, 4)\n",
    "    snake = skimage.segmentation.active_contour(F*30, init, alpha=0.15, beta=8, gamma=0.001, w_edge=1, w_line=-0.1)\n",
    "    snakeD = np.expand_dims(snake, axis=1)\n",
    "    rotRect = cv.minAreaRect(snakeD.astype(int))\n",
    "#         bellySizeRR = np.min(rotRect[1])\n",
    "    bellySizeRR = np.append(bellySizeRR, np.min(rotRect[1]))\n",
    "    snakeArea = np.append(snakeArea, cv.contourArea(snakeD.astype(int)))\n",
    "\n",
    "    plt.figure(figsize=(10,10))\n",
    "    plt.imshow(frames[row.frame], cmap=plt.cm.gray)\n",
    "    plt.plot(init[:, 0], init[:, 1])\n",
    "    plt.plot(snake[:, 0], snake[:, 1], '-w', lw=1)\n",
    "    plt.plot(row['y'], row['x'], '.g')\n",
    "    display.clear_output(wait=True)\n",
    "    display.display(pl.gcf())"
   ]
  },
  {
   "cell_type": "code",
   "execution_count": null,
   "metadata": {},
   "outputs": [],
   "source": [
    "plt.plot(mosData.iloc[0].bellySizeT)"
   ]
  },
  {
   "cell_type": "code",
   "execution_count": null,
   "metadata": {},
   "outputs": [],
   "source": [
    "mosData.head()"
   ]
  },
  {
   "cell_type": "code",
   "execution_count": null,
   "metadata": {},
   "outputs": [],
   "source": [
    "mosData.to_pickle('/Users/felix/Documents/mosquitoes/mosquitoData/biteData/aegypti/190625_KPPTN/mosDataTest' + str(j) + '.pkl')"
   ]
  },
  {
   "cell_type": "code",
   "execution_count": null,
   "metadata": {},
   "outputs": [],
   "source": [
    "# os.chdir('/Users/felix/Documents/mosquitoes/mosquitoData/biteData/aegypti/190625_KPPTN/')\n",
    "pklList = glob.glob('/Users/felix/Documents/mosquitoes/mosquitoData/biteData/aegypti/190625_KPPTN/mosData*.pkl')\n",
    "\n",
    "mosDataAll = pd.DataFrame(columns=['p','totDist','totTime','meanSpeed','bellyExpansion','bellySize'])\n",
    "\n",
    "for i in pklList:\n",
    "    mD = pd.read_pickle(i)\n",
    "    mosDataAll = mosDataAll.append(mD, ignore_index=True)\n",
    "\n",
    "\n",
    "\n",
    "# aaaa = pd.read_pickle('/Users/felix/Documents/mosquitoes/mosquitoData/biteData/aegypti/190625_KPPTN/mosDataTest13.0.pkl')"
   ]
  },
  {
   "cell_type": "code",
   "execution_count": null,
   "metadata": {},
   "outputs": [],
   "source": [
    "def bellySize02(i):\n",
    "    x = \n",
    "    s = np.linspace(0, 2*np.pi, 400)\n",
    "    x = centroidsF[0,1] + 100*np.cos(s)\n",
    "    y = centroidsF[0,0] + 100*np.sin(s)\n",
    "    init = np.array([x, y]).T\n",
    "    imBTH = skimage.morphology.black_tophat(frames[i], disk(4))\n",
    "    imBT = imBTH > 7\n",
    "    # imBTE = erosion(imBT, disk(1))\n",
    "    # imBTED = binary_dilation(imBT, disk(2))\n",
    "    # imBTES = remove_small_objects(imBTED, min_size=200)\n",
    "    F = frames[i]\n",
    "    F[F > np.median(frames[i])] = np.median(frames[i])\n",
    "    F[imBT] = np.median(F)\n",
    "    F[frames[i]>70] = np.median(F)\n",
    "    F = skimage.filters.gaussian(F, 4)\n",
    "    snake = skimage.segmentation.active_contour(F*30, init, alpha=0.15, beta=8, gamma=0.001, w_edge=1, w_line=-0.1)\n",
    "    snakeD = np.expand_dims(snake, axis=1)\n",
    "    rotRect = cv.minAreaRect(snakeD.astype(int))\n",
    "    bellySizeRR = np.min(rotRect[1])\n",
    "    snakeArea = cv.contourArea(snakeD.astype(int))\n",
    "#     bellySizeRR = np.append(bellySizeRR, np.min(rotRect[1]))\n",
    "    return bellySizeRR, snakeArea"
   ]
  },
  {
   "cell_type": "code",
   "execution_count": null,
   "metadata": {},
   "outputs": [],
   "source": [
    "os.chdir('/Users/felix/Documents/mosquitoes/mosquitoData/bloodTasteMovies/analysis/190703_SalineYesATP_M10_crops/')\n",
    "mosToCrop = tFilt.particle.unique()\n",
    "for i in mosToCrop:\n",
    "    print(i)\n",
    "    print(os.getcwd())\n",
    "    cropMos(i, t)"
   ]
  },
  {
   "cell_type": "code",
   "execution_count": null,
   "metadata": {},
   "outputs": [],
   "source": [
    "mosToCrop = t.particle.unique()\n",
    "mosToCrop"
   ]
  },
  {
   "cell_type": "code",
   "execution_count": null,
   "metadata": {},
   "outputs": [],
   "source": [
    "os.chdir('/Volumes/Samsung_T5/Felix/biteData_sam/albopictus/190607_01/190607_albo_crops/')\n",
    "\n",
    "mosToCrop = t.particle.unique()\n",
    "num_cores = multiprocessing.cpu_count()\n",
    "Parallel(n_jobs=num_cores)(delayed(cropMos)(i, t) for i in mosToCrop)"
   ]
  },
  {
   "cell_type": "code",
   "execution_count": null,
   "metadata": {},
   "outputs": [],
   "source": [
    "i = 375\n",
    "\n",
    "features = pd.DataFrame()\n",
    "\n",
    "selem1 = disk(8)\n",
    "selem2 = disk(1)\n",
    "A = np.zeros(frameSize)\n",
    "A = A + np.invert(frames[i])\n",
    "B = A - BG\n",
    "if B.min() > 0:\n",
    "    Bm = B - B.min()\n",
    "else:\n",
    "    Bm = B\n",
    "Bt = Bm > 70\n",
    "Be = erosion(Bt, disk(3))\n",
    "Bts = remove_small_objects(Be, min_size=300)\n",
    "# Be = erosion(Bts, selem2)\n",
    "# Bf = remove_small_objects(Be, min_size=200)\n",
    "Bc = binary_closing(Bts, disk(15))\n",
    "Bc2 = scipy.ndimage.morphology.binary_fill_holes(Bc)\n",
    "Bce = erosion(Bc2, disk(3))\n",
    "C = B * Bce\n",
    "# eroded = erosion(C, selem2)\n",
    "# eroded = skimage.filters.gaussian(C, 4)\n",
    "# eroded[eroded < 0] = 0\n",
    "erL = label(C>0)\n",
    "erR = regionprops(erL)#, C)#, coordinates='xy')\n",
    "l = 1\n",
    "for props in erR:\n",
    "    if props.area > 100000:\n",
    "        erL[erL==l] = 0\n",
    "    if props.major_axis_length > 1000:\n",
    "        erL[erL==l] = 0\n",
    "    l = l +1\n",
    "erLf = label(erL>0)\n",
    "# erodedF = eroded * (erLf > 0)\n",
    "erRf = regionprops(erLf)#, C)#, coordinates='xy')\n",
    "centroids = np.zeros([len(erRf), 2])\n",
    "numCent = 0\n",
    "for props in erRf:\n",
    "    centroids[numCent] = props.centroid\n",
    "    features = features.append([{'y': props.centroid[0], \n",
    "                                 'x': props.centroid[1], \n",
    "                                 'frame': i, \n",
    "                                 'area': props.filled_area},])\n",
    "    numCent += 1\n",
    "coordinates = peak_local_max(eroded, min_distance=130, exclude_border=1)\n",
    "cS= coordinates.shape; numCoor = cS[0]\n",
    "cenS= centroids.shape; numCen = cenS[0]\n",
    "frameNo = i\n",
    "frameNoA = np.zeros((numCoor,1), dtype=np.int)\n",
    "frameNoCen = np.zeros((numCen,1), dtype=np.int)\n",
    "frameNoA[:] = frameNo\n",
    "frameNoCen[:] = frameNo\n",
    "coordinatesF = np.hstack((coordinates,frameNoA))\n",
    "centroidsF = np.hstack((centroids,frameNoCen))\n",
    "coordinatesF = np.hstack((coordinates,frameNoA))\n",
    "numCoords = coordinatesF.shape[0]\n",
    "numCents = centroidsF.shape[0]"
   ]
  },
  {
   "cell_type": "code",
   "execution_count": null,
   "metadata": {},
   "outputs": [],
   "source": [
    "plt.figure(figsize=(20,18))\n",
    "# Bc3 = erosion(Bc, disk(3))\n",
    "plt.imshow(C)"
   ]
  },
  {
   "cell_type": "code",
   "execution_count": null,
   "metadata": {},
   "outputs": [],
   "source": [
    "plt.figure(figsize=(20,18))\n",
    "# Bc3 = erosion(Bc, disk(3))\n",
    "plt.imshow(B)"
   ]
  },
  {
   "cell_type": "code",
   "execution_count": null,
   "metadata": {},
   "outputs": [],
   "source": [
    "def mosFeat01(i):\n",
    "\n",
    "    features = pd.DataFrame()\n",
    "\n",
    "    selem1 = disk(8)\n",
    "    selem2 = disk(1)\n",
    "    A = np.zeros(frameSize)\n",
    "    A = A + np.invert(frames[i])\n",
    "    B = A - BG\n",
    "    if B.min() > 0:\n",
    "        Bm = B - B.min()\n",
    "    else:\n",
    "        Bm = B\n",
    "    Bt = Bm > 35\n",
    "    Be = erosion(Bt, disk(3))\n",
    "    Bts = remove_small_objects(Be, min_size=300)\n",
    "    # Be = erosion(Bts, selem2)\n",
    "    # Bf = remove_small_objects(Be, min_size=200)\n",
    "    Bc = binary_closing(Bts, disk(15))\n",
    "    Bc2 = scipy.ndimage.morphology.binary_fill_holes(Bc)\n",
    "    Bce = erosion(Bc2, disk(3))\n",
    "    C = B * Bce\n",
    "    # eroded = erosion(C, selem2)\n",
    "    # eroded = skimage.filters.gaussian(C, 4)\n",
    "    # eroded[eroded < 0] = 0\n",
    "    erL = label(C>0)\n",
    "    erR = regionprops(erL)#, C)#, coordinates='xy')\n",
    "    l = 1\n",
    "    for props in erR:\n",
    "        if props.area > 100000:\n",
    "            erL[erL==l] = 0\n",
    "        if props.major_axis_length > 1000:\n",
    "            erL[erL==l] = 0\n",
    "        l = l +1\n",
    "    erLf = label(erL>0)\n",
    "    # erodedF = eroded * (erLf > 0)\n",
    "    erRf = regionprops(erLf)#, C)#, coordinates='xy')\n",
    "    centroids = np.zeros([len(erRf), 2])\n",
    "    numCent = 0\n",
    "    for props in erRf:\n",
    "        centroids[numCent] = props.centroid\n",
    "        features = features.append([{'y': props.centroid[0], \n",
    "                                     'x': props.centroid[1], \n",
    "                                     'frame': i, \n",
    "                                     'area': props.filled_area},])\n",
    "        numCent += 1\n",
    "    coordinates = peak_local_max(eroded, min_distance=130, exclude_border=1)\n",
    "    cS= coordinates.shape; numCoor = cS[0]\n",
    "    cenS= centroids.shape; numCen = cenS[0]\n",
    "    frameNo = i\n",
    "    frameNoA = np.zeros((numCoor,1), dtype=np.int)\n",
    "    frameNoCen = np.zeros((numCen,1), dtype=np.int)\n",
    "    frameNoA[:] = frameNo\n",
    "    frameNoCen[:] = frameNo\n",
    "    coordinatesF = np.hstack((coordinates,frameNoA))\n",
    "    centroidsF = np.hstack((centroids,frameNoCen))\n",
    "    coordinatesF = np.hstack((coordinates,frameNoA))\n",
    "    numCoords = coordinatesF.shape[0]\n",
    "    numCents = centroidsF.shape[0]\n",
    "    return centroidsF, coordinatesF, features"
   ]
  },
  {
   "cell_type": "code",
   "execution_count": null,
   "metadata": {},
   "outputs": [],
   "source": [
    "#####testing....\n",
    "i = 1120\n",
    "centroidsF, coordinatesF, features = mosFeat01(i)\n",
    "plt.figure(figsize=(15,10))\n",
    "plt.imshow(frames[i], cmap = 'gray')\n",
    "# plt.imshow(eroded)\n",
    "plt.plot(coordinatesF[:,1],coordinatesF[:,0],'r.')\n",
    "plt.plot(centroidsF[:,1],centroidsF[:,0],'b.')"
   ]
  },
  {
   "cell_type": "code",
   "execution_count": null,
   "metadata": {},
   "outputs": [],
   "source": [
    "plt.figure(figsize=(25,20))\n",
    "# Bc3 = erosion(Bc, disk(3))\n",
    "plt.imshow(B)"
   ]
  },
  {
   "cell_type": "code",
   "execution_count": null,
   "metadata": {},
   "outputs": [],
   "source": [
    "features = pd.DataFrame()\n",
    "\n",
    "for i in range(3800,4800,5):\n",
    "    selem1 = disk(8)\n",
    "    selem2 = disk(1)\n",
    "    A = np.zeros(frameSize)\n",
    "    A = A + np.invert(frames[i])\n",
    "    B = A - BG\n",
    "    if B.min() > 0:\n",
    "        Bm = B - B.min()\n",
    "    else:\n",
    "        Bm = B\n",
    "    Bt = Bm > 35\n",
    "    Be = erosion(Bt, disk(3))\n",
    "    Bts = remove_small_objects(Be, min_size=300)\n",
    "    # Be = erosion(Bts, selem2)\n",
    "    # Bf = remove_small_objects(Be, min_size=200)\n",
    "    Bc = binary_closing(Bts, disk(15))\n",
    "    Bc2 = scipy.ndimage.morphology.binary_fill_holes(Bc)\n",
    "    Bce = erosion(Bc2, disk(3))\n",
    "    C = B * Bce\n",
    "    # eroded = erosion(C, selem2)\n",
    "    # eroded = skimage.filters.gaussian(C, 4)\n",
    "    # eroded[eroded < 0] = 0\n",
    "    erL = label(C>0)\n",
    "    erR = regionprops(erL)#, C)#, coordinates='xy')\n",
    "    l = 1\n",
    "    for props in erR:\n",
    "        if props.area < 1000:\n",
    "            erL[erL==l] = 0\n",
    "        if props.area > 100000:\n",
    "            erL[erL==l] = 0\n",
    "        if props.major_axis_length > 1000:\n",
    "            erL[erL==l] = 0\n",
    "        l = l +1\n",
    "    erLf = label(erL>0)\n",
    "    # erodedF = eroded * (erLf > 0)\n",
    "    erRf = regionprops(erLf)#, C)#, coordinates='xy')\n",
    "    centroids = np.zeros([len(erRf), 2])\n",
    "    numCent = 0\n",
    "    for props in erRf:\n",
    "        centroids[numCent] = props.centroid\n",
    "        features = features.append([{'y': props.centroid[0], \n",
    "                                     'x': props.centroid[1], \n",
    "                                     'frame': i, \n",
    "                                     'area': props.filled_area},])\n",
    "        numCent += 1\n",
    "    coordinates = peak_local_max(eroded, min_distance=130, exclude_border=1)\n",
    "    cS= coordinates.shape; numCoor = cS[0]\n",
    "    cenS= centroids.shape; numCen = cenS[0]\n",
    "    frameNo = i\n",
    "    frameNoA = np.zeros((numCoor,1), dtype=np.int)\n",
    "    frameNoCen = np.zeros((numCen,1), dtype=np.int)\n",
    "    frameNoA[:] = frameNo\n",
    "    frameNoCen[:] = frameNo\n",
    "    coordinatesF = np.hstack((coordinates,frameNoA))\n",
    "    centroidsF = np.hstack((centroids,frameNoCen))\n",
    "    coordinatesF = np.hstack((coordinates,frameNoA))\n",
    "    numCoords = coordinatesF.shape[0]\n",
    "    numCents = centroidsF.shape[0]"
   ]
  },
  {
   "cell_type": "code",
   "execution_count": null,
   "metadata": {},
   "outputs": [],
   "source": [
    "features.head(5)"
   ]
  },
  {
   "cell_type": "code",
   "execution_count": null,
   "metadata": {},
   "outputs": [],
   "source": [
    "features.to_pickle(saveDir + '/181206_01_frame3800-4800_every5.pkl')"
   ]
  },
  {
   "cell_type": "code",
   "execution_count": null,
   "metadata": {},
   "outputs": [],
   "source": [
    "plt.plot(t[t.particle == 0.0].frame, t[t.particle == 0.0].area.rolling(window=20).mean())\n",
    "# plt.plot(t[t.particle == 4.0].frame, t[t.particle == 4.0].area)\n",
    "# plt.plot(t[t.particle == 2.0].frame, t[t.particle == 2.0].area)\n",
    "# plt.plot(t[t.particle == 3.0].area)"
   ]
  },
  {
   "cell_type": "code",
   "execution_count": null,
   "metadata": {},
   "outputs": [],
   "source": [
    "# plt.figure(figsize=(20,20))\n",
    "search_range = 500\n",
    "t = tp.link_df(features, search_range, memory=30)\n",
    "# plt.imshow(B)\n",
    "# tp.plot_traj(t, plot_style={'linewidth':'3.0'})"
   ]
  },
  {
   "cell_type": "code",
   "execution_count": null,
   "metadata": {},
   "outputs": [],
   "source": [
    "plt.figure(figsize=(20,20))\n",
    "plt.imshow(B)\n",
    "tp.plot_traj(t, plot_style={'linewidth':'3.0'})"
   ]
  },
  {
   "cell_type": "code",
   "execution_count": null,
   "metadata": {},
   "outputs": [],
   "source": [
    "len(tF)"
   ]
  },
  {
   "cell_type": "code",
   "execution_count": null,
   "metadata": {},
   "outputs": [],
   "source": [
    "tF = tp.filter_stubs(t, 1)\n",
    "allMosF = tF.particle.unique()\n",
    "\n",
    "plt.figure(figsize=(15,10))\n",
    "\n",
    "# for i in range(0, len(allMos) - 1):\n",
    "#     plt.plot(tF[tF.particle == allMos[i]].frame, tF[tF.particle == allMos[i]].area)\n",
    "    \n",
    "for i in range(0, len(allMos) - 1):\n",
    "    plt.plot(tF[tF.particle == allMos[i]].frame, tF[tF.particle == allMos[i]].area.rolling(window=2).mean() - tF[tF.particle == allMos[i]].area.min())\n",
    "    \n",
    "# for i in range(0, len(allMos) - 1):\n",
    "#     plt.plot(tF[tF.particle == allMos[i]].frame[0:-1], np.diff(tF[tF.particle == allMos[i]].area))"
   ]
  },
  {
   "cell_type": "code",
   "execution_count": null,
   "metadata": {},
   "outputs": [],
   "source": [
    "Be2 = erosion(Bt, disk(5))\n",
    "Bf = remove_small_objects(Be2, min_size=200)\n",
    "Bc2 = binary_closing(Bf, disk(15))\n",
    "plt.figure(figsize=(25,20))\n",
    "Bc3 = scipy.ndimage.morphology.binary_fill_holes(Bc2)\n",
    "plt.imshow(Bc2)"
   ]
  },
  {
   "cell_type": "code",
   "execution_count": null,
   "metadata": {},
   "outputs": [],
   "source": [
    "plt.figure(figsize=(25,20))\n",
    "# Bcc = binary_closing(Bf, disk(12))\n",
    "plt.imshow(B)"
   ]
  },
  {
   "cell_type": "code",
   "execution_count": null,
   "metadata": {},
   "outputs": [],
   "source": [
    "num_cores = multiprocessing.cpu_count()\n",
    "results = Parallel(n_jobs=num_cores)(delayed(trackMosq2)(i) for i in tnrange(1, 500))"
   ]
  },
  {
   "cell_type": "code",
   "execution_count": null,
   "metadata": {},
   "outputs": [],
   "source": [
    "centroidsAllT = np.zeros((1,3))\n",
    "coordinatesAllT = np.zeros((1,3))\n",
    "\n",
    "for i in range(len(results)):\n",
    "    centroidsAllT = np.vstack((centroidsAllT,results[i][0]))\n",
    "    coordinatesAllT = np.vstack((coordinatesAllT,results[i][1]))"
   ]
  },
  {
   "cell_type": "code",
   "execution_count": null,
   "metadata": {},
   "outputs": [],
   "source": [
    "plt.figure(figsize=(25,10))\n",
    "plt.imshow(frames[2000], cmap = 'gray')\n",
    "plt.plot(coordinatesAllT[:,1],coordinatesAllT[:,0],'r.')\n",
    "plt.plot(centroidsAllT[:,1],centroidsAllT[:,0],'b.')"
   ]
  },
  {
   "cell_type": "code",
   "execution_count": null,
   "metadata": {},
   "outputs": [],
   "source": [
    "os.chdir(saveDir)\n",
    "with open('181211_01_02_full_CAndC01.pkl', 'wb') as f:\n",
    "    pickle.dump(results, f)"
   ]
  },
  {
   "cell_type": "code",
   "execution_count": null,
   "metadata": {},
   "outputs": [],
   "source": [
    "df_cenAllT = pd.DataFrame(centroidsAllT)\n",
    "df_cenAllT = df_cenAllT.rename(columns={0: \"y\", 1: \"x\", 2: \"frame\"})\n",
    "df_cenAllT.head()"
   ]
  },
  {
   "cell_type": "code",
   "execution_count": null,
   "metadata": {},
   "outputs": [],
   "source": [
    "i"
   ]
  },
  {
   "cell_type": "code",
   "execution_count": null,
   "metadata": {},
   "outputs": [],
   "source": [
    "os.chdir('/media/felix/Samsung_T5/Felix/biteData_FeDa/181212_01/181212_02crops/')\n",
    "\n",
    "frameWidth = 2048\n",
    "frameHeigth = 2048\n",
    "ROIwidth = 550\n",
    "ROIheigth = 550\n",
    "halfROIwidth = ROIwidth / 2\n",
    "halfROIheigth = ROIheigth / 2\n",
    "\n",
    "p = 3.0\n",
    "tP = t.loc[t['particle'] == p]\n",
    "\n",
    "for index, row in tP.iterrows():\n",
    "    if row['x'] < halfROIwidth:\n",
    "        x_start = 0\n",
    "        x_stop = ROIwidth\n",
    "    elif row['x'] + halfROIwidth > frameWidth:\n",
    "        x_start = frameWidth - ROIwidth\n",
    "        x_stop = frameWidth\n",
    "    else:\n",
    "        x_start = row['x'] - halfROIwidth\n",
    "        x_stop = row['x'] + halfROIwidth\n",
    "    if row['y'] < halfROIwidth:\n",
    "        y_start = 0\n",
    "        y_stop = ROIwidth\n",
    "    elif row['y'] + halfROIwidth > frameWidth:\n",
    "        y_start = frameWidth - ROIwidth\n",
    "        y_stop = frameWidth\n",
    "    else:\n",
    "        y_start = row['y'] - halfROIwidth\n",
    "        y_stop = row['y'] + halfROIwidth\n",
    "    currFrame = frames[row['frame']]\n",
    "    currROI = currFrame[int(y_start):int(y_stop), int(x_start):int(x_stop)]\n",
    "    skimage.io.imsave(\"crop_p\" + str(int(p)).zfill(3) + \"_f\" + str(int(row['frame'])).zfill(6) + \".png\", currROI)\n",
    "\n",
    "# .image.imsave('name.png', array)"
   ]
  },
  {
   "cell_type": "code",
   "execution_count": null,
   "metadata": {},
   "outputs": [],
   "source": [
    "y_stop"
   ]
  },
  {
   "cell_type": "code",
   "execution_count": null,
   "metadata": {
    "scrolled": false
   },
   "outputs": [],
   "source": [
    "currFrame"
   ]
  },
  {
   "cell_type": "code",
   "execution_count": null,
   "metadata": {},
   "outputs": [],
   "source": [
    "currROI"
   ]
  },
  {
   "cell_type": "code",
   "execution_count": null,
   "metadata": {},
   "outputs": [],
   "source": []
  }
 ],
 "metadata": {
  "kernelspec": {
   "display_name": "bs2",
   "language": "python",
   "name": "bs2"
  },
  "language_info": {
   "codemirror_mode": {
    "name": "ipython",
    "version": 3
   },
   "file_extension": ".py",
   "mimetype": "text/x-python",
   "name": "python",
   "nbconvert_exporter": "python",
   "pygments_lexer": "ipython3",
   "version": "3.6.5"
  },
  "varInspector": {
   "cols": {
    "lenName": 16,
    "lenType": 16,
    "lenVar": 40
   },
   "kernels_config": {
    "python": {
     "delete_cmd_postfix": "",
     "delete_cmd_prefix": "del ",
     "library": "var_list.py",
     "varRefreshCmd": "print(var_dic_list())"
    },
    "r": {
     "delete_cmd_postfix": ") ",
     "delete_cmd_prefix": "rm(",
     "library": "var_list.r",
     "varRefreshCmd": "cat(var_dic_list()) "
    }
   },
   "types_to_exclude": [
    "module",
    "function",
    "builtin_function_or_method",
    "instance",
    "_Feature"
   ],
   "window_display": false
  }
 },
 "nbformat": 4,
 "nbformat_minor": 2
}
