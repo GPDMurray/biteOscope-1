{
 "cells": [
  {
   "cell_type": "code",
   "execution_count": 1,
   "metadata": {},
   "outputs": [],
   "source": [
    "'''\n",
    "author: Felix Hol\n",
    "date: 2019 July 22\n",
    "content: code to track mosquitoes, several filtering parameters will need tweaking depending on imaging parameters.\n",
    "'''\n",
    "\n",
    "import numpy as np\n",
    "%matplotlib inline\n",
    "import matplotlib as mpl\n",
    "# mpl.use('TkAgg') ### this is a workaround for a bug when running on macOS, may not be necessary anymore\n",
    "import matplotlib.pyplot as plt\n",
    "import os\n",
    "import itertools as it\n",
    "import pandas as pd\n",
    "from pandas import DataFrame, Series  # for convenience\n",
    "import pims\n",
    "import skimage\n",
    "from skimage import data, io, util\n",
    "from skimage.feature import (canny, match_descriptors, peak_local_max, match_template, corner_peaks, corner_harris, plot_matches, BRIEF)\n",
    "from skimage.color import rgb2gray\n",
    "from skimage.draw import circle\n",
    "from skimage.measure import label, regionprops\n",
    "from skimage.morphology import binary_dilation, erosion, dilation, opening, binary_closing, closing, white_tophat, remove_small_objects, disk, black_tophat, skeletonize, convex_hull_image\n",
    "from scipy import ndimage as ndi\n",
    "import scipy\n",
    "import trackpy as tp\n",
    "import pylab\n",
    "import math\n",
    "from joblib import Parallel, delayed\n",
    "import multiprocessing\n",
    "from datetime import datetime\n",
    "from tqdm.notebook import tnrange, tqdm\n",
    "import pickle\n",
    "import glob\n",
    "import cv2 as cv\n",
    "\n",
    "mpl.rcParams['pdf.fonttype'] = 42\n",
    "mpl.rcParams['ps.fonttype'] = 42"
   ]
  },
  {
   "cell_type": "code",
   "execution_count": 2,
   "metadata": {},
   "outputs": [],
   "source": [
    "dataDir = '/media/felix/Fe_ssd02/bloodTaste/190702_SalineNoATP/M2/'\n",
    "saveDir = '/home/felix/bloodTaste/190702_SalineNoATP_M2/'\n",
    "mosDataName = '190702_SalineNoATP_M2'\n",
    "frames = pims.ImageSequence(dataDir+'/*.tiff', as_grey=True)"
   ]
  },
  {
   "cell_type": "code",
   "execution_count": 3,
   "metadata": {},
   "outputs": [
    {
     "data": {
      "text/plain": [
       "10145"
      ]
     },
     "execution_count": 3,
     "metadata": {},
     "output_type": "execute_result"
    }
   ],
   "source": [
    "os.chdir(saveDir)\n",
    "len(frames)"
   ]
  },
  {
   "cell_type": "code",
   "execution_count": null,
   "metadata": {},
   "outputs": [],
   "source": [
    "####create background image\n",
    "\n",
    "start = 1\n",
    "stop = len(frames) - 1\n",
    "step = math.floor(len(frames)/20)\n",
    "\n",
    "numBGframes = int(np.ceil((stop - start) /step) + 1)\n",
    "frameSize = frames[1].shape\n",
    "BG = np.zeros([frameSize[0], frameSize[1], numBGframes])\n",
    "\n",
    "j = 1\n",
    "for i in range(start, stop, step):\n",
    "    j += 1\n",
    "    BG[:, :, j - 1] = np.invert(frames[i])    \n",
    "\n",
    "BG = np.median(BG, axis=2)"
   ]
  },
  {
   "cell_type": "code",
   "execution_count": null,
   "metadata": {},
   "outputs": [],
   "source": [
    "plt.figure(figsize=(25,10))\n",
    "plt.imshow(BG)"
   ]
  },
  {
   "cell_type": "code",
   "execution_count": null,
   "metadata": {},
   "outputs": [],
   "source": [
    "#### get centroid coordinates\n",
    "\n",
    "def trackMosq2(i):\n",
    "    borderToExclude = 225\n",
    "    selem1 = disk(8)\n",
    "    selem2 = disk(1)\n",
    "    A = np.zeros(frameSize)\n",
    "    A = A + np.invert(frames[i])\n",
    "    B = A - BG\n",
    "    if B.min() > 0:\n",
    "        Bm = B - B.min()\n",
    "    else:\n",
    "        Bm = B\n",
    "    Bt = Bm > 80\n",
    "    Bts = remove_small_objects(Bt, min_size=400)\n",
    "    Be = erosion(Bts, selem2)\n",
    "    Bf = remove_small_objects(Be, min_size=300)\n",
    "    Bc = binary_closing(Bf, selem1)\n",
    "    C = B * Bc\n",
    "    eroded = erosion(C, selem2)\n",
    "    eroded = skimage.filters.gaussian(eroded, 4)\n",
    "    eroded[eroded < 0] = 0\n",
    "    erL = label(eroded>0)\n",
    "    erR = regionprops(erL, C)#, coordinates='xy')\n",
    "    l = 1\n",
    "    for props in erR:\n",
    "        if props.area > 100000:\n",
    "            erL[erL==l] = 0\n",
    "        if props.major_axis_length > 1000:\n",
    "            erL[erL==l] = 0\n",
    "        if props.centroid[0] < borderToExclude or props.centroid[1] < borderToExclude or props.centroid[0] > frameSize[0] - borderToExclude or props.centroid[1] > frameSize[1] - borderToExclude:\n",
    "            erL[erL==l] = 0\n",
    "        l = l +1\n",
    "    erLf = label(erL>0)\n",
    "    erodedF = eroded * (erLf > 0)\n",
    "    erRf = regionprops(erLf, C)#, coordinates='xy')\n",
    "    centroids = np.zeros([len(erRf), 2])\n",
    "    numCent = 0\n",
    "    for props in erRf:\n",
    "        centroids[numCent] = props.centroid\n",
    "        numCent += 1\n",
    "#     coordinates = peak_local_max(eroded, min_distance=130, exclude_border=1)\n",
    "#     cS= coordinates.shape; numCoor = cS[0]\n",
    "    cenS= centroids.shape; numCen = cenS[0]\n",
    "    frameNo = i\n",
    "#     frameNoA = np.zeros((numCoor,1), dtype=np.int)\n",
    "    frameNoCen = np.zeros((numCen,1), dtype=np.int)\n",
    "#     frameNoA[:] = frameNo\n",
    "    frameNoCen[:] = frameNo\n",
    "#     coordinatesF = np.hstack((coordinates,frameNoA))\n",
    "    centroidsF = np.hstack((centroids,frameNoCen))\n",
    "#     coordinatesF = np.hstack((coordinates,frameNoA))\n",
    "#     numCoords = coordinatesF.shape[0]\n",
    "    numCents = centroidsF.shape[0]\n",
    "    return centroidsF, numCents\n",
    "\n",
    "#     return centroidsF, coordinatesF, numCents, numCoords\n"
   ]
  },
  {
   "cell_type": "code",
   "execution_count": null,
   "metadata": {},
   "outputs": [],
   "source": [
    "#####testing....\n",
    "i = 9470\n",
    "centroidsF, numCents = trackMosq2(i)\n",
    "plt.figure(figsize=(18,12))\n",
    "plt.imshow(frames[i], cmap = 'gray')\n",
    "# plt.imshow(eroded)\n",
    "# plt.plot(coordinatesF[:,1],coordinatesF[:,0],'r.')\n",
    "plt.plot(centroidsF[:,1],centroidsF[:,0],'r.')"
   ]
  },
  {
   "cell_type": "code",
   "execution_count": null,
   "metadata": {},
   "outputs": [],
   "source": [
    "### get centroids (parallel) and pickle output\n",
    "\n",
    "num_cores = multiprocessing.cpu_count()\n",
    "results = Parallel(n_jobs=num_cores)(delayed(trackMosq2)(i) for i in tnrange(1000, 9600))\n",
    "\n",
    "centroidsAllT = np.zeros((1,3))\n",
    "\n",
    "for i in range(len(results)):\n",
    "    centroidsAllT = np.vstack((centroidsAllT,results[i][0]))\n",
    "    \n",
    "os.chdir(saveDir)\n",
    "with open('190702_SalineNoATP_M2_ROICent.pkl', 'wb') as f:\n",
    "    pickle.dump(centroidsAllT, f)"
   ]
  },
  {
   "cell_type": "code",
   "execution_count": null,
   "metadata": {},
   "outputs": [],
   "source": [
    "centroidsAllT = np.zeros((1,3))\n",
    "\n",
    "for i in range(len(results)):\n",
    "    centroidsAllT = np.vstack((centroidsAllT,results[i][0]))"
   ]
  },
  {
   "cell_type": "code",
   "execution_count": null,
   "metadata": {},
   "outputs": [],
   "source": [
    "len(centroidsAllT)"
   ]
  },
  {
   "cell_type": "code",
   "execution_count": null,
   "metadata": {
    "scrolled": false
   },
   "outputs": [],
   "source": [
    "plt.figure(figsize=(18,12))\n",
    "plt.imshow(frames[1000], cmap = 'gray')\n",
    "# plt.imshow(eroded)\n",
    "# plt.plot(coordinatesF[:,1],coordinatesF[:,0],'r.')\n",
    "plt.plot(centroidsAllT[:,1],centroidsAllT[:,0],'r.')"
   ]
  },
  {
   "cell_type": "code",
   "execution_count": null,
   "metadata": {},
   "outputs": [],
   "source": [
    "os.chdir(saveDir)\n",
    "with open('190702_SalineNoATP_M2_ROICent.pkl', 'wb') as f:\n",
    "    pickle.dump(centroidsAllT, f)"
   ]
  },
  {
   "cell_type": "code",
   "execution_count": null,
   "metadata": {},
   "outputs": [],
   "source": [
    "# os.chdir(saveDir)\n",
    "# with open('190625_KPPTN_01_Cent.pkl', 'rb') as f:\n",
    "#     centroidsAllT = pickle.load(f)"
   ]
  },
  {
   "cell_type": "code",
   "execution_count": null,
   "metadata": {},
   "outputs": [],
   "source": [
    "# os.chdir(saveDir)\n",
    "# with open('190625_KPPTN_01_tracks.pkl', 'rb') as f:\n",
    "#     t = pickle.load(f)"
   ]
  },
  {
   "cell_type": "code",
   "execution_count": null,
   "metadata": {},
   "outputs": [],
   "source": [
    "os.chdir(saveDir)\n",
    "pickleList = glob.glob('*.pkl')\n",
    "centroidsAllCat = np.zeros((1,3))\n",
    "\n",
    "for i in pickleList:\n",
    "    with open(i, \"rb\") as input_file:\n",
    "        centroidsI = pickle.load(input_file)\n",
    "    centroidsAllCat = np.vstack((centroidsAllCat, centroidsI))"
   ]
  },
  {
   "cell_type": "code",
   "execution_count": null,
   "metadata": {},
   "outputs": [],
   "source": [
    "df_cenAllT = pd.DataFrame(centroidsAllT)\n",
    "df_cenAllT = df_cenAllT.rename(columns={0: \"y\", 1: \"x\", 2: \"frame\"})\n",
    "df_cenAllT.head()"
   ]
  },
  {
   "cell_type": "code",
   "execution_count": null,
   "metadata": {},
   "outputs": [],
   "source": [
    "t = tp.link_df(df_cenAllT, 700, memory=4)"
   ]
  },
  {
   "cell_type": "code",
   "execution_count": null,
   "metadata": {},
   "outputs": [],
   "source": [
    "plt.figure(figsize=(25,10))\n",
    "plt.imshow(frames[200], cmap='gray')\n",
    "plt.plot(centroidsAllT[:,1],centroidsAllT[:,0],'r.',alpha=0.5, markersize=10)\n",
    "tp.plot_traj(t, plot_style={'linewidth':'2.0'})"
   ]
  },
  {
   "cell_type": "code",
   "execution_count": null,
   "metadata": {},
   "outputs": [],
   "source": [
    "os.chdir(saveDir)\n",
    "t.to_pickle('190702_SalineNoATP_M2_ROItracks.pkl')"
   ]
  },
  {
   "cell_type": "code",
   "execution_count": 4,
   "metadata": {},
   "outputs": [],
   "source": [
    "os.chdir(saveDir)\n",
    "t = pickle.load(open('190702_SalineNoATP_M2_ROItracks.pkl', 'rb'))"
   ]
  },
  {
   "cell_type": "code",
   "execution_count": 5,
   "metadata": {},
   "outputs": [
    {
     "data": {
      "text/html": [
       "<div>\n",
       "<style scoped>\n",
       "    .dataframe tbody tr th:only-of-type {\n",
       "        vertical-align: middle;\n",
       "    }\n",
       "\n",
       "    .dataframe tbody tr th {\n",
       "        vertical-align: top;\n",
       "    }\n",
       "\n",
       "    .dataframe thead th {\n",
       "        text-align: right;\n",
       "    }\n",
       "</style>\n",
       "<table border=\"1\" class=\"dataframe\">\n",
       "  <thead>\n",
       "    <tr style=\"text-align: right;\">\n",
       "      <th></th>\n",
       "      <th>y</th>\n",
       "      <th>x</th>\n",
       "      <th>frame</th>\n",
       "      <th>particle</th>\n",
       "    </tr>\n",
       "  </thead>\n",
       "  <tbody>\n",
       "    <tr>\n",
       "      <td>0</td>\n",
       "      <td>0.000000</td>\n",
       "      <td>0.000000</td>\n",
       "      <td>0</td>\n",
       "      <td>0</td>\n",
       "    </tr>\n",
       "    <tr>\n",
       "      <td>1</td>\n",
       "      <td>564.702354</td>\n",
       "      <td>280.901415</td>\n",
       "      <td>1172</td>\n",
       "      <td>1</td>\n",
       "    </tr>\n",
       "    <tr>\n",
       "      <td>2</td>\n",
       "      <td>996.416232</td>\n",
       "      <td>378.700806</td>\n",
       "      <td>1173</td>\n",
       "      <td>1</td>\n",
       "    </tr>\n",
       "    <tr>\n",
       "      <td>3</td>\n",
       "      <td>1299.368127</td>\n",
       "      <td>303.702693</td>\n",
       "      <td>1174</td>\n",
       "      <td>1</td>\n",
       "    </tr>\n",
       "    <tr>\n",
       "      <td>4</td>\n",
       "      <td>1079.936605</td>\n",
       "      <td>365.564329</td>\n",
       "      <td>1175</td>\n",
       "      <td>1</td>\n",
       "    </tr>\n",
       "  </tbody>\n",
       "</table>\n",
       "</div>"
      ],
      "text/plain": [
       "             y           x  frame  particle\n",
       "0     0.000000    0.000000      0         0\n",
       "1   564.702354  280.901415   1172         1\n",
       "2   996.416232  378.700806   1173         1\n",
       "3  1299.368127  303.702693   1174         1\n",
       "4  1079.936605  365.564329   1175         1"
      ]
     },
     "execution_count": 5,
     "metadata": {},
     "output_type": "execute_result"
    }
   ],
   "source": [
    "t.head()"
   ]
  },
  {
   "cell_type": "code",
   "execution_count": 6,
   "metadata": {},
   "outputs": [
    {
     "data": {
      "text/plain": [
       "array([ 7, 14, 15, 17, 18, 19, 27, 28, 30, 32, 34, 35, 46, 49, 56, 59])"
      ]
     },
     "execution_count": 6,
     "metadata": {},
     "output_type": "execute_result"
    }
   ],
   "source": [
    "tFilt = tp.filter_stubs(t, 10)\n",
    "tFilt.particle.unique()"
   ]
  },
  {
   "cell_type": "code",
   "execution_count": null,
   "metadata": {},
   "outputs": [],
   "source": [
    "len(tFilt)"
   ]
  },
  {
   "cell_type": "code",
   "execution_count": null,
   "metadata": {},
   "outputs": [],
   "source": [
    "plt.figure(figsize=(25,10))\n",
    "plt.imshow(frames[200], cmap='gray')\n",
    "# plt.plot(centroidsAllT[:,1],centroidsAllT[:,0],'r.',alpha=0.5, markersize=10)\n",
    "tp.plot_traj(tFilt, plot_style={'linewidth':'2.0'})"
   ]
  },
  {
   "cell_type": "code",
   "execution_count": null,
   "metadata": {},
   "outputs": [],
   "source": [
    "len(tFilt.particle.unique())"
   ]
  },
  {
   "cell_type": "code",
   "execution_count": null,
   "metadata": {},
   "outputs": [],
   "source": [
    "t.head()"
   ]
  },
  {
   "cell_type": "code",
   "execution_count": null,
   "metadata": {},
   "outputs": [],
   "source": [
    "tP.head()"
   ]
  },
  {
   "cell_type": "code",
   "execution_count": null,
   "metadata": {
    "scrolled": false
   },
   "outputs": [],
   "source": [
    "plt.figure(figsize=(10,10))\n",
    "plt.imshow(currROI, cmap=plt.cm.gray)\n",
    "plt.plot(init[:, 0], init[:, 1])\n",
    "plt.plot(snake[:, 0], snake[:, 1], '-r', lw=1)\n",
    "plt.plot(newX, newY, '.g', markersize=6)"
   ]
  },
  {
   "cell_type": "code",
   "execution_count": null,
   "metadata": {},
   "outputs": [],
   "source": [
    "epsilon = 0.001*cv.arcLength(snakeD.astype(int),True)\n",
    "approx = cv.approxPolyDP(snakeD.astype(int),epsilon,True)"
   ]
  },
  {
   "cell_type": "code",
   "execution_count": null,
   "metadata": {},
   "outputs": [],
   "source": [
    "plt.figure(figsize=(10,10))\n",
    "plt.imshow(currROI, cmap=plt.cm.gray)\n",
    "plt.plot(approx[:, 0, 0], approx[:, 0, 1], lw=6)\n",
    "plt.plot(snake[:, 0], snake[:, 1], '-r', lw=1)\n",
    "plt.plot(newX, newY, '.g', markersize=6)"
   ]
  },
  {
   "cell_type": "code",
   "execution_count": null,
   "metadata": {
    "scrolled": true
   },
   "outputs": [],
   "source": [
    "np.shape(approx)"
   ]
  },
  {
   "cell_type": "code",
   "execution_count": null,
   "metadata": {},
   "outputs": [],
   "source": [
    "np.shape(snake)"
   ]
  },
  {
   "cell_type": "code",
   "execution_count": null,
   "metadata": {},
   "outputs": [],
   "source": [
    "ret = cv.matchShapes(snakeD.astype(int), approx, 1, 0.0)"
   ]
  },
  {
   "cell_type": "code",
   "execution_count": null,
   "metadata": {},
   "outputs": [],
   "source": [
    "print(ret)"
   ]
  },
  {
   "cell_type": "code",
   "execution_count": 26,
   "metadata": {},
   "outputs": [],
   "source": [
    "t['distance'] = ''\n",
    "t['velocity'] = ''\n",
    "t['bellyWidth'] = ''\n",
    "t['bellyArea'] = ''\n",
    "t['mosqLength'] = ''"
   ]
  },
  {
   "cell_type": "code",
   "execution_count": 33,
   "metadata": {},
   "outputs": [
    {
     "data": {
      "text/plain": [
       "array([ 7, 14, 15, 17, 18, 19, 27, 28, 30, 32, 34, 35, 46, 49, 56, 59])"
      ]
     },
     "execution_count": 33,
     "metadata": {},
     "output_type": "execute_result"
    }
   ],
   "source": [
    "tFilt.particle.unique()"
   ]
  },
  {
   "cell_type": "code",
   "execution_count": 37,
   "metadata": {},
   "outputs": [
    {
     "data": {
      "text/html": [
       "<div>\n",
       "<style scoped>\n",
       "    .dataframe tbody tr th:only-of-type {\n",
       "        vertical-align: middle;\n",
       "    }\n",
       "\n",
       "    .dataframe tbody tr th {\n",
       "        vertical-align: top;\n",
       "    }\n",
       "\n",
       "    .dataframe thead th {\n",
       "        text-align: right;\n",
       "    }\n",
       "</style>\n",
       "<table border=\"1\" class=\"dataframe\">\n",
       "  <thead>\n",
       "    <tr style=\"text-align: right;\">\n",
       "      <th></th>\n",
       "      <th>y</th>\n",
       "      <th>x</th>\n",
       "      <th>frame</th>\n",
       "      <th>particle</th>\n",
       "      <th>distance</th>\n",
       "      <th>velocity</th>\n",
       "      <th>bellyWidth</th>\n",
       "      <th>bellyArea</th>\n",
       "      <th>mosqLength</th>\n",
       "    </tr>\n",
       "  </thead>\n",
       "  <tbody>\n",
       "    <tr>\n",
       "      <td>17</td>\n",
       "      <td>1169.125634</td>\n",
       "      <td>353.581537</td>\n",
       "      <td>1222</td>\n",
       "      <td>7</td>\n",
       "      <td>6.60092</td>\n",
       "      <td>66.0092</td>\n",
       "      <td>0.427321</td>\n",
       "      <td>239.5</td>\n",
       "      <td>0.499689</td>\n",
       "    </tr>\n",
       "    <tr>\n",
       "      <td>18</td>\n",
       "      <td>1430.176129</td>\n",
       "      <td>386.422623</td>\n",
       "      <td>1223</td>\n",
       "      <td>7</td>\n",
       "      <td>3.70751</td>\n",
       "      <td>37.0751</td>\n",
       "      <td>0.337061</td>\n",
       "      <td>132.5</td>\n",
       "      <td>0.372541</td>\n",
       "    </tr>\n",
       "    <tr>\n",
       "      <td>19</td>\n",
       "      <td>1556.142434</td>\n",
       "      <td>463.695647</td>\n",
       "      <td>1224</td>\n",
       "      <td>7</td>\n",
       "      <td>0.537274</td>\n",
       "      <td>5.37274</td>\n",
       "      <td>0.851523</td>\n",
       "      <td>3623</td>\n",
       "      <td>4.20439</td>\n",
       "    </tr>\n",
       "    <tr>\n",
       "      <td>20</td>\n",
       "      <td>1553.524229</td>\n",
       "      <td>442.440921</td>\n",
       "      <td>1225</td>\n",
       "      <td>7</td>\n",
       "      <td>0.513887</td>\n",
       "      <td>5.13887</td>\n",
       "      <td>0.999329</td>\n",
       "      <td>4168</td>\n",
       "      <td>4.0354</td>\n",
       "    </tr>\n",
       "    <tr>\n",
       "      <td>21</td>\n",
       "      <td>1537.766076</td>\n",
       "      <td>429.354977</td>\n",
       "      <td>1226</td>\n",
       "      <td>7</td>\n",
       "      <td>0.167982</td>\n",
       "      <td>1.67982</td>\n",
       "      <td>1.05066</td>\n",
       "      <td>4131.5</td>\n",
       "      <td>4.03152</td>\n",
       "    </tr>\n",
       "    <tr>\n",
       "      <td>...</td>\n",
       "      <td>...</td>\n",
       "      <td>...</td>\n",
       "      <td>...</td>\n",
       "      <td>...</td>\n",
       "      <td>...</td>\n",
       "      <td>...</td>\n",
       "      <td>...</td>\n",
       "      <td>...</td>\n",
       "      <td>...</td>\n",
       "    </tr>\n",
       "    <tr>\n",
       "      <td>276</td>\n",
       "      <td>1488.237018</td>\n",
       "      <td>242.669757</td>\n",
       "      <td>1481</td>\n",
       "      <td>7</td>\n",
       "      <td>0.141193</td>\n",
       "      <td>1.41193</td>\n",
       "      <td>1.2765</td>\n",
       "      <td>4041</td>\n",
       "      <td>3.67111</td>\n",
       "    </tr>\n",
       "    <tr>\n",
       "      <td>277</td>\n",
       "      <td>1492.313523</td>\n",
       "      <td>238.789705</td>\n",
       "      <td>1482</td>\n",
       "      <td>7</td>\n",
       "      <td>0.156509</td>\n",
       "      <td>1.56509</td>\n",
       "      <td>1.11684</td>\n",
       "      <td>3542.5</td>\n",
       "      <td>3.60125</td>\n",
       "    </tr>\n",
       "    <tr>\n",
       "      <td>278</td>\n",
       "      <td>1487.815806</td>\n",
       "      <td>243.112595</td>\n",
       "      <td>1483</td>\n",
       "      <td>7</td>\n",
       "      <td>0.243435</td>\n",
       "      <td>2.43435</td>\n",
       "      <td>1.04822</td>\n",
       "      <td>3683.5</td>\n",
       "      <td>3.68974</td>\n",
       "    </tr>\n",
       "    <tr>\n",
       "      <td>279</td>\n",
       "      <td>1484.353385</td>\n",
       "      <td>234.048211</td>\n",
       "      <td>1484</td>\n",
       "      <td>7</td>\n",
       "      <td>0.231285</td>\n",
       "      <td>2.31285</td>\n",
       "      <td>1.10414</td>\n",
       "      <td>3630</td>\n",
       "      <td>3.63121</td>\n",
       "    </tr>\n",
       "    <tr>\n",
       "      <td>280</td>\n",
       "      <td>1478.312313</td>\n",
       "      <td>227.084527</td>\n",
       "      <td>1485</td>\n",
       "      <td>7</td>\n",
       "      <td></td>\n",
       "      <td></td>\n",
       "      <td></td>\n",
       "      <td></td>\n",
       "      <td></td>\n",
       "    </tr>\n",
       "  </tbody>\n",
       "</table>\n",
       "<p>262 rows × 9 columns</p>\n",
       "</div>"
      ],
      "text/plain": [
       "               y           x  frame  particle  distance velocity bellyWidth  \\\n",
       "17   1169.125634  353.581537   1222         7   6.60092  66.0092   0.427321   \n",
       "18   1430.176129  386.422623   1223         7   3.70751  37.0751   0.337061   \n",
       "19   1556.142434  463.695647   1224         7  0.537274  5.37274   0.851523   \n",
       "20   1553.524229  442.440921   1225         7  0.513887  5.13887   0.999329   \n",
       "21   1537.766076  429.354977   1226         7  0.167982  1.67982    1.05066   \n",
       "..           ...         ...    ...       ...       ...      ...        ...   \n",
       "276  1488.237018  242.669757   1481         7  0.141193  1.41193     1.2765   \n",
       "277  1492.313523  238.789705   1482         7  0.156509  1.56509    1.11684   \n",
       "278  1487.815806  243.112595   1483         7  0.243435  2.43435    1.04822   \n",
       "279  1484.353385  234.048211   1484         7  0.231285  2.31285    1.10414   \n",
       "280  1478.312313  227.084527   1485         7                                 \n",
       "\n",
       "    bellyArea mosqLength  \n",
       "17      239.5   0.499689  \n",
       "18      132.5   0.372541  \n",
       "19       3623    4.20439  \n",
       "20       4168     4.0354  \n",
       "21     4131.5    4.03152  \n",
       "..        ...        ...  \n",
       "276      4041    3.67111  \n",
       "277    3542.5    3.60125  \n",
       "278    3683.5    3.68974  \n",
       "279      3630    3.63121  \n",
       "280                       \n",
       "\n",
       "[262 rows x 9 columns]"
      ]
     },
     "execution_count": 37,
     "metadata": {},
     "output_type": "execute_result"
    }
   ],
   "source": [
    "t.loc[t['particle'] == 7]"
   ]
  },
  {
   "cell_type": "code",
   "execution_count": 36,
   "metadata": {},
   "outputs": [],
   "source": [
    "frameWidth = 2048\n",
    "frameHeigth = 2048\n",
    "ROIwidth = 550\n",
    "ROIheigth = 550\n",
    "halfROIwidth = ROIwidth / 2\n",
    "halfROIheigth = ROIheigth / 2\n",
    "framesPerSecond = 10\n",
    "\n",
    "### 42.65 culture flask is 42.65 mm (measured from inner most low rim that is continues)\n",
    "### that is 1700 pixels in a typical field of view\n",
    "\n",
    "mmPerPix = 42.65 / 1700\n",
    "p = 7\n",
    "\n",
    "# tP = t.loc[t['particle'] == 15]\n",
    "# if len(tP) > 2000:\n",
    "#     tP = tP[:2000]\n",
    "s = np.linspace(0, 2*np.pi, 400)\n",
    "# bellySizeRR = np.empty([0, 0])\n",
    "# snakeArea = np.empty([0, 0])\n",
    "\n",
    "for index, row in it.islice(t.loc[t['particle'] == p].iterrows(), None, len(t.loc[t['particle'] == p]) - 1):\n",
    "    d = math.sqrt((t.iloc[index + 1].x - row.x) ** 2 + (t.iloc[index + 1].y - row.y) ** 2)\n",
    "    d = d * mmPerPix\n",
    "    velocity = d * framesPerSecond\n",
    "    t.at[index, 'distance'] = d\n",
    "    t.at[index, 'velocity'] = velocity\n",
    "    if row['x'] < halfROIwidth:\n",
    "        x_start = 0\n",
    "        x_stop = ROIwidth\n",
    "        newX = row.x\n",
    "    elif row['x'] + halfROIwidth > frameWidth:\n",
    "        x_start = frameWidth - ROIwidth\n",
    "        x_stop = frameWidth\n",
    "        newX = halfROIwidth + (halfROIwidth - (frameWidth - row.x))\n",
    "    else:\n",
    "        x_start = row['x'] - halfROIwidth\n",
    "        x_stop = row['x'] + halfROIwidth\n",
    "        newX = halfROIwidth\n",
    "    if row['y'] < halfROIwidth:\n",
    "        y_start = 0\n",
    "        y_stop = ROIwidth\n",
    "        newY = row.y\n",
    "    elif row['y'] + halfROIwidth > frameWidth:\n",
    "        y_start = frameWidth - ROIwidth\n",
    "        y_stop = frameWidth\n",
    "        newY = halfROIheigth + (halfROIheigth - (frameHeigth - row.y))\n",
    "    else:\n",
    "        y_start = row['y'] - halfROIwidth\n",
    "        y_stop = row['y'] + halfROIwidth\n",
    "        newY = halfROIheigth\n",
    "    currFrame = frames[row['frame']]\n",
    "    currROI = currFrame[int(y_start):int(y_stop), int(x_start):int(x_stop)]\n",
    "#     imageName = saveDir + '/crops/crop_p' + str(int(p)).zfill(3) + \"_f\" + str(int(row['frame'])).zfill(6) + \".png\"\n",
    "#     skimage.io.imsave(imageName, currROI)\n",
    "\n",
    "    x = newX + 100*np.cos(s)\n",
    "    y = newY + 100*np.sin(s)\n",
    "    init = np.array([x, y]).T\n",
    "    imBTH = skimage.morphology.black_tophat(currROI, disk(4))\n",
    "    imBT = imBTH > 7\n",
    "    # imBTE = erosion(imBT, disk(1))\n",
    "    # imBTED = binary_dilation(imBT, disk(2))\n",
    "    # imBTES = remove_small_objects(imBTED, min_size=200)\n",
    "    F = np.copy(currROI)\n",
    "    F[F > np.median(currROI)] = np.median(currROI)\n",
    "    F[imBT] = np.median(F)\n",
    "    F[currROI>70] = np.median(F)\n",
    "    F = skimage.filters.gaussian(F, 4)\n",
    "    snake = skimage.segmentation.active_contour(F*20, init, alpha=0.5, beta=8, gamma=0.001, w_edge=1, w_line=0)\n",
    "    snakeD = np.expand_dims(snake, axis=1)\n",
    "    rotRect = cv.minAreaRect(snakeD.astype(int))\n",
    "    t.at[index, 'bellyWidth'] = np.min(rotRect[1]) * mmPerPix\n",
    "    t.at[index, 'mosqLength'] = np.max(rotRect[1]) * mmPerPix\n",
    "    t.at[index, 'bellyArea'] = cv.contourArea(snakeD.astype(int))\n",
    "#         bellySizeRR = np.min(rotRect[1])\n",
    "#     bellySizeRR = np.append(bellySizeRR, np.min(rotRect[1]))\n",
    "#     snakeArea = np.append(snakeArea, cv.contourArea(snakeD.astype(int)))\n"
   ]
  },
  {
   "cell_type": "code",
   "execution_count": 22,
   "metadata": {},
   "outputs": [
    {
     "data": {
      "text/plain": [
       "(165.78045654296875, 36.63984298706055)"
      ]
     },
     "execution_count": 22,
     "metadata": {},
     "output_type": "execute_result"
    }
   ],
   "source": [
    "rotRect[1]"
   ]
  },
  {
   "cell_type": "code",
   "execution_count": 23,
   "metadata": {},
   "outputs": [
    {
     "data": {
      "text/plain": [
       "((234.23330688476562, 255.4097137451172),\n",
       " (165.78045654296875, 36.63984298706055),\n",
       " -64.31185150146484)"
      ]
     },
     "execution_count": 23,
     "metadata": {},
     "output_type": "execute_result"
    }
   ],
   "source": [
    "rotRect"
   ]
  },
  {
   "cell_type": "code",
   "execution_count": 25,
   "metadata": {},
   "outputs": [
    {
     "data": {
      "text/plain": [
       "391.4454741271352"
      ]
     },
     "execution_count": 25,
     "metadata": {},
     "output_type": "execute_result"
    }
   ],
   "source": [
    "row.y"
   ]
  },
  {
   "cell_type": "code",
   "execution_count": null,
   "metadata": {},
   "outputs": [],
   "source": [
    "t.iloc[index + 1].x"
   ]
  },
  {
   "cell_type": "code",
   "execution_count": null,
   "metadata": {},
   "outputs": [],
   "source": [
    "t.iloc[index].distance"
   ]
  },
  {
   "cell_type": "code",
   "execution_count": null,
   "metadata": {
    "scrolled": true
   },
   "outputs": [],
   "source": [
    "t.loc[t['particle'] == 1]"
   ]
  },
  {
   "cell_type": "code",
   "execution_count": null,
   "metadata": {},
   "outputs": [],
   "source": [
    "def cropMosAndBelly02(p, t):\n",
    "    frameWidth = 2048\n",
    "    frameHeigth = 2048\n",
    "    ROIwidth = 550\n",
    "    ROIheigth = 550\n",
    "    halfROIwidth = ROIwidth / 2\n",
    "    halfROIheigth = ROIheigth / 2\n",
    "\n",
    "    tP = t.loc[t['particle'] == p]\n",
    "    if len(tP) > 2000:\n",
    "        tP = tP[:2000]\n",
    "    s = np.linspace(0, 2*np.pi, 400)\n",
    "    bellySizeRR = np.empty([0, 0])\n",
    "    snakeArea = np.empty([0, 0])\n",
    "    for index, row in tP.iterrows():\n",
    "        if row['x'] < halfROIwidth:\n",
    "            x_start = 0\n",
    "            x_stop = ROIwidth\n",
    "            newX = row.x\n",
    "        elif row['x'] + halfROIwidth > frameWidth:\n",
    "            x_start = frameWidth - ROIwidth\n",
    "            x_stop = frameWidth\n",
    "            newX = halfROIwidth + (halfROIwidth - (frameWidth - row.x))\n",
    "        else:\n",
    "            x_start = row['x'] - halfROIwidth\n",
    "            x_stop = row['x'] + halfROIwidth\n",
    "            newX = halfROIwidth\n",
    "        if row['y'] < halfROIwidth:\n",
    "            y_start = 0\n",
    "            y_stop = ROIwidth\n",
    "            newY = row.y\n",
    "        elif row['y'] + halfROIwidth > frameWidth:\n",
    "            y_start = frameWidth - ROIwidth\n",
    "            y_stop = frameWidth\n",
    "            newY = halfROIheigth + (halfROIheigth - (frameHeigth - row.y))\n",
    "        else:\n",
    "            y_start = row['y'] - halfROIwidth\n",
    "            y_stop = row['y'] + halfROIwidth\n",
    "            newY = halfROIheigth\n",
    "        currFrame = frames[row['frame']]\n",
    "        currROI = currFrame[int(y_start):int(y_stop), int(x_start):int(x_stop)]\n",
    "        imageName = saveDir + '/crops/crop_p' + str(int(p)).zfill(3) + \"_f\" + str(int(row['frame'])).zfill(6) + \".png\"\n",
    "        skimage.io.imsave(imageName, currROI)\n",
    "\n",
    "        x = newX + 100*np.cos(s)\n",
    "        y = newY + 100*np.sin(s)\n",
    "        init = np.array([x, y]).T\n",
    "        imBTH = skimage.morphology.black_tophat(currROI, disk(4))\n",
    "        imBT = imBTH > 7\n",
    "        # imBTE = erosion(imBT, disk(1))\n",
    "        # imBTED = binary_dilation(imBT, disk(2))\n",
    "        # imBTES = remove_small_objects(imBTED, min_size=200)\n",
    "        F = np.copy(currROI)\n",
    "        F[F > np.median(currROI)] = np.median(currROI)\n",
    "        F[imBT] = np.median(F)\n",
    "        F[currROI>70] = np.median(F)\n",
    "        F = skimage.filters.gaussian(F, 4)\n",
    "        snake = skimage.segmentation.active_contour(F*20, init, alpha=0.5, beta=8, gamma=0.001, w_edge=1, w_line=0)\n",
    "        snakeD = np.expand_dims(snake, axis=1)\n",
    "        rotRect = cv.minAreaRect(snakeD.astype(int))\n",
    "    #         bellySizeRR = np.min(rotRect[1])\n",
    "        bellySizeRR = np.append(bellySizeRR, np.min(rotRect[1]))\n",
    "        snakeArea = np.append(snakeArea, cv.contourArea(snakeD.astype(int)))\n",
    "    return bellySizeRR, snakeArea"
   ]
  },
  {
   "cell_type": "code",
   "execution_count": null,
   "metadata": {},
   "outputs": [],
   "source": [
    "def analyzeMos(j, t):\n",
    "    mosData = pd.DataFrame(columns=['p','totDist','totTime','meanSpeed','bellyWExp','bellyWidthT', 'bellyAExp', 'bellyAreaT'])\n",
    "    p = t.loc[t['particle'] == j]\n",
    "    d = 0\n",
    "    for i in range(1, len(p) - 2):\n",
    "        d = d + math.sqrt((p.iloc[i + 1].x - p.iloc[i].x) ** 2 + (p.iloc[i + 1].y - p.iloc[i].y) ** 2)\n",
    "    D = d\n",
    "    V = D / (len(p) - 2)\n",
    "    [bellyWidth, bellyArea] = cropMosAndBelly02(j, t)\n",
    "    initSizeW = np.nanmean(bellyWidth[0:15])\n",
    "    bellyWidthExpansion = np.percentile(bellyWidth / initSizeW, 95)\n",
    "    initSizeA = np.nanmean(bellyArea[0:15])\n",
    "    bellyAreaExpansion = np.percentile(bellyArea / initSizeA, 95)\n",
    "    \n",
    "    mosData = mosData.append({'p': j,\n",
    "                   'totDist': D,\n",
    "                    'totTime': len(p),\n",
    "                   'meanSpeed': V,\n",
    "                   'bellyWExp': bellyWidthExpansion,\n",
    "                    'bellyWidthT': bellyWidth, \n",
    "                    'bellyAExp': bellyAreaExpansion,\n",
    "                    'bellyAreaT': bellyArea},\n",
    "                    ignore_index=True)\n",
    "    pickleName = saveDir + mosDataName + '-' + str(j) + '.pkl'\n",
    "    mosData.to_pickle(pickleName)\n",
    "  "
   ]
  },
  {
   "cell_type": "code",
   "execution_count": null,
   "metadata": {},
   "outputs": [],
   "source": [
    "os.chdir(saveDir)\n",
    "tFilt = tp.filter_stubs(t, 10)\n",
    "\n",
    "mosToAnalyze = tFilt.particle.unique()\n",
    "# mosToAnalyze = [100.0, 125.0, 128.0, 135.0, 140.0, 148.0, 149.0, 150.0]\n",
    "\n",
    "num_cores = multiprocessing.cpu_count()\n",
    "Parallel(n_jobs=num_cores)(delayed(analyzeMos)(i, t) for i in mosToAnalyze)"
   ]
  },
  {
   "cell_type": "code",
   "execution_count": null,
   "metadata": {},
   "outputs": [],
   "source": [
    "tFilt.particle.unique()"
   ]
  },
  {
   "cell_type": "code",
   "execution_count": null,
   "metadata": {},
   "outputs": [],
   "source": [
    "tFilt.tail()"
   ]
  },
  {
   "cell_type": "code",
   "execution_count": null,
   "metadata": {},
   "outputs": [],
   "source": [
    "mosData = t = pickle.load(open(saveDir + mosDataName + str(59) + '.pkl', 'rb'))"
   ]
  },
  {
   "cell_type": "code",
   "execution_count": null,
   "metadata": {},
   "outputs": [],
   "source": [
    "mosData.head()"
   ]
  },
  {
   "cell_type": "code",
   "execution_count": null,
   "metadata": {},
   "outputs": [],
   "source": [
    "tFilt.info()"
   ]
  },
  {
   "cell_type": "code",
   "execution_count": null,
   "metadata": {},
   "outputs": [],
   "source": [
    "tFilt.loc[tFilt['particle'] == 59]"
   ]
  },
  {
   "cell_type": "code",
   "execution_count": null,
   "metadata": {},
   "outputs": [],
   "source": [
    "len(mosData.bellyWidthT.values)"
   ]
  },
  {
   "cell_type": "code",
   "execution_count": null,
   "metadata": {},
   "outputs": [],
   "source": [
    "len(mosData.iloc[0].bellyWidthT)"
   ]
  },
  {
   "cell_type": "code",
   "execution_count": null,
   "metadata": {},
   "outputs": [],
   "source": [
    "def cropMosAndBelly02(p, t):\n",
    "    frameWidth = 2048\n",
    "    frameHeigth = 2048\n",
    "    ROIwidth = 550\n",
    "    ROIheigth = 550\n",
    "    halfROIwidth = ROIwidth / 2\n",
    "    halfROIheigth = ROIheigth / 2\n",
    "\n",
    "    tP = t.loc[t['particle'] == p]\n",
    "    if len(tP) > 2000:\n",
    "        tP = tP[:2000]\n",
    "    s = np.linspace(0, 2*np.pi, 400)\n",
    "    bellySizeRR = np.empty([0, 0])\n",
    "    snakeArea = np.empty([0, 0])\n",
    "    for index, row in tP.iterrows():\n",
    "        if row['x'] < halfROIwidth:\n",
    "            x_start = 0\n",
    "            x_stop = ROIwidth\n",
    "            newX = row.x\n",
    "        elif row['x'] + halfROIwidth > frameWidth:\n",
    "            x_start = frameWidth - ROIwidth\n",
    "            x_stop = frameWidth\n",
    "            newX = halfROIwidth + (halfROIwidth - (frameWidth - row.x))\n",
    "        else:\n",
    "            x_start = row['x'] - halfROIwidth\n",
    "            x_stop = row['x'] + halfROIwidth\n",
    "            newX = halfROIwidth\n",
    "        if row['y'] < halfROIwidth:\n",
    "            y_start = 0\n",
    "            y_stop = ROIwidth\n",
    "            newY = row.y\n",
    "        elif row['y'] + halfROIwidth > frameWidth:\n",
    "            y_start = frameWidth - ROIwidth\n",
    "            y_stop = frameWidth\n",
    "            newY = halfROIheigth + (halfROIheigth - (frameHeigth - row.y))\n",
    "        else:\n",
    "            y_start = row['y'] - halfROIwidth\n",
    "            y_stop = row['y'] + halfROIwidth\n",
    "            newY = halfROIheigth\n",
    "        currFrame = frames[row['frame']]\n",
    "        currROI = currFrame[int(y_start):int(y_stop), int(x_start):int(x_stop)]\n",
    "        imageName = saveDir + '/crops/crop_p' + str(int(p)).zfill(3) + \"_f\" + str(int(row['frame'])).zfill(6) + \".png\"\n",
    "        skimage.io.imsave(imageName, currROI)\n",
    "\n",
    "        x = newX + 100*np.cos(s)\n",
    "        y = newY + 100*np.sin(s)\n",
    "        init = np.array([x, y]).T\n",
    "        imBTH = skimage.morphology.black_tophat(currROI, disk(4))\n",
    "        imBT = imBTH > 7\n",
    "        # imBTE = erosion(imBT, disk(1))\n",
    "        # imBTED = binary_dilation(imBT, disk(2))\n",
    "        # imBTES = remove_small_objects(imBTED, min_size=200)\n",
    "        F = np.copy(currROI)\n",
    "        F[F > np.median(currROI)] = np.median(currROI)\n",
    "        F[imBT] = np.median(F)\n",
    "        F[currROI>70] = np.median(F)\n",
    "        F = skimage.filters.gaussian(F, 4)\n",
    "        snake = skimage.segmentation.active_contour(F*20, init, alpha=0.5, beta=8, gamma=0.001, w_edge=1, w_line=0)\n",
    "        snakeD = np.expand_dims(snake, axis=1)\n",
    "        rotRect = cv.minAreaRect(snakeD.astype(int))\n",
    "    #         bellySizeRR = np.min(rotRect[1])\n",
    "        bellySizeRR = np.append(bellySizeRR, np.min(rotRect[1]))\n",
    "        snakeArea = np.append(snakeArea, cv.contourArea(snakeD.astype(int)))\n",
    "    return bellySizeRR, snakeArea"
   ]
  },
  {
   "cell_type": "code",
   "execution_count": null,
   "metadata": {},
   "outputs": [],
   "source": [
    "frameWidth = 2048\n",
    "frameHeigth = 2048\n",
    "ROIwidth = 550\n",
    "ROIheigth = 550\n",
    "halfROIwidth = ROIwidth / 2\n",
    "halfROIheigth = ROIheigth / 2\n",
    "\n",
    "tP = t.loc[t['particle'] == 15]\n",
    "tP['distance'] = ''\n",
    "tP['speed'] = ''\n",
    "tP['bellyWidth'] = ''\n",
    "tP['bellyArea'] = ''\n",
    "\n",
    "\n",
    "for index, row in it.islice(tP.iterrows(), None, len(tP) - 1):\n",
    "    print(row.x)\n",
    "\n",
    "for i in range(0, len(tP) - 1):\n",
    "    d = math.sqrt((tP.iloc[i + 1].x - tP.iloc[i].x) ** 2 + (tP.iloc[i + 1].y - tP.iloc[i].y) ** 2)\n",
    "    tP.distance.iloc[i] = d\n",
    "\n",
    "\n",
    "if len(tP) > 2000:\n",
    "    tP = tP[:2000]\n",
    "s = np.linspace(0, 2*np.pi, 400)\n",
    "bellySizeRR = np.empty([0, 0])\n",
    "snakeArea = np.empty([0, 0])\n",
    "for index, row in tP.iterrows():\n",
    "    if row['x'] < halfROIwidth:\n",
    "        x_start = 0\n",
    "        x_stop = ROIwidth\n",
    "        newX = row.x\n",
    "    elif row['x'] + halfROIwidth > frameWidth:\n",
    "        x_start = frameWidth - ROIwidth\n",
    "        x_stop = frameWidth\n",
    "        newX = halfROIwidth + (halfROIwidth - (frameWidth - row.x))\n",
    "    else:\n",
    "        x_start = row['x'] - halfROIwidth\n",
    "        x_stop = row['x'] + halfROIwidth\n",
    "        newX = halfROIwidth\n",
    "    if row['y'] < halfROIwidth:\n",
    "        y_start = 0\n",
    "        y_stop = ROIwidth\n",
    "        newY = row.y\n",
    "    elif row['y'] + halfROIwidth > frameWidth:\n",
    "        y_start = frameWidth - ROIwidth\n",
    "        y_stop = frameWidth\n",
    "        newY = halfROIheigth + (halfROIheigth - (frameHeigth - row.y))\n",
    "    else:\n",
    "        y_start = row['y'] - halfROIwidth\n",
    "        y_stop = row['y'] + halfROIwidth\n",
    "        newY = halfROIheigth\n",
    "    currFrame = frames[row['frame']]\n",
    "    currROI = currFrame[int(y_start):int(y_stop), int(x_start):int(x_stop)]\n",
    "#     imageName = saveDir + '/crops/crop_p' + str(int(p)).zfill(3) + \"_f\" + str(int(row['frame'])).zfill(6) + \".png\"\n",
    "#     skimage.io.imsave(imageName, currROI)\n",
    "\n",
    "    x = newX + 100*np.cos(s)\n",
    "    y = newY + 100*np.sin(s)\n",
    "    init = np.array([x, y]).T\n",
    "    imBTH = skimage.morphology.black_tophat(currROI, disk(4))\n",
    "    imBT = imBTH > 7\n",
    "    # imBTE = erosion(imBT, disk(1))\n",
    "    # imBTED = binary_dilation(imBT, disk(2))\n",
    "    # imBTES = remove_small_objects(imBTED, min_size=200)\n",
    "    F = np.copy(currROI)\n",
    "    F[F > np.median(currROI)] = np.median(currROI)\n",
    "    F[imBT] = np.median(F)\n",
    "    F[currROI>70] = np.median(F)\n",
    "    F = skimage.filters.gaussian(F, 4)\n",
    "    snake = skimage.segmentation.active_contour(F*20, init, alpha=0.5, beta=8, gamma=0.001, w_edge=1, w_line=0)\n",
    "    snakeD = np.expand_dims(snake, axis=1)\n",
    "    rotRect = cv.minAreaRect(snakeD.astype(int))\n",
    "#         bellySizeRR = np.min(rotRect[1])\n",
    "    bellySizeRR = np.append(bellySizeRR, np.min(rotRect[1]))\n",
    "    snakeArea = np.append(snakeArea, cv.contourArea(snakeD.astype(int)))"
   ]
  },
  {
   "cell_type": "code",
   "execution_count": null,
   "metadata": {},
   "outputs": [],
   "source": [
    "row"
   ]
  },
  {
   "cell_type": "code",
   "execution_count": null,
   "metadata": {},
   "outputs": [],
   "source": [
    "tP"
   ]
  },
  {
   "cell_type": "code",
   "execution_count": null,
   "metadata": {},
   "outputs": [],
   "source": [
    "mosDf = tFilt.copy()\n",
    "mosDf['distance'] = ''\n",
    "mosDf['speed'] = ''\n",
    "mosDf['bellyWidth'] = ''\n",
    "mosDf['bellyArea'] = ''"
   ]
  },
  {
   "cell_type": "code",
   "execution_count": null,
   "metadata": {},
   "outputs": [],
   "source": [
    "mosDf.head()"
   ]
  },
  {
   "cell_type": "code",
   "execution_count": null,
   "metadata": {},
   "outputs": [],
   "source": [
    "tP.head()"
   ]
  },
  {
   "cell_type": "code",
   "execution_count": null,
   "metadata": {},
   "outputs": [],
   "source": [
    "i = 3"
   ]
  },
  {
   "cell_type": "code",
   "execution_count": null,
   "metadata": {},
   "outputs": [],
   "source": [
    "d = math.sqrt((tP.iloc[i + 1].x - tP.iloc[i].x) ** 2 + (tP.iloc[i + 1].y - tP.iloc[i].y) ** 2)"
   ]
  },
  {
   "cell_type": "code",
   "execution_count": null,
   "metadata": {},
   "outputs": [],
   "source": [
    "d"
   ]
  },
  {
   "cell_type": "code",
   "execution_count": null,
   "metadata": {},
   "outputs": [],
   "source": [
    "plt.figure(figsize=(25,10))\n",
    "plt.imshow(frames[50], cmap='gray')\n",
    "tp.plot_traj(tFilt.loc[tFilt['particle'] == 17.0], plot_style={'linewidth':'3.0'})"
   ]
  },
  {
   "cell_type": "code",
   "execution_count": null,
   "metadata": {},
   "outputs": [],
   "source": [
    "p114 = tFilt.loc[tFilt['particle'] == 114.0]"
   ]
  },
  {
   "cell_type": "code",
   "execution_count": null,
   "metadata": {},
   "outputs": [],
   "source": [
    "p049 = tFilt.loc[tFilt['particle'] == 49.0]\n",
    "p125 = tFilt.loc[tFilt['particle'] == 125.0]"
   ]
  },
  {
   "cell_type": "code",
   "execution_count": null,
   "metadata": {
    "scrolled": true
   },
   "outputs": [],
   "source": [
    "p114.head()"
   ]
  },
  {
   "cell_type": "code",
   "execution_count": null,
   "metadata": {},
   "outputs": [],
   "source": [
    "A = np.zeros(frameSize)\n",
    "A = A + np.invert(frames[4381])\n",
    "B = A - BG\n",
    "B[B < 0] = 0\n",
    "# if B.min() > 0:\n",
    "#     Bm = B - B.min()\n",
    "# else:\n",
    "#     Bm = B\n",
    "\n",
    "plt.figure(figsize=(25,25))\n",
    "plt.imshow(np.invert(B.astype(int)), cmap='gray')"
   ]
  },
  {
   "cell_type": "code",
   "execution_count": null,
   "metadata": {},
   "outputs": [],
   "source": [
    "np.min(np.invert(B.astype(int)))"
   ]
  },
  {
   "cell_type": "code",
   "execution_count": null,
   "metadata": {},
   "outputs": [],
   "source": [
    "np.max(B)"
   ]
  },
  {
   "cell_type": "code",
   "execution_count": null,
   "metadata": {},
   "outputs": [],
   "source": [
    "\n",
    "A = np.zeros(frameSize)\n",
    "A = A + np.invert(frames[4381])\n",
    "B = A - BG\n",
    "B[B < 0] = 0\n",
    "# if B.min() > 0:\n",
    "#     Bm = B - B.min()\n",
    "# else:\n",
    "#     Bm = B\n",
    "\n",
    "plt.figure(figsize=(25,25))\n",
    "plt.imshow(np.invert(B.astype(int)), cmap='gray', vmin=25, vmax=95)"
   ]
  },
  {
   "cell_type": "code",
   "execution_count": null,
   "metadata": {},
   "outputs": [],
   "source": [
    "plt.figure(figsize=(25,25))\n",
    "\n",
    "alphas = [1, 0.5, 0.35, 0.25]\n",
    "\n",
    "j = 0\n",
    "\n",
    "for i in [3194, 3312, 4675, 5767]:\n",
    "    A = np.zeros(frameSize)\n",
    "    A = A + np.invert(frames[i])\n",
    "    B = A - BG\n",
    "    B[B < 0] = 0\n",
    "    plt.imshow(np.invert(B.astype(int)), cmap='gray', alpha=alphas[j], vmin=-40, vmax=-3)\n",
    "    j = j + 1\n",
    "    \n",
    "plt.savefig('190625_KPTTN_p049_114_125_NOtracks05.png')"
   ]
  },
  {
   "cell_type": "code",
   "execution_count": null,
   "metadata": {},
   "outputs": [],
   "source": [
    "plt.figure(figsize=(25,25))\n",
    "\n",
    "alphas = [1, 0.75, 0.65, 0.55]\n",
    "\n",
    "j = 0\n",
    "\n",
    "for i in [3194, 3312, 4675, 5767]:\n",
    "    A = np.zeros(frameSize)\n",
    "    A = A + np.invert(frames[i])\n",
    "    B = A - BG\n",
    "    B[B < 0] = 0\n",
    "    plt.imshow(np.invert(B.astype(int)), cmap='gray', alpha=alphas[j], vmin=-40, vmax=-3)\n",
    "    j = j + 1\n",
    "\n",
    "for i in range(1, len(p114) - 2):\n",
    "    d = math.sqrt((p114.iloc[i + 1].x - p114.iloc[i].x) ** 2 + (p114.iloc[i + 1].y - p114.iloc[i].y) ** 2)\n",
    "    plt.plot(p114.iloc[i:i+2].x, p114.iloc[i:i+2].y, c=mpl.cm.autumn(1 / (d/15)), lw=5)\n",
    "    \n",
    "for i in range(1, len(p049) - 2):\n",
    "    d = math.sqrt((p049.iloc[i + 1].x - p049.iloc[i].x) ** 2 + (p049.iloc[i + 1].y - p049.iloc[i].y) ** 2)\n",
    "    plt.plot(p049.iloc[i:i+2].x, p049.iloc[i:i+2].y, c=mpl.cm.autumn(1 / (d/15)), lw=5)\n",
    "    \n",
    "for i in range(1, len(p125) - 2):\n",
    "    d = math.sqrt((p125.iloc[i + 1].x - p125.iloc[i].x) ** 2 + (p125.iloc[i + 1].y - p125.iloc[i].y) ** 2)\n",
    "    plt.plot(p125.iloc[i:i+2].x, p125.iloc[i:i+2].y, c=mpl.cm.autumn(1 / (d/15)), lw=5)\n",
    "    \n",
    "plt.savefig('190625_KPTTN_p049_114_125_tracks05.pdf')"
   ]
  },
  {
   "cell_type": "code",
   "execution_count": null,
   "metadata": {},
   "outputs": [],
   "source": [
    "os.getcwd()"
   ]
  },
  {
   "cell_type": "code",
   "execution_count": null,
   "metadata": {},
   "outputs": [],
   "source": [
    "plt.figure(figsize=(25,25))\n",
    "plt.imshow(frames[3194], cmap='gray', vmin=125, vmax=155, alpha=1)\n",
    "plt.imshow(frames[3312], cmap='gray', vmin=125, vmax=155, alpha=0.5)\n",
    "plt.imshow(frames[5100], cmap='gray', vmin=125, vmax=155, alpha=0.4)\n",
    "# plt.imshow(frames[2591], cmap='gray', vmin=55, vmax=160, alpha=0.4)\n",
    "# plt.imshow(frames[5571], cmap='gray', vmin=55, vmax=160, alpha=0.4)\n",
    "# plt.imshow(frames[3195], cmap='gray', vmin=55, vmax=180, alpha=0.4)\n",
    "\n",
    "# plt.imshow(frames[4327], cmap='gray', vmin=95, vmax=180, alpha=1)\n",
    "# plt.imshow(frames[4411], cmap='gray', vmin=95, vmax=180, alpha=0.5)\n",
    "# plt.imshow(frames[5148], cmap='gray', vmin=55, vmax=180, alpha=0.4)\n",
    "\n",
    "# for i in range(1, len(p114) - 2):\n",
    "#     d = math.sqrt((p114.iloc[i + 1].x - p114.iloc[i].x) ** 2 + (p114.iloc[i + 1].y - p114.iloc[i].y) ** 2)\n",
    "#     plt.plot(p114.iloc[i:i+2].x, p114.iloc[i:i+2].y, c=mpl.cm.autumn(1 / (d/15)), lw=5)\n",
    "    \n",
    "# for i in range(1, len(p049) - 2):\n",
    "#     d = math.sqrt((p049.iloc[i + 1].x - p049.iloc[i].x) ** 2 + (p049.iloc[i + 1].y - p049.iloc[i].y) ** 2)\n",
    "#     plt.plot(p049.iloc[i:i+2].x, p049.iloc[i:i+2].y, c=mpl.cm.autumn(1 / (d/15)), lw=5)\n",
    "    \n",
    "# for i in range(1, len(p125) - 2):\n",
    "#     d = math.sqrt((p125.iloc[i + 1].x - p125.iloc[i].x) ** 2 + (p125.iloc[i + 1].y - p125.iloc[i].y) ** 2)\n",
    "#     plt.plot(p125.iloc[i:i+2].x, p125.iloc[i:i+2].y, c=mpl.cm.autumn(1 / (d/15)), lw=5)"
   ]
  },
  {
   "cell_type": "code",
   "execution_count": null,
   "metadata": {},
   "outputs": [],
   "source": [
    "p114.iloc[0:2].x"
   ]
  },
  {
   "cell_type": "code",
   "execution_count": null,
   "metadata": {},
   "outputs": [],
   "source": [
    "d = math.sqrt((p114.iloc[1].x - p114.iloc[0].x) ** 2 + (p114.iloc[1].y - p114.iloc[0].y) ** 2)\n",
    "d"
   ]
  },
  {
   "cell_type": "code",
   "execution_count": null,
   "metadata": {},
   "outputs": [],
   "source": [
    "(p114.iloc[1].x - p114.iloc[0].x) ** 2"
   ]
  },
  {
   "cell_type": "code",
   "execution_count": null,
   "metadata": {},
   "outputs": [],
   "source": [
    "trajLen = np.empty([0, 0])\n",
    "\n",
    "for i in t.particle.unique():\n",
    "    trajLen = np.append(trajLen, len(tFilt.loc[tFilt['particle'] == i]))\n",
    "    "
   ]
  },
  {
   "cell_type": "code",
   "execution_count": null,
   "metadata": {},
   "outputs": [],
   "source": [
    "trajLen"
   ]
  },
  {
   "cell_type": "code",
   "execution_count": null,
   "metadata": {},
   "outputs": [],
   "source": [
    "def cropMos(p, t):\n",
    "    \n",
    "    frameWidth = 2048\n",
    "    frameHeigth = 2048\n",
    "    ROIwidth = 550\n",
    "    ROIheigth = 550\n",
    "    halfROIwidth = ROIwidth / 2\n",
    "    halfROIheigth = ROIheigth / 2\n",
    "    \n",
    "    tP = t.loc[t['particle'] == p]\n",
    "    for index, row in tP.iterrows():\n",
    "        if row['x'] < halfROIwidth:\n",
    "            x_start = 0\n",
    "            x_stop = ROIwidth\n",
    "        elif row['x'] + halfROIwidth > frameWidth:\n",
    "            x_start = frameWidth - ROIwidth\n",
    "            x_stop = frameWidth\n",
    "        else:\n",
    "            x_start = row['x'] - halfROIwidth\n",
    "            x_stop = row['x'] + halfROIwidth\n",
    "        if row['y'] < halfROIwidth:\n",
    "            y_start = 0\n",
    "            y_stop = ROIwidth\n",
    "        elif row['y'] + halfROIwidth > frameWidth:\n",
    "            y_start = frameWidth - ROIwidth\n",
    "            y_stop = frameWidth\n",
    "        else:\n",
    "            y_start = row['y'] - halfROIwidth\n",
    "            y_stop = row['y'] + halfROIwidth\n",
    "        currFrame = frames[row['frame']]\n",
    "        currROI = currFrame[int(y_start):int(y_stop), int(x_start):int(x_stop)]\n",
    "        skimage.io.imsave(\"crop_p\" + str(int(p)).zfill(3) + \"_f\" + str(int(row['frame'])).zfill(6) + \".png\", currROI)\n"
   ]
  },
  {
   "cell_type": "code",
   "execution_count": null,
   "metadata": {},
   "outputs": [],
   "source": [
    "t.head()"
   ]
  },
  {
   "cell_type": "code",
   "execution_count": null,
   "metadata": {},
   "outputs": [],
   "source": [
    "os.chdir('/Volumes/Samsung_T5/Felix/biteData_sam/albopictus/190607_01/190607_albo_crops/')\n",
    "cropMos(i, t)"
   ]
  },
  {
   "cell_type": "code",
   "execution_count": null,
   "metadata": {},
   "outputs": [],
   "source": [
    "os.chdir('/Users/felix/Documents/mosquitoes/mosquitoData/biteData/albopictus/190625_albopictus_crops/')\n",
    "mosToCrop = tFilt.particle.unique()\n",
    "\n",
    "num_cores = multiprocessing.cpu_count()\n",
    "Parallel(n_jobs=num_cores)(delayed(cropMos)(i, t) for i in mosToCrop)"
   ]
  },
  {
   "cell_type": "code",
   "execution_count": null,
   "metadata": {},
   "outputs": [],
   "source": [
    "os.chdir('/Users/felix/Documents/mosquitoes/mosquitoData/bloodTasteMovies/analysis/190703_SalineYesATP_M10_crops/')\n",
    "mosToCrop = tFilt.particle.unique()\n",
    "for i in mosToCrop:\n",
    "    print(i)\n",
    "    print(os.getcwd())\n",
    "    cropMos(i, t)"
   ]
  },
  {
   "cell_type": "code",
   "execution_count": null,
   "metadata": {},
   "outputs": [],
   "source": [
    "mosToCrop = t.particle.unique()\n",
    "mosToCrop"
   ]
  },
  {
   "cell_type": "code",
   "execution_count": null,
   "metadata": {},
   "outputs": [],
   "source": [
    "os.chdir('/Volumes/Samsung_T5/Felix/biteData_sam/albopictus/190607_01/190607_albo_crops/')\n",
    "\n",
    "mosToCrop = t.particle.unique()\n",
    "num_cores = multiprocessing.cpu_count()\n",
    "Parallel(n_jobs=num_cores)(delayed(cropMos)(i, t) for i in mosToCrop)"
   ]
  },
  {
   "cell_type": "code",
   "execution_count": null,
   "metadata": {},
   "outputs": [],
   "source": [
    "i = 375\n",
    "\n",
    "features = pd.DataFrame()\n",
    "\n",
    "selem1 = disk(8)\n",
    "selem2 = disk(1)\n",
    "A = np.zeros(frameSize)\n",
    "A = A + np.invert(frames[i])\n",
    "B = A - BG\n",
    "if B.min() > 0:\n",
    "    Bm = B - B.min()\n",
    "else:\n",
    "    Bm = B\n",
    "Bt = Bm > 70\n",
    "Be = erosion(Bt, disk(3))\n",
    "Bts = remove_small_objects(Be, min_size=300)\n",
    "# Be = erosion(Bts, selem2)\n",
    "# Bf = remove_small_objects(Be, min_size=200)\n",
    "Bc = binary_closing(Bts, disk(15))\n",
    "Bc2 = scipy.ndimage.morphology.binary_fill_holes(Bc)\n",
    "Bce = erosion(Bc2, disk(3))\n",
    "C = B * Bce\n",
    "# eroded = erosion(C, selem2)\n",
    "# eroded = skimage.filters.gaussian(C, 4)\n",
    "# eroded[eroded < 0] = 0\n",
    "erL = label(C>0)\n",
    "erR = regionprops(erL)#, C)#, coordinates='xy')\n",
    "l = 1\n",
    "for props in erR:\n",
    "    if props.area > 100000:\n",
    "        erL[erL==l] = 0\n",
    "    if props.major_axis_length > 1000:\n",
    "        erL[erL==l] = 0\n",
    "    l = l +1\n",
    "erLf = label(erL>0)\n",
    "# erodedF = eroded * (erLf > 0)\n",
    "erRf = regionprops(erLf)#, C)#, coordinates='xy')\n",
    "centroids = np.zeros([len(erRf), 2])\n",
    "numCent = 0\n",
    "for props in erRf:\n",
    "    centroids[numCent] = props.centroid\n",
    "    features = features.append([{'y': props.centroid[0], \n",
    "                                 'x': props.centroid[1], \n",
    "                                 'frame': i, \n",
    "                                 'area': props.filled_area},])\n",
    "    numCent += 1\n",
    "coordinates = peak_local_max(eroded, min_distance=130, exclude_border=1)\n",
    "cS= coordinates.shape; numCoor = cS[0]\n",
    "cenS= centroids.shape; numCen = cenS[0]\n",
    "frameNo = i\n",
    "frameNoA = np.zeros((numCoor,1), dtype=np.int)\n",
    "frameNoCen = np.zeros((numCen,1), dtype=np.int)\n",
    "frameNoA[:] = frameNo\n",
    "frameNoCen[:] = frameNo\n",
    "coordinatesF = np.hstack((coordinates,frameNoA))\n",
    "centroidsF = np.hstack((centroids,frameNoCen))\n",
    "coordinatesF = np.hstack((coordinates,frameNoA))\n",
    "numCoords = coordinatesF.shape[0]\n",
    "numCents = centroidsF.shape[0]"
   ]
  },
  {
   "cell_type": "code",
   "execution_count": null,
   "metadata": {},
   "outputs": [],
   "source": [
    "plt.figure(figsize=(20,18))\n",
    "# Bc3 = erosion(Bc, disk(3))\n",
    "plt.imshow(C)"
   ]
  },
  {
   "cell_type": "code",
   "execution_count": null,
   "metadata": {},
   "outputs": [],
   "source": [
    "plt.figure(figsize=(20,18))\n",
    "# Bc3 = erosion(Bc, disk(3))\n",
    "plt.imshow(B)"
   ]
  },
  {
   "cell_type": "code",
   "execution_count": null,
   "metadata": {},
   "outputs": [],
   "source": [
    "def mosFeat01(i):\n",
    "\n",
    "    features = pd.DataFrame()\n",
    "\n",
    "    selem1 = disk(8)\n",
    "    selem2 = disk(1)\n",
    "    A = np.zeros(frameSize)\n",
    "    A = A + np.invert(frames[i])\n",
    "    B = A - BG\n",
    "    if B.min() > 0:\n",
    "        Bm = B - B.min()\n",
    "    else:\n",
    "        Bm = B\n",
    "    Bt = Bm > 35\n",
    "    Be = erosion(Bt, disk(3))\n",
    "    Bts = remove_small_objects(Be, min_size=300)\n",
    "    # Be = erosion(Bts, selem2)\n",
    "    # Bf = remove_small_objects(Be, min_size=200)\n",
    "    Bc = binary_closing(Bts, disk(15))\n",
    "    Bc2 = scipy.ndimage.morphology.binary_fill_holes(Bc)\n",
    "    Bce = erosion(Bc2, disk(3))\n",
    "    C = B * Bce\n",
    "    # eroded = erosion(C, selem2)\n",
    "    # eroded = skimage.filters.gaussian(C, 4)\n",
    "    # eroded[eroded < 0] = 0\n",
    "    erL = label(C>0)\n",
    "    erR = regionprops(erL)#, C)#, coordinates='xy')\n",
    "    l = 1\n",
    "    for props in erR:\n",
    "        if props.area > 100000:\n",
    "            erL[erL==l] = 0\n",
    "        if props.major_axis_length > 1000:\n",
    "            erL[erL==l] = 0\n",
    "        l = l +1\n",
    "    erLf = label(erL>0)\n",
    "    # erodedF = eroded * (erLf > 0)\n",
    "    erRf = regionprops(erLf)#, C)#, coordinates='xy')\n",
    "    centroids = np.zeros([len(erRf), 2])\n",
    "    numCent = 0\n",
    "    for props in erRf:\n",
    "        centroids[numCent] = props.centroid\n",
    "        features = features.append([{'y': props.centroid[0], \n",
    "                                     'x': props.centroid[1], \n",
    "                                     'frame': i, \n",
    "                                     'area': props.filled_area},])\n",
    "        numCent += 1\n",
    "    coordinates = peak_local_max(eroded, min_distance=130, exclude_border=1)\n",
    "    cS= coordinates.shape; numCoor = cS[0]\n",
    "    cenS= centroids.shape; numCen = cenS[0]\n",
    "    frameNo = i\n",
    "    frameNoA = np.zeros((numCoor,1), dtype=np.int)\n",
    "    frameNoCen = np.zeros((numCen,1), dtype=np.int)\n",
    "    frameNoA[:] = frameNo\n",
    "    frameNoCen[:] = frameNo\n",
    "    coordinatesF = np.hstack((coordinates,frameNoA))\n",
    "    centroidsF = np.hstack((centroids,frameNoCen))\n",
    "    coordinatesF = np.hstack((coordinates,frameNoA))\n",
    "    numCoords = coordinatesF.shape[0]\n",
    "    numCents = centroidsF.shape[0]\n",
    "    return centroidsF, coordinatesF, features"
   ]
  },
  {
   "cell_type": "code",
   "execution_count": null,
   "metadata": {},
   "outputs": [],
   "source": [
    "#####testing....\n",
    "i = 1120\n",
    "centroidsF, coordinatesF, features = mosFeat01(i)\n",
    "plt.figure(figsize=(15,10))\n",
    "plt.imshow(frames[i], cmap = 'gray')\n",
    "# plt.imshow(eroded)\n",
    "plt.plot(coordinatesF[:,1],coordinatesF[:,0],'r.')\n",
    "plt.plot(centroidsF[:,1],centroidsF[:,0],'b.')"
   ]
  },
  {
   "cell_type": "code",
   "execution_count": null,
   "metadata": {},
   "outputs": [],
   "source": [
    "plt.figure(figsize=(25,20))\n",
    "# Bc3 = erosion(Bc, disk(3))\n",
    "plt.imshow(B)"
   ]
  },
  {
   "cell_type": "code",
   "execution_count": null,
   "metadata": {},
   "outputs": [],
   "source": [
    "features = pd.DataFrame()\n",
    "\n",
    "for i in range(3800,4800,5):\n",
    "    selem1 = disk(8)\n",
    "    selem2 = disk(1)\n",
    "    A = np.zeros(frameSize)\n",
    "    A = A + np.invert(frames[i])\n",
    "    B = A - BG\n",
    "    if B.min() > 0:\n",
    "        Bm = B - B.min()\n",
    "    else:\n",
    "        Bm = B\n",
    "    Bt = Bm > 35\n",
    "    Be = erosion(Bt, disk(3))\n",
    "    Bts = remove_small_objects(Be, min_size=300)\n",
    "    # Be = erosion(Bts, selem2)\n",
    "    # Bf = remove_small_objects(Be, min_size=200)\n",
    "    Bc = binary_closing(Bts, disk(15))\n",
    "    Bc2 = scipy.ndimage.morphology.binary_fill_holes(Bc)\n",
    "    Bce = erosion(Bc2, disk(3))\n",
    "    C = B * Bce\n",
    "    # eroded = erosion(C, selem2)\n",
    "    # eroded = skimage.filters.gaussian(C, 4)\n",
    "    # eroded[eroded < 0] = 0\n",
    "    erL = label(C>0)\n",
    "    erR = regionprops(erL)#, C)#, coordinates='xy')\n",
    "    l = 1\n",
    "    for props in erR:\n",
    "        if props.area < 1000:\n",
    "            erL[erL==l] = 0\n",
    "        if props.area > 100000:\n",
    "            erL[erL==l] = 0\n",
    "        if props.major_axis_length > 1000:\n",
    "            erL[erL==l] = 0\n",
    "        l = l +1\n",
    "    erLf = label(erL>0)\n",
    "    # erodedF = eroded * (erLf > 0)\n",
    "    erRf = regionprops(erLf)#, C)#, coordinates='xy')\n",
    "    centroids = np.zeros([len(erRf), 2])\n",
    "    numCent = 0\n",
    "    for props in erRf:\n",
    "        centroids[numCent] = props.centroid\n",
    "        features = features.append([{'y': props.centroid[0], \n",
    "                                     'x': props.centroid[1], \n",
    "                                     'frame': i, \n",
    "                                     'area': props.filled_area},])\n",
    "        numCent += 1\n",
    "    coordinates = peak_local_max(eroded, min_distance=130, exclude_border=1)\n",
    "    cS= coordinates.shape; numCoor = cS[0]\n",
    "    cenS= centroids.shape; numCen = cenS[0]\n",
    "    frameNo = i\n",
    "    frameNoA = np.zeros((numCoor,1), dtype=np.int)\n",
    "    frameNoCen = np.zeros((numCen,1), dtype=np.int)\n",
    "    frameNoA[:] = frameNo\n",
    "    frameNoCen[:] = frameNo\n",
    "    coordinatesF = np.hstack((coordinates,frameNoA))\n",
    "    centroidsF = np.hstack((centroids,frameNoCen))\n",
    "    coordinatesF = np.hstack((coordinates,frameNoA))\n",
    "    numCoords = coordinatesF.shape[0]\n",
    "    numCents = centroidsF.shape[0]"
   ]
  },
  {
   "cell_type": "code",
   "execution_count": null,
   "metadata": {},
   "outputs": [],
   "source": [
    "features.head(5)"
   ]
  },
  {
   "cell_type": "code",
   "execution_count": null,
   "metadata": {},
   "outputs": [],
   "source": [
    "features.to_pickle(saveDir + '/181206_01_frame3800-4800_every5.pkl')"
   ]
  },
  {
   "cell_type": "code",
   "execution_count": null,
   "metadata": {},
   "outputs": [],
   "source": [
    "plt.plot(t[t.particle == 0.0].frame, t[t.particle == 0.0].area.rolling(window=20).mean())\n",
    "# plt.plot(t[t.particle == 4.0].frame, t[t.particle == 4.0].area)\n",
    "# plt.plot(t[t.particle == 2.0].frame, t[t.particle == 2.0].area)\n",
    "# plt.plot(t[t.particle == 3.0].area)"
   ]
  },
  {
   "cell_type": "code",
   "execution_count": null,
   "metadata": {},
   "outputs": [],
   "source": [
    "# plt.figure(figsize=(20,20))\n",
    "search_range = 500\n",
    "t = tp.link_df(features, search_range, memory=30)\n",
    "# plt.imshow(B)\n",
    "# tp.plot_traj(t, plot_style={'linewidth':'3.0'})"
   ]
  },
  {
   "cell_type": "code",
   "execution_count": null,
   "metadata": {},
   "outputs": [],
   "source": [
    "plt.figure(figsize=(20,20))\n",
    "plt.imshow(B)\n",
    "tp.plot_traj(t, plot_style={'linewidth':'3.0'})"
   ]
  },
  {
   "cell_type": "code",
   "execution_count": null,
   "metadata": {},
   "outputs": [],
   "source": [
    "len(tF)"
   ]
  },
  {
   "cell_type": "code",
   "execution_count": null,
   "metadata": {},
   "outputs": [],
   "source": [
    "tF = tp.filter_stubs(t, 1)\n",
    "allMosF = tF.particle.unique()\n",
    "\n",
    "plt.figure(figsize=(15,10))\n",
    "\n",
    "# for i in range(0, len(allMos) - 1):\n",
    "#     plt.plot(tF[tF.particle == allMos[i]].frame, tF[tF.particle == allMos[i]].area)\n",
    "    \n",
    "for i in range(0, len(allMos) - 1):\n",
    "    plt.plot(tF[tF.particle == allMos[i]].frame, tF[tF.particle == allMos[i]].area.rolling(window=2).mean() - tF[tF.particle == allMos[i]].area.min())\n",
    "    \n",
    "# for i in range(0, len(allMos) - 1):\n",
    "#     plt.plot(tF[tF.particle == allMos[i]].frame[0:-1], np.diff(tF[tF.particle == allMos[i]].area))"
   ]
  },
  {
   "cell_type": "code",
   "execution_count": null,
   "metadata": {},
   "outputs": [],
   "source": [
    "Be2 = erosion(Bt, disk(5))\n",
    "Bf = remove_small_objects(Be2, min_size=200)\n",
    "Bc2 = binary_closing(Bf, disk(15))\n",
    "plt.figure(figsize=(25,20))\n",
    "Bc3 = scipy.ndimage.morphology.binary_fill_holes(Bc2)\n",
    "plt.imshow(Bc2)"
   ]
  },
  {
   "cell_type": "code",
   "execution_count": null,
   "metadata": {},
   "outputs": [],
   "source": [
    "plt.figure(figsize=(25,20))\n",
    "# Bcc = binary_closing(Bf, disk(12))\n",
    "plt.imshow(B)"
   ]
  },
  {
   "cell_type": "code",
   "execution_count": null,
   "metadata": {},
   "outputs": [],
   "source": [
    "num_cores = multiprocessing.cpu_count()\n",
    "results = Parallel(n_jobs=num_cores)(delayed(trackMosq2)(i) for i in tnrange(1, 500))"
   ]
  },
  {
   "cell_type": "code",
   "execution_count": null,
   "metadata": {},
   "outputs": [],
   "source": [
    "centroidsAllT = np.zeros((1,3))\n",
    "coordinatesAllT = np.zeros((1,3))\n",
    "\n",
    "for i in range(len(results)):\n",
    "    centroidsAllT = np.vstack((centroidsAllT,results[i][0]))\n",
    "    coordinatesAllT = np.vstack((coordinatesAllT,results[i][1]))"
   ]
  },
  {
   "cell_type": "code",
   "execution_count": null,
   "metadata": {},
   "outputs": [],
   "source": [
    "plt.figure(figsize=(25,10))\n",
    "plt.imshow(frames[2000], cmap = 'gray')\n",
    "plt.plot(coordinatesAllT[:,1],coordinatesAllT[:,0],'r.')\n",
    "plt.plot(centroidsAllT[:,1],centroidsAllT[:,0],'b.')"
   ]
  },
  {
   "cell_type": "code",
   "execution_count": null,
   "metadata": {},
   "outputs": [],
   "source": [
    "os.chdir(saveDir)\n",
    "with open('181211_01_02_full_CAndC01.pkl', 'wb') as f:\n",
    "    pickle.dump(results, f)"
   ]
  },
  {
   "cell_type": "code",
   "execution_count": null,
   "metadata": {},
   "outputs": [],
   "source": [
    "df_cenAllT = pd.DataFrame(centroidsAllT)\n",
    "df_cenAllT = df_cenAllT.rename(columns={0: \"y\", 1: \"x\", 2: \"frame\"})\n",
    "df_cenAllT.head()"
   ]
  },
  {
   "cell_type": "code",
   "execution_count": null,
   "metadata": {},
   "outputs": [],
   "source": [
    "i"
   ]
  },
  {
   "cell_type": "code",
   "execution_count": null,
   "metadata": {},
   "outputs": [],
   "source": [
    "os.chdir('/media/felix/Samsung_T5/Felix/biteData_FeDa/181212_01/181212_02crops/')\n",
    "\n",
    "frameWidth = 2048\n",
    "frameHeigth = 2048\n",
    "ROIwidth = 550\n",
    "ROIheigth = 550\n",
    "halfROIwidth = ROIwidth / 2\n",
    "halfROIheigth = ROIheigth / 2\n",
    "\n",
    "p = 3.0\n",
    "tP = t.loc[t['particle'] == p]\n",
    "\n",
    "for index, row in tP.iterrows():\n",
    "    if row['x'] < halfROIwidth:\n",
    "        x_start = 0\n",
    "        x_stop = ROIwidth\n",
    "    elif row['x'] + halfROIwidth > frameWidth:\n",
    "        x_start = frameWidth - ROIwidth\n",
    "        x_stop = frameWidth\n",
    "    else:\n",
    "        x_start = row['x'] - halfROIwidth\n",
    "        x_stop = row['x'] + halfROIwidth\n",
    "    if row['y'] < halfROIwidth:\n",
    "        y_start = 0\n",
    "        y_stop = ROIwidth\n",
    "    elif row['y'] + halfROIwidth > frameWidth:\n",
    "        y_start = frameWidth - ROIwidth\n",
    "        y_stop = frameWidth\n",
    "    else:\n",
    "        y_start = row['y'] - halfROIwidth\n",
    "        y_stop = row['y'] + halfROIwidth\n",
    "    currFrame = frames[row['frame']]\n",
    "    currROI = currFrame[int(y_start):int(y_stop), int(x_start):int(x_stop)]\n",
    "    skimage.io.imsave(\"crop_p\" + str(int(p)).zfill(3) + \"_f\" + str(int(row['frame'])).zfill(6) + \".png\", currROI)\n",
    "\n",
    "# .image.imsave('name.png', array)"
   ]
  },
  {
   "cell_type": "code",
   "execution_count": null,
   "metadata": {},
   "outputs": [],
   "source": [
    "y_stop"
   ]
  },
  {
   "cell_type": "code",
   "execution_count": null,
   "metadata": {
    "scrolled": false
   },
   "outputs": [],
   "source": [
    "currFrame"
   ]
  },
  {
   "cell_type": "code",
   "execution_count": null,
   "metadata": {},
   "outputs": [],
   "source": [
    "currROI"
   ]
  },
  {
   "cell_type": "code",
   "execution_count": null,
   "metadata": {},
   "outputs": [],
   "source": []
  }
 ],
 "metadata": {
  "kernelspec": {
   "display_name": "bs",
   "language": "python",
   "name": "bs"
  },
  "language_info": {
   "codemirror_mode": {
    "name": "ipython",
    "version": 3
   },
   "file_extension": ".py",
   "mimetype": "text/x-python",
   "name": "python",
   "nbconvert_exporter": "python",
   "pygments_lexer": "ipython3",
   "version": "3.6.8"
  },
  "varInspector": {
   "cols": {
    "lenName": 16,
    "lenType": 16,
    "lenVar": 40
   },
   "kernels_config": {
    "python": {
     "delete_cmd_postfix": "",
     "delete_cmd_prefix": "del ",
     "library": "var_list.py",
     "varRefreshCmd": "print(var_dic_list())"
    },
    "r": {
     "delete_cmd_postfix": ") ",
     "delete_cmd_prefix": "rm(",
     "library": "var_list.r",
     "varRefreshCmd": "cat(var_dic_list()) "
    }
   },
   "types_to_exclude": [
    "module",
    "function",
    "builtin_function_or_method",
    "instance",
    "_Feature"
   ],
   "window_display": false
  }
 },
 "nbformat": 4,
 "nbformat_minor": 2
}
