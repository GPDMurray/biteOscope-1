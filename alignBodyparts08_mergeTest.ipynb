{
 "cells": [
  {
   "cell_type": "code",
   "execution_count": 1,
   "metadata": {},
   "outputs": [],
   "source": [
    "'''\n",
    "author: Felix Hol\n",
    "date: 2019 June 11\n",
    "Align bodypart coordinates, translation to put a specific bodypart at origin, rotation along body axis\n",
    "'''\n",
    "\n",
    "# import deeplabcut\n",
    "import numpy as np\n",
    "import pandas as pd\n",
    "import matplotlib.pyplot as plt\n",
    "import matplotlib as mpl\n",
    "import math\n",
    "import tables\n",
    "import glob\n",
    "import sklearn\n",
    "from sklearn.decomposition import PCA\n",
    "from sklearn.manifold import TSNE\n",
    "import pickle\n",
    "from tqdm import tqdm\n",
    "import seaborn as sns\n",
    "mpl.rcParams['pdf.fonttype'] = 42\n",
    "mpl.rcParams['ps.fonttype'] = 42\n",
    "# plt.style.use('seaborn-dark-palette')"
   ]
  },
  {
   "cell_type": "markdown",
   "metadata": {},
   "source": [
    "behaviors:\n",
    "1: rest\n",
    "2: walk\n",
    "3: probe\n",
    "4: bite\n",
    "5: imbibe\n",
    "6: proboscis groom\n",
    "7: hind leg groom\n",
    "8: land\n",
    "9: reorient\n",
    "10: engorged"
   ]
  },
  {
   "cell_type": "code",
   "execution_count": 2,
   "metadata": {},
   "outputs": [],
   "source": [
    "def getBodyAngle(dfRel, i):\n",
    "    if dfRel[[('head','x')]].loc[i].values > 0 and dfRel[[('head','y')]].loc[i].values > 0:\n",
    "        bodyAngleRaw = math.atan(dfRel[[('head','y')]].loc[i].values / dfRel[[('head','x')]].loc[i].values)\n",
    "        bodyAngle = -1 * bodyAngleRaw\n",
    "    elif dfRel[[('head','x')]].loc[i].values < 0 and dfRel[[('head','y')]].loc[i].values > 0:\n",
    "        bodyAngleRaw = math.atan(dfRel[[('head','y')]].loc[i].values / (-1 * dfRel[[('head','x')]].loc[i].values))   \n",
    "        bodyAngle = -1 * (math.pi - bodyAngleRaw)\n",
    "    elif dfRel[[('head','x')]].loc[i].values < 0 and dfRel[[('head','y')]].loc[i].values < 0:\n",
    "        bodyAngleRaw = math.atan((-1 * dfRel[[('head','y')]].loc[i].values) / (-1 * dfRel[[('head','x')]].loc[i].values))   \n",
    "        bodyAngle = -1 * (math.pi + bodyAngleRaw)\n",
    "    elif dfRel[[('head','x')]].loc[i].values > 0 and dfRel[[('head','y')]].loc[i].values < 0:\n",
    "        bodyAngleRaw = math.atan((-1 * dfRel[[('head','y')]].loc[i].values) / (dfRel[[('head','x')]].loc[i].values))   \n",
    "        bodyAngle = -1* (2 * math.pi - bodyAngleRaw)\n",
    "    return bodyAngle\n"
   ]
  },
  {
   "cell_type": "code",
   "execution_count": null,
   "metadata": {},
   "outputs": [],
   "source": [
    "dirList = glob.glob('/Users/felix/Documents/mosquitoes/mosquitoData/bloodTasteData/trackAndBodypart/forKNN/*crops_*/')\n",
    "alignTo = 'bottom'\n",
    "\n",
    "dfRRSA = pd.DataFrame()\n",
    "\n",
    "for k in tqdm(dirList):\n",
    "    dataFile = glob.glob(k + '*labels.csv')\n",
    "    df = pd.read_csv(dataFile[0], header=[0,1,2], index_col=0)\n",
    "    df.columns = df.columns.droplevel()\n",
    "    dfRel = df.copy()\n",
    "    for i in dfRel.columns.levels[0]:\n",
    "        if i != 'behavior':\n",
    "            dfRel[i, 'x'] = dfRel[i, 'x'] - df[alignTo, 'x']\n",
    "            dfRel[i, 'y'] = dfRel[i, 'y'] - df[alignTo, 'y']\n",
    "    dfRelRot = dfRel.copy()\n",
    "    dfRelRot['','angle'] = ''\n",
    "    for index, row in dfRelRot.iterrows():\n",
    "        bodyAngle = getBodyAngle(dfRel, index)\n",
    "        dfRelRot['', 'angle'][index] = bodyAngle\n",
    "        for i in dfRelRot.columns.levels[0]:\n",
    "            if i != 'behavior' and i != 'angle' and i != '':\n",
    "                dfRelRot[i, 'x'][index] = (dfRel[i, 'x'][index] * math.cos(bodyAngle)) - (dfRel[i, 'y'][index] * math.sin(bodyAngle))\n",
    "                dfRelRot[i, 'y'][index] = (dfRel[i, 'x'][index] * math.sin(bodyAngle)) + (dfRel[i, 'y'][index] * math.cos(bodyAngle))\n",
    "    for i in dfRelRot.index:\n",
    "        dfRelRot.loc[i, ('','frame')] = int(i[i.find('_f') + 2 : i.find('.png')])\n",
    "    dfd = dfRelRot.copy()\n",
    "    dfd.columns = [f'{i}_{j}' if j != '' else f'{i}' for i,j in dfd.columns]\n",
    "    dfd = dfd.rename(columns={\"_frame\": \"frame\"})\n",
    "    dfd = dfd.rename(columns={\"_angle\": \"angle\"})\n",
    "    dfd[\"angle\"] = pd.to_numeric(dfd[\"angle\"])\n",
    "    dfd['smoothAngle'] = dfd['angle'].rolling(4).mean()\n",
    "    diffAngle = np.diff(dfd['smoothAngle'])\n",
    "    diffAngle = np.append(diffAngle, np.nan)\n",
    "    dfd['diffAngle'] = diffAngle\n",
    "        \n",
    "    trackFile = glob.glob(k + '*tStats.pkl')\n",
    "    trackStats = pickle.load(open(trackFile[0], 'rb'))\n",
    "    \n",
    "    mdf = pd.merge(dfd, trackStats, on='frame', how='inner')\n",
    "    \n",
    "    dfRRSA = dfRRSA.append(mdf, ignore_index=False)\n",
    "\n",
    "\n"
   ]
  },
  {
   "cell_type": "code",
   "execution_count": null,
   "metadata": {},
   "outputs": [],
   "source": [
    "dfRRSA.head()"
   ]
  },
  {
   "cell_type": "code",
   "execution_count": null,
   "metadata": {},
   "outputs": [],
   "source": [
    "dfRRSA.info()"
   ]
  },
  {
   "cell_type": "code",
   "execution_count": null,
   "metadata": {},
   "outputs": [],
   "source": [
    "len(dfRRSA)"
   ]
  },
  {
   "cell_type": "code",
   "execution_count": null,
   "metadata": {},
   "outputs": [],
   "source": [
    "dfRRSA = dfRRSA.dropna()"
   ]
  },
  {
   "cell_type": "code",
   "execution_count": null,
   "metadata": {},
   "outputs": [],
   "source": [
    "len(dfRRSA)"
   ]
  },
  {
   "cell_type": "code",
   "execution_count": null,
   "metadata": {},
   "outputs": [],
   "source": [
    "# dfC = dfRRSA.loc[:,~dfRRSA.columns.str.endswith('likelihood')]\n",
    "#dfC = dfC.drop(columns=['x', 'y','age','species', 'angle', 'smoothAngle', 'behavior_behavior','frame', 'particle','distance', 'bottom_x', 'bottom_y'])\n",
    "dfC = dfRRSA.drop(columns=['x', 'y','age','species', 'angle', 'smoothAngle', 'behavior_behavior','frame', 'particle','distance', 'bottom_x', 'bottom_y'])\n",
    "dfCs = sklearn.preprocessing.StandardScaler(with_mean=True, with_std=True).fit_transform(dfC)"
   ]
  },
  {
   "cell_type": "code",
   "execution_count": null,
   "metadata": {},
   "outputs": [],
   "source": [
    "len(dfRRSA[dfRRSA.behavior_behavior == 5])"
   ]
  },
  {
   "cell_type": "code",
   "execution_count": null,
   "metadata": {},
   "outputs": [],
   "source": [
    "df1 = dfRRSA[dfRRSA.behavior_behavior == 10].sample(1000)\n",
    "df2 = dfRRSA[~dfRRSA.index.isin(df1.index)]\n",
    "df1"
   ]
  },
  {
   "cell_type": "code",
   "execution_count": null,
   "metadata": {},
   "outputs": [],
   "source": [
    "len(df2)"
   ]
  },
  {
   "cell_type": "code",
   "execution_count": null,
   "metadata": {},
   "outputs": [],
   "source": [
    "dfC.head()"
   ]
  },
  {
   "cell_type": "code",
   "execution_count": null,
   "metadata": {},
   "outputs": [],
   "source": [
    "dfC.info()"
   ]
  },
  {
   "cell_type": "code",
   "execution_count": null,
   "metadata": {
    "scrolled": false
   },
   "outputs": [],
   "source": [
    "tsne = TSNE(n_components=2, verbose=1, perplexity=15, n_iter=2000)\n",
    "tsne_results = tsne.fit_transform(dfCs)"
   ]
  },
  {
   "cell_type": "code",
   "execution_count": null,
   "metadata": {},
   "outputs": [],
   "source": [
    "tsnePlot = dfRRSA.copy()\n",
    "\n",
    "tsnePlot['tsne-2d-one'] = tsne_results[:,0]\n",
    "tsnePlot['tsne-2d-two'] = tsne_results[:,1]\n",
    "plt.figure(figsize=(16,13))\n",
    "sns.scatterplot(\n",
    "    x=\"tsne-2d-one\", y=\"tsne-2d-two\",\n",
    "    hue=('behavior_behavior'),\n",
    "    palette=sns.color_palette(\"hls\", 8),\n",
    "    data=dfRRSA,\n",
    "    legend=\"full\",\n",
    "#     legend=['1','2'],\n",
    "    alpha=0.5\n",
    ")"
   ]
  },
  {
   "cell_type": "code",
   "execution_count": null,
   "metadata": {},
   "outputs": [],
   "source": [
    "pca = PCA(n_components=2)\n",
    "principalComponentsAll = pca.fit_transform(dfCs)\n",
    "pcaDfAll = pd.DataFrame(data = principalComponentsAll, columns = ['pca1', 'pca2'])\n",
    "plt.figure(figsize=(16,10))\n",
    "plt.plot(pcaDfAll.pca1, pcaDfAll.pca2,'.', alpha=0.2)"
   ]
  },
  {
   "cell_type": "code",
   "execution_count": null,
   "metadata": {},
   "outputs": [],
   "source": [
    "pcaPlot = dfRRSA.copy()\n",
    "\n",
    "pcaPlot['pca1'] = pcaDfAll.pca1\n",
    "pcaPlot['pca2'] = pcaDfAll.pca2\n",
    "plt.figure(figsize=(16,13))\n",
    "sns.scatterplot(\n",
    "    x=\"pca1\", y=\"pca2\",\n",
    "    hue=('behavior_behavior'),\n",
    "    palette=sns.color_palette(\"hls\", 8),\n",
    "    data=pcaPlot,\n",
    "    legend=\"full\",\n",
    "#     legend=['1','2'],\n",
    "    alpha=0.2\n",
    ")"
   ]
  },
  {
   "cell_type": "code",
   "execution_count": null,
   "metadata": {},
   "outputs": [],
   "source": [
    "pcaPlot.head()"
   ]
  },
  {
   "cell_type": "code",
   "execution_count": null,
   "metadata": {},
   "outputs": [],
   "source": [
    "pcaDfAll.head()"
   ]
  },
  {
   "cell_type": "code",
   "execution_count": null,
   "metadata": {},
   "outputs": [],
   "source": [
    "X_test"
   ]
  },
  {
   "cell_type": "code",
   "execution_count": null,
   "metadata": {},
   "outputs": [],
   "source": [
    "from sklearn.model_selection import train_test_split\n",
    "\n",
    "X = dfCs.copy()\n",
    "# X.columns = dfxy.columns.droplevel()\n",
    "y = dfRRSA['behavior_behavior']\n",
    "\n",
    "X_train, X_test, y_train, y_test = train_test_split(X, y, random_state=1)"
   ]
  },
  {
   "cell_type": "code",
   "execution_count": null,
   "metadata": {},
   "outputs": [],
   "source": [
    "from sklearn.neighbors import KNeighborsClassifier\n",
    "\n",
    "k = 8\n",
    "\n",
    "knn_model = KNeighborsClassifier(n_neighbors=k)\n",
    "knn_model.fit(X_train, y_train) "
   ]
  },
  {
   "cell_type": "code",
   "execution_count": null,
   "metadata": {},
   "outputs": [],
   "source": [
    "y_predict = knn_model.predict(X_test)\n",
    "y_predict"
   ]
  },
  {
   "cell_type": "code",
   "execution_count": null,
   "metadata": {},
   "outputs": [],
   "source": [
    "from sklearn import metrics\n",
    "print(\"Accuracy:\",metrics.accuracy_score(y_test, y_predict))"
   ]
  },
  {
   "cell_type": "code",
   "execution_count": null,
   "metadata": {},
   "outputs": [],
   "source": [
    "y_predict = knn_model.predict(dfC)\n",
    "y_predict"
   ]
  },
  {
   "cell_type": "code",
   "execution_count": null,
   "metadata": {},
   "outputs": [],
   "source": [
    "knn_model.predict(X)"
   ]
  },
  {
   "cell_type": "code",
   "execution_count": null,
   "metadata": {},
   "outputs": [],
   "source": [
    "from sklearn import metrics\n",
    "print(\"Accuracy:\",metrics.accuracy_score(y_test, y_predict))"
   ]
  },
  {
   "cell_type": "code",
   "execution_count": null,
   "metadata": {},
   "outputs": [],
   "source": [
    "dirList = glob.glob('/Users/felix/Documents/mosquitoes/mosquitoData/bloodTasteData/trackAndBodypart/forKNN/190*p2/')\n",
    "dirList"
   ]
  },
  {
   "cell_type": "code",
   "execution_count": null,
   "metadata": {},
   "outputs": [],
   "source": [
    "dirList = glob.glob('/Users/felix/Documents/mosquitoes/mosquitoData/bloodTasteData/trackAndBodypart/forKNN/No*p7/')\n",
    "alignTo = 'bottom'\n",
    "\n",
    "dfRRSA46 = pd.DataFrame()\n",
    "\n",
    "for k in tqdm(dirList):\n",
    "    dataFile = glob.glob(k + '*.csv')\n",
    "    df = pd.read_csv(dataFile[0], header=[0,1,2], index_col=0)\n",
    "    df.columns = df.columns.droplevel()\n",
    "    dfRel = df.copy()\n",
    "    for i in dfRel.columns.levels[0]:\n",
    "        if i != 'behavior':\n",
    "            dfRel[i, 'x'] = dfRel[i, 'x'] - df[alignTo, 'x']\n",
    "            dfRel[i, 'y'] = dfRel[i, 'y'] - df[alignTo, 'y']\n",
    "    dfRelRot = dfRel.copy()\n",
    "    dfRelRot['','angle'] = ''\n",
    "    for index, row in dfRelRot.iterrows():\n",
    "        bodyAngle = getBodyAngle(dfRel, index)\n",
    "        dfRelRot['', 'angle'][index] = bodyAngle\n",
    "        for i in dfRelRot.columns.levels[0]:\n",
    "            if i != 'behavior' and i != 'angle' and i != '':\n",
    "                dfRelRot[i, 'x'][index] = (dfRel[i, 'x'][index] * math.cos(bodyAngle)) - (dfRel[i, 'y'][index] * math.sin(bodyAngle))\n",
    "                dfRelRot[i, 'y'][index] = (dfRel[i, 'x'][index] * math.sin(bodyAngle)) + (dfRel[i, 'y'][index] * math.cos(bodyAngle))\n",
    "    for i in dfRelRot.index:\n",
    "        dfRelRot.loc[i, ('','frame')] = int(i[i.find('_f') + 2 : i.find('.png')])\n",
    "    dfd = dfRelRot.copy()\n",
    "    dfd.columns = [f'{i}_{j}' if j != '' else f'{i}' for i,j in dfd.columns]\n",
    "    dfd = dfd.rename(columns={\"_frame\": \"frame\"})\n",
    "    dfd = dfd.rename(columns={\"_angle\": \"angle\"})\n",
    "    dfd[\"angle\"] = pd.to_numeric(dfd[\"angle\"])\n",
    "    dfd['smoothAngle'] = dfd['angle'].rolling(4).mean()\n",
    "    diffAngle = np.diff(dfd['smoothAngle'])\n",
    "    diffAngle = np.append(diffAngle, np.nan)\n",
    "    dfd['diffAngle'] = diffAngle\n",
    "        \n",
    "    trackFile = glob.glob(k + '*tStats.pkl')\n",
    "    trackStats = pickle.load(open(trackFile[0], 'rb'))\n",
    "    \n",
    "    trackStats['bellyExp'] = np.nan\n",
    "    trackStats['engorged'] = 0\n",
    "    trackStats['fracEngorged'] = 0\n",
    "    areaThreshold = 4750\n",
    "    engorgementIncrease = 1.3\n",
    "\n",
    "    if len(trackStats) > 100:\n",
    "        if np.median(trackStats.bellyArea[0:25]) > areaThreshold:\n",
    "                     trackStats['engorged'] = 2\n",
    "        trackStats['bellyExp'] = trackStats.bellyArea.values / np.median(trackStats.bellyArea[0:99])\n",
    "        trackStats['bellyExp'] = trackStats['bellyExp'].rolling(5).mean()\n",
    "        if np.nanpercentile(trackStats['bellyExp'].values, 90) > engorgementIncrease:\n",
    "            trackStats['fracEngorged'] = (trackStats['bellyExp'] - np.nanpercentile(trackStats['bellyExp'].values, 3)) / (np.nanpercentile(trackStats['bellyExp'].values, 90)- np.nanpercentile(trackStats['bellyExp'].values, 3))\n",
    "\n",
    "\n",
    "    \n",
    "    mdf = pd.merge(dfd, trackStats, on='frame', how='inner')\n",
    "    \n",
    "    dfRRSA46 = dfRRSA46.append(mdf, ignore_index=False)\n",
    "\n",
    "\n",
    "\n"
   ]
  },
  {
   "cell_type": "code",
   "execution_count": null,
   "metadata": {},
   "outputs": [],
   "source": [
    "dfRRSA46 = dfRRSA46.dropna()\n",
    "dfRRSA46.head()"
   ]
  },
  {
   "cell_type": "code",
   "execution_count": null,
   "metadata": {},
   "outputs": [],
   "source": [
    "dfC46 = dfRRSA46.drop(columns=['x', 'y','age','species', 'angle', 'smoothAngle','frame', 'particle','distance', 'bottom_x', 'bottom_y'])\n",
    "dfC46s = sklearn.preprocessing.StandardScaler(with_mean=True, with_std=True).fit_transform(dfC46)"
   ]
  },
  {
   "cell_type": "code",
   "execution_count": null,
   "metadata": {},
   "outputs": [],
   "source": [
    "pPrediction = knn_model.predict(dfC46s)\n",
    "pPrediction"
   ]
  },
  {
   "cell_type": "code",
   "execution_count": null,
   "metadata": {},
   "outputs": [],
   "source": [
    "plt.plot(pPrediction)"
   ]
  },
  {
   "cell_type": "code",
   "execution_count": null,
   "metadata": {},
   "outputs": [],
   "source": [
    "plt.plot(trackStats.bellyArea.values / np.median(trackStats.bellyArea[0:100]))"
   ]
  },
  {
   "cell_type": "code",
   "execution_count": null,
   "metadata": {},
   "outputs": [],
   "source": [
    "np.median(trackStats.bellyArea[0:100])"
   ]
  },
  {
   "cell_type": "code",
   "execution_count": null,
   "metadata": {},
   "outputs": [],
   "source": [
    "trackStats.head()"
   ]
  },
  {
   "cell_type": "code",
   "execution_count": null,
   "metadata": {},
   "outputs": [],
   "source": [
    "len(tt)"
   ]
  },
  {
   "cell_type": "code",
   "execution_count": null,
   "metadata": {},
   "outputs": [],
   "source": [
    "tt = trackStats.copy()\n",
    "tt['bellyExp'] = np.nan\n",
    "tt['engorged'] = 0\n",
    "tt['fracEngorged'] = 0\n",
    "areaThreshold = 4750\n",
    "engorgementIncrease = 1.3\n",
    "\n",
    "if len(tt) > 100:\n",
    "    if np.median(trackStats.bellyArea[0:25]) > areaThreshold:\n",
    "                 tt['engorged'] = 2\n",
    "    tt['bellyExp'] = trackStats.bellyArea.values / np.median(trackStats.bellyArea[0:99])\n",
    "    tt['bellyExp'] = tt['bellyExp'].rolling(5).mean()\n",
    "    if np.nanpercentile(tt['bellyExp'].values, 90) > engorgementIncrease:\n",
    "        tt['fracEngorged'] = (tt['bellyExp'] - np.nanpercentile(tt['bellyExp'].values, 3)) / (np.nanpercentile(tt['bellyExp'].values, 90)- np.nanpercentile(tt['bellyExp'].values, 3))\n",
    "        \n",
    "    \n",
    "\n"
   ]
  },
  {
   "cell_type": "code",
   "execution_count": null,
   "metadata": {},
   "outputs": [],
   "source": [
    "plt.plot(trackStats.bellyExp.values)"
   ]
  },
  {
   "cell_type": "code",
   "execution_count": null,
   "metadata": {},
   "outputs": [],
   "source": [
    "plt.plot(trackStats.fracEngorged.values)"
   ]
  },
  {
   "cell_type": "code",
   "execution_count": null,
   "metadata": {},
   "outputs": [],
   "source": [
    "from sklearn.model_selection import train_test_split\n",
    "\n",
    "X = dfCs.copy()\n",
    "# X.columns = dfxy.columns.droplevel()\n",
    "y = dfRRSA['behavior_behavior']\n",
    "\n",
    "X_train, X_test, y_train, y_test = train_test_split(X, y, random_state=1)"
   ]
  },
  {
   "cell_type": "code",
   "execution_count": null,
   "metadata": {},
   "outputs": [],
   "source": [
    "from sklearn.neighbors import KNeighborsClassifier\n",
    "\n",
    "k = 8\n",
    "\n",
    "knn_model = KNeighborsClassifier(n_neighbors=k)\n",
    "knn_model.fit(X_train, y_train) "
   ]
  },
  {
   "cell_type": "code",
   "execution_count": null,
   "metadata": {},
   "outputs": [],
   "source": [
    "y_predict = knn_model.predict(dfCs)\n",
    "y_predict"
   ]
  },
  {
   "cell_type": "code",
   "execution_count": null,
   "metadata": {},
   "outputs": [],
   "source": [
    "from sklearn import metrics\n",
    "print(\"Accuracy:\",metrics.accuracy_score(y_test, y_predict))"
   ]
  },
  {
   "cell_type": "code",
   "execution_count": null,
   "metadata": {},
   "outputs": [],
   "source": [
    "len(dfRRSA46)"
   ]
  },
  {
   "cell_type": "code",
   "execution_count": null,
   "metadata": {},
   "outputs": [],
   "source": [
    "dfRRSA46 = dfRRSA46.dropna()\n",
    "\n",
    "len(dfRRSA46)"
   ]
  },
  {
   "cell_type": "code",
   "execution_count": null,
   "metadata": {},
   "outputs": [],
   "source": [
    "# dfC = dfRRSA.loc[:,~dfRRSA.columns.str.endswith('likelihood')]\n",
    "#dfC = dfC.drop(columns=['x', 'y','age','species', 'angle', 'smoothAngle', 'behavior_behavior','frame', 'particle','distance', 'bottom_x', 'bottom_y'])\n",
    "dfC46 = dfRRSA46.drop(columns=['x', 'y','age','species', 'angle', 'smoothAngle','frame', 'particle','distance', 'bottom_x', 'bottom_y'])\n",
    "dfC46s = sklearn.preprocessing.StandardScaler(with_mean=True, with_std=True).fit_transform(dfC46)"
   ]
  },
  {
   "cell_type": "code",
   "execution_count": null,
   "metadata": {},
   "outputs": [],
   "source": [
    "dfC46.info()"
   ]
  },
  {
   "cell_type": "code",
   "execution_count": null,
   "metadata": {},
   "outputs": [],
   "source": [
    "dfC.info()"
   ]
  },
  {
   "cell_type": "code",
   "execution_count": null,
   "metadata": {},
   "outputs": [],
   "source": [
    "y_predict = knn_model.predict(dfC46s)\n",
    "y_predict"
   ]
  },
  {
   "cell_type": "code",
   "execution_count": null,
   "metadata": {},
   "outputs": [],
   "source": [
    "plt.plot(y_predict)"
   ]
  },
  {
   "cell_type": "code",
   "execution_count": null,
   "metadata": {},
   "outputs": [],
   "source": [
    "plt.plot(dfC46.bellyArea.values)"
   ]
  },
  {
   "cell_type": "code",
   "execution_count": null,
   "metadata": {},
   "outputs": [],
   "source": [
    "dataFile = glob.glob(dirList[0] + '*labels.csv')\n",
    "df = pd.read_csv(dataFile[0], header=[0,1,2], index_col=0)\n",
    "df.columns = df.columns.droplevel()\n",
    "for i in df.index:\n",
    "    df.loc[i, ('','frame')] = int(i[i.find('_f') + 2 : i.find('.png')])"
   ]
  },
  {
   "cell_type": "code",
   "execution_count": null,
   "metadata": {},
   "outputs": [],
   "source": []
  },
  {
   "cell_type": "code",
   "execution_count": null,
   "metadata": {},
   "outputs": [],
   "source": []
  },
  {
   "cell_type": "code",
   "execution_count": null,
   "metadata": {},
   "outputs": [],
   "source": [
    "fileList = glob.glob('/Users/felix/moreTest01-felix-2019-05-07/analyzeVideos/*DeepCut_resnet50_moreTest01May6shuffle1_65700.h5')\n",
    "alignTo = 'bottom'\n",
    "\n",
    "dfRelRotAll = pd.DataFrame()\n",
    "\n",
    "for i in fileList:\n",
    "    dataFile = i\n",
    "    df = pd.read_hdf(dataFile)\n",
    "    df.columns = df.columns.droplevel()\n",
    "    dfRel = df.copy()\n",
    "    for i in dfRel.columns.levels[0]:\n",
    "        dfRel[i, 'x'] = dfRel[i, 'x'] - df[alignTo, 'x']\n",
    "        dfRel[i, 'y'] = dfRel[i, 'y'] - df[alignTo, 'y']\n",
    "    dfRelRot = dfRel.copy()\n",
    "    for index, row in dfRelRot.iterrows():\n",
    "        bodyAngle = getBodyAngle(dfRel, index)\n",
    "        for i in dfRelRot.columns.levels[0]:\n",
    "            dfRelRot[i, 'x'][index] = (dfRel[i, 'x'][index] * math.cos(bodyAngle)) - (dfRel[i, 'y'][index] * math.sin(bodyAngle))\n",
    "            dfRelRot[i, 'y'][index] = (dfRel[i, 'x'][index] * math.sin(bodyAngle)) + (dfRel[i, 'y'][index] * math.cos(bodyAngle))\n",
    "    dfRelRotAll = dfRelRotAll.append(dfRelRot, ignore_index=False)\n"
   ]
  },
  {
   "cell_type": "code",
   "execution_count": null,
   "metadata": {},
   "outputs": [],
   "source": [
    "dirList = glob.glob('/Users/felix/Documents/mosquitoes/mosquitoData/bloodTasteData/trackAndBodypart/forKNN/*crops_*/')"
   ]
  },
  {
   "cell_type": "code",
   "execution_count": null,
   "metadata": {},
   "outputs": [],
   "source": [
    "dirList"
   ]
  },
  {
   "cell_type": "code",
   "execution_count": null,
   "metadata": {},
   "outputs": [],
   "source": []
  },
  {
   "cell_type": "code",
   "execution_count": null,
   "metadata": {},
   "outputs": [],
   "source": [
    "dfRelRot = dfRel.copy()\n",
    "dfRelRot['','angle'] = ''\n",
    "\n",
    "for index, row in dfRelRot.iterrows():\n",
    "#     print(index)\n",
    "    bodyAngle = getBodyAngle(dfRel, index)\n",
    "#     dfRelRot.loc[index,('bodyparts','angle')] = bodyAngle\n",
    "    dfRelRot['', 'angle'][index] = bodyAngle\n",
    "#     print(bodyAngle)\n",
    "    for i in dfRelRot.columns.levels[0][0:10]:\n",
    "#         print(i)\n",
    "#         print(dfRel[i, 'x'][index])\n",
    "        dfRelRot[i, 'x'][index] = (dfRel[i, 'x'][index] * math.cos(bodyAngle)) - (dfRel[i, 'y'][index] * math.sin(bodyAngle))\n",
    "        dfRelRot[i, 'y'][index] = (dfRel[i, 'x'][index] * math.sin(bodyAngle)) + (dfRel[i, 'y'][index] * math.cos(bodyAngle))\n",
    "#         print(bodyAngle)\n",
    "#         print(dfRel[i, 'x'][index])"
   ]
  },
  {
   "cell_type": "code",
   "execution_count": null,
   "metadata": {},
   "outputs": [],
   "source": [
    "fileList = glob.glob('/Users/felix/Documents/mosquitoes/mosquitoData/bloodTasteData/trackAndBodypart/forKNN/*crops_*/*.h5')\n",
    "alignTo = 'bottom'\n",
    "\n",
    "dfRelRotAll = pd.DataFrame()\n",
    "\n",
    "for i in fileList:\n",
    "    dataFile = i\n",
    "    df = pd.read_hdf(dataFile)\n",
    "    df.columns = df.columns.droplevel()\n",
    "    dfRel = df.copy()\n",
    "    for i in dfRel.columns.levels[0]:\n",
    "        dfRel[i, 'x'] = dfRel[i, 'x'] - df[alignTo, 'x']\n",
    "        dfRel[i, 'y'] = dfRel[i, 'y'] - df[alignTo, 'y']\n",
    "    dfRelRot = dfRel.copy()\n",
    "    for index, row in dfRelRot.iterrows():\n",
    "        bodyAngle = getBodyAngle(dfRel, index)\n",
    "        for i in dfRelRot.columns.levels[0]:\n",
    "            dfRelRot[i, 'x'][index] = (dfRel[i, 'x'][index] * math.cos(bodyAngle)) - (dfRel[i, 'y'][index] * math.sin(bodyAngle))\n",
    "            dfRelRot[i, 'y'][index] = (dfRel[i, 'x'][index] * math.sin(bodyAngle)) + (dfRel[i, 'y'][index] * math.cos(bodyAngle))\n",
    "    dfRelRotAll = dfRelRotAll.append(dfRelRot, ignore_index=False)\n",
    "\n"
   ]
  },
  {
   "cell_type": "code",
   "execution_count": null,
   "metadata": {},
   "outputs": [],
   "source": [
    "fileList = glob.glob('/Users/felix/Documents/mosquitoes/mosquitoData/bloodTasteData/trackAndBodypart/forKNN/*crops_p*/*labels.csv')\n",
    "alignTo = 'bottom'\n",
    "\n",
    "dfRelRotAll = pd.DataFrame()\n",
    "\n",
    "for i in fileList:\n",
    "    dataFile = i\n",
    "    df = pd.read_csv (dataFile, header=[0,1,2], index_col=0)\n",
    "    df.columns = df.columns.droplevel()\n",
    "    dfRel = df.copy()\n",
    "    for i in dfRel.columns.levels[0]:\n",
    "        if i != 'behavior':\n",
    "            dfRel[i, 'x'] = dfRel[i, 'x'] - df[alignTo, 'x']\n",
    "            dfRel[i, 'y'] = dfRel[i, 'y'] - df[alignTo, 'y']\n",
    "    dfRelRot = dfRel.copy()\n",
    "    for index, row in dfRelRot.iterrows():\n",
    "        bodyAngle = getBodyAngle(dfRel, index)\n",
    "        for i in dfRelRot.columns.levels[0]:\n",
    "            if i != 'behavior':\n",
    "                dfRelRot[i, 'x'][index] = (dfRel[i, 'x'][index] * math.cos(bodyAngle)) - (dfRel[i, 'y'][index] * math.sin(bodyAngle))\n",
    "                dfRelRot[i, 'y'][index] = (dfRel[i, 'x'][index] * math.sin(bodyAngle)) + (dfRel[i, 'y'][index] * math.cos(bodyAngle))\n",
    "    dfRelRotAll = dfRelRotAll.append(dfRelRot, ignore_index=False)\n",
    "\n",
    "\n"
   ]
  },
  {
   "cell_type": "code",
   "execution_count": null,
   "metadata": {},
   "outputs": [],
   "source": [
    "dfRelRot.head()"
   ]
  },
  {
   "cell_type": "code",
   "execution_count": null,
   "metadata": {},
   "outputs": [],
   "source": [
    "csvFile = '/Users/felix/Documents/mosquitoes/mosquitoData/bloodTasteData/trackAndBodypart/forKNN/NoATP_M2_crops_p27/crops_p27DeepCut_resnet50_moreTest01Jul23shuffle1_244500.csv'\n",
    "df2 = pd.read_csv (csvFile, header=[0,1,2], index_col=0)\n",
    "df2.columns = df2.columns.droplevel()"
   ]
  },
  {
   "cell_type": "code",
   "execution_count": null,
   "metadata": {},
   "outputs": [],
   "source": [
    "df2.head()"
   ]
  },
  {
   "cell_type": "code",
   "execution_count": null,
   "metadata": {},
   "outputs": [],
   "source": [
    "dataFile"
   ]
  },
  {
   "cell_type": "code",
   "execution_count": null,
   "metadata": {},
   "outputs": [],
   "source": [
    "len(dfRelRot)"
   ]
  },
  {
   "cell_type": "code",
   "execution_count": null,
   "metadata": {
    "scrolled": true
   },
   "outputs": [],
   "source": [
    "dfRelRot.head()"
   ]
  },
  {
   "cell_type": "code",
   "execution_count": null,
   "metadata": {},
   "outputs": [],
   "source": [
    "len(dfRelRot)"
   ]
  },
  {
   "cell_type": "code",
   "execution_count": null,
   "metadata": {},
   "outputs": [],
   "source": [
    "dfRelRotAll.head()"
   ]
  },
  {
   "cell_type": "code",
   "execution_count": null,
   "metadata": {},
   "outputs": [],
   "source": [
    "len(dfRelRotAll)"
   ]
  },
  {
   "cell_type": "code",
   "execution_count": null,
   "metadata": {},
   "outputs": [],
   "source": [
    "dfRRA = dfRelRotAll.copy()\n",
    "for i in dfRel.columns.levels[0]:\n",
    "    if i != 'behavior':\n",
    "#     dfRel[i, 'x'] = dfRel[i, 'x'] - df[alignTo, 'x']\n",
    "        dfRRA = dfRRA.drop(dfRRA[dfRRA[(i,'likelihood')] < 0.9].index)\n",
    "# dfRRA = dfRRA.drop(dfRRA[columns=['likelihood'], level=1 ].index)"
   ]
  },
  {
   "cell_type": "code",
   "execution_count": null,
   "metadata": {},
   "outputs": [],
   "source": [
    "i"
   ]
  },
  {
   "cell_type": "code",
   "execution_count": null,
   "metadata": {},
   "outputs": [],
   "source": [
    "len(dfRRA)"
   ]
  },
  {
   "cell_type": "code",
   "execution_count": null,
   "metadata": {},
   "outputs": [],
   "source": [
    "dfRRA[('rightForeleg','likelihood')]"
   ]
  },
  {
   "cell_type": "code",
   "execution_count": null,
   "metadata": {},
   "outputs": [],
   "source": [
    "ax = dfRelRotAll.plot(legend=False,figsize=(15,15))\n",
    "ax.grid(False)\n",
    "# plt.xlim([2500, 3000])"
   ]
  },
  {
   "cell_type": "code",
   "execution_count": null,
   "metadata": {},
   "outputs": [],
   "source": [
    "ax = dfRRA.plot(legend=False,figsize=(15,15))\n",
    "ax.grid(False)"
   ]
  },
  {
   "cell_type": "code",
   "execution_count": null,
   "metadata": {},
   "outputs": [],
   "source": [
    "tp13 = pickle.load(open('/Users/felix/Documents/mosquitoes/mosquitoData/bloodTasteData/trackAndBodypart/190702_SalineNoATP_M3/190702_SalineNoATP_M3_p13_tStats.pkl', 'rb'))"
   ]
  },
  {
   "cell_type": "code",
   "execution_count": null,
   "metadata": {},
   "outputs": [],
   "source": [
    "tp13.head()"
   ]
  },
  {
   "cell_type": "code",
   "execution_count": null,
   "metadata": {},
   "outputs": [],
   "source": [
    "dataFile = '/Users/felix/Documents/mosquitoes/mosquitoData/bloodTasteData/trackAndBodypart/190702_SalineNoATP_M3/crops_p13/crops_p13DeepCut_resnet50_moreTest01Jul23shuffle1_244500.h5'\n",
    "df = pd.read_hdf(dataFile)\n",
    "df.columns = df.columns.droplevel()\n",
    "# df['','frame'] = ''"
   ]
  },
  {
   "cell_type": "code",
   "execution_count": null,
   "metadata": {},
   "outputs": [],
   "source": [
    "for i in df.index:\n",
    "    df.loc[i, ('','frame')] = int(i[i.find('_f') + 2 : i.find('.png')])\n",
    "    "
   ]
  },
  {
   "cell_type": "code",
   "execution_count": null,
   "metadata": {},
   "outputs": [],
   "source": [
    "alignTo = 'bottom'\n",
    "dfRel = df.copy()\n",
    "\n",
    "for i in dfRel.columns.levels[0]:\n",
    "    dfRel[i, 'x'] = dfRel[i, 'x'] - df[alignTo, 'x']\n",
    "    dfRel[i, 'y'] = dfRel[i, 'y'] - df[alignTo, 'y']"
   ]
  },
  {
   "cell_type": "code",
   "execution_count": null,
   "metadata": {},
   "outputs": [],
   "source": [
    "dfRel.head()"
   ]
  },
  {
   "cell_type": "code",
   "execution_count": null,
   "metadata": {
    "scrolled": true
   },
   "outputs": [],
   "source": [
    "dfRelRot = dfRel.copy()\n",
    "dfRelRot['','angle'] = ''\n",
    "\n",
    "for index, row in dfRelRot.iterrows():\n",
    "#     print(index)\n",
    "    bodyAngle = getBodyAngle(dfRel, index)\n",
    "#     dfRelRot.loc[index,('bodyparts','angle')] = bodyAngle\n",
    "    dfRelRot['', 'angle'][index] = bodyAngle\n",
    "#     print(bodyAngle)\n",
    "    for i in dfRelRot.columns.levels[0][0:10]:\n",
    "#         print(i)\n",
    "#         print(dfRel[i, 'x'][index])\n",
    "        dfRelRot[i, 'x'][index] = (dfRel[i, 'x'][index] * math.cos(bodyAngle)) - (dfRel[i, 'y'][index] * math.sin(bodyAngle))\n",
    "        dfRelRot[i, 'y'][index] = (dfRel[i, 'x'][index] * math.sin(bodyAngle)) + (dfRel[i, 'y'][index] * math.cos(bodyAngle))\n",
    "#         print(bodyAngle)\n",
    "#         print(dfRel[i, 'x'][index])"
   ]
  },
  {
   "cell_type": "code",
   "execution_count": null,
   "metadata": {},
   "outputs": [],
   "source": [
    "len(dfRelRot.columns.levels[0])"
   ]
  },
  {
   "cell_type": "code",
   "execution_count": null,
   "metadata": {
    "scrolled": true
   },
   "outputs": [],
   "source": [
    "dfRelRot.columns.levels[0][0:11]"
   ]
  },
  {
   "cell_type": "code",
   "execution_count": null,
   "metadata": {
    "scrolled": true
   },
   "outputs": [],
   "source": [
    "dfRelRot.head()"
   ]
  },
  {
   "cell_type": "code",
   "execution_count": null,
   "metadata": {},
   "outputs": [],
   "source": [
    "bodyAngle"
   ]
  },
  {
   "cell_type": "code",
   "execution_count": null,
   "metadata": {},
   "outputs": [],
   "source": [
    "row"
   ]
  },
  {
   "cell_type": "code",
   "execution_count": null,
   "metadata": {},
   "outputs": [],
   "source": [
    "dfRelRot['','frame'] = ''\n",
    "\n",
    "for i in dfRelRot.index:\n",
    "    dfRelRot.loc[i, ('','frame')] = int(i[i.find('_f') + 2 : i.find('.png')])"
   ]
  },
  {
   "cell_type": "code",
   "execution_count": null,
   "metadata": {},
   "outputs": [],
   "source": [
    "dfd = dfRelRot.copy()\n",
    "dfd.columns = [f'{i}_{j}' if j != '' else f'{i}' for i,j in dfd.columns]\n",
    "dfd = dfd.rename(columns={\"_frame\": \"frame\"})\n",
    "dfd = dfd.rename(columns={\"_angle\": \"angle\"})\n",
    "dfd[\"angle\"] = pd.to_numeric(dfd[\"angle\"])"
   ]
  },
  {
   "cell_type": "code",
   "execution_count": null,
   "metadata": {
    "scrolled": true
   },
   "outputs": [],
   "source": [
    "# dfd = df.copy()\n",
    "# dfd.columns = dfd.columns.droplevel()\n",
    "mdf = pd.merge(dfd, tp13, on='frame', how='inner')"
   ]
  },
  {
   "cell_type": "code",
   "execution_count": null,
   "metadata": {},
   "outputs": [],
   "source": [
    "mdf.tail()"
   ]
  },
  {
   "cell_type": "code",
   "execution_count": null,
   "metadata": {},
   "outputs": [],
   "source": [
    "mdf.info()"
   ]
  },
  {
   "cell_type": "code",
   "execution_count": null,
   "metadata": {},
   "outputs": [],
   "source": [
    "mdf.angle"
   ]
  },
  {
   "cell_type": "code",
   "execution_count": null,
   "metadata": {},
   "outputs": [],
   "source": [
    "dfD = mdf.drop(columns=['frame', 'species', 'age'])\n",
    "dfD = dfD.dropna()\n",
    "dfD.head()"
   ]
  },
  {
   "cell_type": "code",
   "execution_count": null,
   "metadata": {},
   "outputs": [],
   "source": [
    "len(dfD)"
   ]
  },
  {
   "cell_type": "code",
   "execution_count": null,
   "metadata": {},
   "outputs": [],
   "source": [
    "dfNoBeh = dfRRAnan.drop(columns=['behavior'], level=1)"
   ]
  },
  {
   "cell_type": "code",
   "execution_count": null,
   "metadata": {},
   "outputs": [],
   "source": [
    "dfNoBeh = dfRelRotAll.drop(columns=['behavior'], level=1)\n",
    "dfNoBeh = dfNoBeh.dropna()"
   ]
  },
  {
   "cell_type": "code",
   "execution_count": null,
   "metadata": {},
   "outputs": [],
   "source": [
    "dfNoBeh['tsne-2d-one'] = tsne_resultsNoBeh[:,0]\n",
    "dfNoBeh['tsne-2d-two'] = tsne_resultsNoBeh[:,1]\n",
    "plt.figure(figsize=(16,10))\n",
    "sns.scatterplot(\n",
    "    x=\"tsne-2d-one\", y=\"tsne-2d-two\",\n",
    "#     hue=(\"behavior\",'behavior'),\n",
    "#     palette=sns.color_palette(\"hls\", 5),\n",
    "    data=dfNoBeh,\n",
    "    legend=\"full\",\n",
    "#     legend=['1','2'],\n",
    "    alpha=0.99\n",
    ")"
   ]
  },
  {
   "cell_type": "code",
   "execution_count": null,
   "metadata": {},
   "outputs": [],
   "source": [
    "dfStrip = dfRRAnan.copy()\n",
    "dfStrip.columns = dfRRAnan.columns.droplevel()"
   ]
  },
  {
   "cell_type": "code",
   "execution_count": null,
   "metadata": {},
   "outputs": [],
   "source": [
    "dfStrip.head()"
   ]
  },
  {
   "cell_type": "code",
   "execution_count": null,
   "metadata": {},
   "outputs": [],
   "source": [
    "len(dfStrip[dfStrip['behavior'] == 4])"
   ]
  },
  {
   "cell_type": "code",
   "execution_count": null,
   "metadata": {},
   "outputs": [],
   "source": [
    "dfRRAnan[dfRRAnan[('behavior', 'behavior')] == 4]"
   ]
  },
  {
   "cell_type": "code",
   "execution_count": null,
   "metadata": {},
   "outputs": [],
   "source": [
    "tsne3 = TSNE(n_components=3, verbose=1, perplexity=30, n_iter=3000)\n",
    "dfCs = sklearn.preprocessing.StandardScaler(with_mean=True, with_std=True).fit_transform(dfC)\n",
    "tsne_results3 = tsne3.fit_transform(dfCs)"
   ]
  },
  {
   "cell_type": "code",
   "execution_count": null,
   "metadata": {
    "scrolled": true
   },
   "outputs": [],
   "source": [
    "dfRRSA['tsne-3d-one'] = tsne_results3[:,0]\n",
    "dfRRSA['tsne-3d-two'] = tsne_results3[:,1]\n",
    "dfRRSA['tsne-3d-three'] = tsne_results3[:,2]\n",
    "plt.figure(figsize=(16,13))\n",
    "sns.scatterplot(\n",
    "    x=\"tsne-3d-one\", y=\"tsne-3d-two\", s=\"tsne-3d-three\",\n",
    "    hue=('behavior_behavior'),\n",
    "    palette=sns.color_palette(\"hls\", 6),\n",
    "    data=dfRRSA,\n",
    "#     legend=\"full\",\n",
    "# #     legend=['1','2'],\n",
    "#     alpha=0.99\n",
    ")"
   ]
  },
  {
   "cell_type": "code",
   "execution_count": null,
   "metadata": {},
   "outputs": [],
   "source": [
    "from mpl_toolkits.mplot3d import Axes3D\n",
    "\n",
    "fig = plt.figure(figsize=(8, 6))\n",
    "ax = fig.add_subplot(111, projection='3d')\n",
    "\n",
    "ax.scatter(tsne_results3[:,0], tsne_results3[:,1], tsne_results3[:,2],  s=50, alpha=0.6, edgecolors='w')"
   ]
  },
  {
   "cell_type": "code",
   "execution_count": null,
   "metadata": {},
   "outputs": [],
   "source": [
    "dfRRAnan = dfRRA.dropna()\n",
    "# tsne = TSNE(n_components=2, verbose=1, perplexity=40, n_iter=2000)\n",
    "# tsne_results = tsne.fit_transform(dfRRAnan, y=('behavior', 'behavior'))"
   ]
  },
  {
   "cell_type": "code",
   "execution_count": null,
   "metadata": {},
   "outputs": [],
   "source": [
    "dfRRAnan.head()"
   ]
  },
  {
   "cell_type": "code",
   "execution_count": null,
   "metadata": {},
   "outputs": [],
   "source": [
    "dfRRAnan['tsne-2d-one'] = tsne_results[:,0]\n",
    "dfRRAnan['tsne-2d-two'] = tsne_results[:,1]\n",
    "plt.figure(figsize=(16,10))\n",
    "sns.scatterplot(\n",
    "    x=\"tsne-2d-one\", y=\"tsne-2d-two\",\n",
    "    hue=(\"behavior\",'behavior'),\n",
    "    palette=sns.color_palette(\"hls\", 5),\n",
    "    data=dfRRAnan,\n",
    "    legend=\"full\",\n",
    "#     legend=['1','2'],\n",
    "    alpha=0.99\n",
    ")\n",
    "\n",
    "# plt.legend(['1','2','3','4','5','6','7','8','9'])\n",
    "\n",
    "# plt.legend(['1','2','3','4'])"
   ]
  },
  {
   "cell_type": "markdown",
   "metadata": {},
   "source": [
    "behaviors:\n",
    "1: rest\n",
    "2: walk\n",
    "3: probe\n",
    "4: bite\n",
    "5: imbibe\n",
    "6: proboscis groom\n",
    "7: hind leg groom\n",
    "8: land\n",
    "9: reorient"
   ]
  },
  {
   "cell_type": "code",
   "execution_count": null,
   "metadata": {},
   "outputs": [],
   "source": [
    "pca = PCA(n_components=2)\n",
    "principalComponentsAll = pca.fit_transform(dfCs)\n",
    "pcaDfAll = pd.DataFrame(data = principalComponentsAll, columns = ['pca1', 'pca2'])\n",
    "plt.figure(figsize=(16,10))\n",
    "plt.plot(pcaDfAll.pca1, pcaDfAll.pca2,'.', alpha=0.2)"
   ]
  },
  {
   "cell_type": "code",
   "execution_count": null,
   "metadata": {},
   "outputs": [],
   "source": []
  },
  {
   "cell_type": "code",
   "execution_count": null,
   "metadata": {},
   "outputs": [],
   "source": []
  },
  {
   "cell_type": "code",
   "execution_count": null,
   "metadata": {},
   "outputs": [],
   "source": [
    "from sklearn.decomposition import PCA\n",
    "\n",
    "pca_model = PCA(n_components=2)\n",
    "pca_model.fit(X_train)\n",
    "X_train = pca_model.transform(X_train)\n",
    "X_test = pca_model.transform(X_test)\n",
    "\n",
    "# 2-Dimensions\n",
    "X_train[:5]"
   ]
  },
  {
   "cell_type": "code",
   "execution_count": null,
   "metadata": {},
   "outputs": [],
   "source": []
  },
  {
   "cell_type": "code",
   "execution_count": null,
   "metadata": {},
   "outputs": [],
   "source": []
  },
  {
   "cell_type": "code",
   "execution_count": null,
   "metadata": {},
   "outputs": [],
   "source": [
    "# ax = plt.figure()\n",
    "ax = dfRelRot.plot(legend=False,figsize=(15,15))\n",
    "ax.grid(False)\n",
    "# plt.xlim([190, 380])"
   ]
  },
  {
   "cell_type": "code",
   "execution_count": null,
   "metadata": {},
   "outputs": [],
   "source": [
    "dfRelRot.head()"
   ]
  },
  {
   "cell_type": "code",
   "execution_count": null,
   "metadata": {},
   "outputs": [],
   "source": [
    "plt.plot(dfRelRot[[('head','x')]].loc[0], dfRelRot[[('head','y')]].loc[0],'.r')"
   ]
  },
  {
   "cell_type": "code",
   "execution_count": null,
   "metadata": {},
   "outputs": [],
   "source": [
    "plt.plot(df[[('head','x')]].loc[0], df[[('head','y')]].loc[0],'.r')\n",
    "plt.plot(df[[('abdomen','x')]].loc[0], df[[('abdomen','y')]].loc[0],'.g')\n",
    "plt.plot(df[[('bottom','x')]].loc[0], df[[('bottom','y')]].loc[0],'.k')\n",
    "plt.plot(df[[('rightForeleg','x')]].loc[0], df[[('rightForeleg','y')]].loc[0],'.b')\n",
    "plt.plot(df[[('leftForeleg','x')]].loc[0], df[[('leftForeleg','y')]].loc[0],'.m')"
   ]
  },
  {
   "cell_type": "code",
   "execution_count": null,
   "metadata": {},
   "outputs": [],
   "source": [
    "plt.plot(dfRel[[('head','x')]].loc[0], dfRel[[('head','y')]].loc[0],'.r')\n",
    "plt.plot(dfRel[[('abdomen','x')]].loc[0], dfRel[[('abdomen','y')]].loc[0],'.g')\n",
    "plt.plot(dfRel[[('bottom','x')]].loc[0], dfRel[[('bottom','y')]].loc[0],'.k')\n",
    "plt.plot(dfRel[[('rightForeleg','x')]].loc[0], dfRel[[('rightForeleg','y')]].loc[0],'.b')\n",
    "plt.plot(dfRel[[('leftForeleg','x')]].loc[0], dfRel[[('leftForeleg','y')]].loc[0],'.m')"
   ]
  },
  {
   "cell_type": "code",
   "execution_count": null,
   "metadata": {},
   "outputs": [],
   "source": [
    "plt.plot(dfRelRot[[('head','x')]].loc[0], dfRelRot[[('head','y')]].loc[0],'.r')\n",
    "plt.plot(dfRelRot[[('abdomen','x')]].loc[0], dfRelRot[[('abdomen','y')]].loc[0],'.g')\n",
    "plt.plot(dfRelRot[[('bottom','x')]].loc[0], dfRelRot[[('bottom','y')]].loc[0],'.k')\n",
    "plt.plot(dfRelRot[[('rightForeleg','x')]].loc[0], dfRelRot[[('rightForeleg','y')]].loc[0],'.b')\n",
    "plt.plot(dfRelRot[[('leftForeleg','x')]].loc[0], dfRelRot[[('leftForeleg','y')]].loc[0],'.m')"
   ]
  },
  {
   "cell_type": "code",
   "execution_count": null,
   "metadata": {},
   "outputs": [],
   "source": [
    "plt.plot(dfRelRot[[('head','x')]].loc[:], dfRelRot[[('head','y')]].loc[:],'.w')\n",
    "plt.plot(dfRelRot[[('abdomen','x')]].loc[:], dfRelRot[[('abdomen','y')]].loc[:],'.w')\n",
    "plt.plot(dfRelRot[[('bottom','x')]].loc[:], dfRelRot[[('bottom','y')]].loc[:],'.w')\n",
    "plt.plot(dfRelRot[[('rightForeleg','x')]].loc[:], dfRelRot[[('rightForeleg','y')]].loc[:],'.b')\n",
    "plt.plot(dfRelRot[[('leftForeleg','x')]].loc[:], dfRelRot[[('leftForeleg','y')]].loc[:],'.m')\n",
    "plt.plot(dfRelRot[[('rightHindLeg','x')]].loc[:], dfRelRot[[('rightHindLeg','y')]].loc[:],'.c')\n",
    "plt.plot(dfRelRot[[('leftHindLeg','x')]].loc[:], dfRelRot[[('leftHindLeg','y')]].loc[:],'.y')\n",
    "plt.plot(dfRelRot[[('rightMiddleLeg','x')]].loc[:], dfRelRot[[('rightMiddleLeg','y')]].loc[:],'.k')\n",
    "plt.plot(dfRelRot[[('leftMiddleLeg','x')]].loc[:], dfRelRot[[('leftMiddleLeg','y')]].loc[:],'.k')\n",
    "plt.plot(dfRelRot[[('proboscis','x')]].loc[:], dfRelRot[[('proboscis','y')]].loc[:],'.r')"
   ]
  },
  {
   "cell_type": "code",
   "execution_count": null,
   "metadata": {},
   "outputs": [],
   "source": [
    "dfRelRot.head()"
   ]
  },
  {
   "cell_type": "code",
   "execution_count": null,
   "metadata": {},
   "outputs": [],
   "source": [
    "plt.plot(dfRelRot[[('head','x')]].loc[:], dfRelRot[[('head','y')]].loc[:],'w')\n",
    "# plt.plot(dfRelRot[[('abdomen','x')]].loc[:], dfRelRot[[('abdomen','y')]].loc[:],'w')\n",
    "# plt.plot(dfRelRot[[('bottom','x')]].loc[:], dfRelRot[[('bottom','y')]].loc[:],'w')\n",
    "plt.plot(dfRelRot[[('rightForeleg','x')]].loc[:], dfRelRot[[('rightForeleg','y')]].loc[:],'b')\n",
    "plt.plot(dfRelRot[[('leftForeleg','x')]].loc[:], dfRelRot[[('leftForeleg','y')]].loc[:],'m')\n",
    "# plt.plot(dfRelRot[[('rightHindLeg','x')]].loc[:], dfRelRot[[('rightHindLeg','y')]].loc[:],'c')\n",
    "# plt.plot(dfRelRot[[('leftHindLeg','x')]].loc[:], dfRelRot[[('leftHindLeg','y')]].loc[:],'y')\n",
    "# plt.plot(dfRelRot[[('rightMiddleLeg','x')]].loc[:], dfRelRot[[('rightMiddleLeg','y')]].loc[:],'k')\n",
    "# plt.plot(dfRelRot[[('leftMiddleLeg','x')]].loc[:], dfRelRot[[('leftMiddleLeg','y')]].loc[:],'g')\n",
    "plt.plot(dfRelRot[[('proboscis','x')]].loc[:], dfRelRot[[('proboscis','y')]].loc[:],'r')"
   ]
  },
  {
   "cell_type": "code",
   "execution_count": null,
   "metadata": {},
   "outputs": [],
   "source": [
    "plt.plot(dfRelRot[[('proboscis','x')]].loc[:], dfRelRot[[('proboscis','y')]].loc[:],'r')"
   ]
  },
  {
   "cell_type": "code",
   "execution_count": null,
   "metadata": {},
   "outputs": [],
   "source": [
    "plt.figure(figsize=(10,7))\n",
    "plt.plot(df[[('rightMiddleLeg','x')]], 'c')\n",
    "plt.plot(df[[('leftMiddleLeg','x')]], 'm')\n",
    "plt.plot(df[[('rightMiddleLeg','y')]], '--c')#, alpha=0.25)\n",
    "plt.plot(df[[('leftMiddleLeg','y')]], '--m')#, alpha=0.25)\n",
    "plt.plot(df[[('proboscis','x')]], 'k')\n",
    "plt.plot(df[[('proboscis','y')]], '--k')\n",
    "# plt.plot(df[[('proboscis','y')]], '--k')#, alpha=0.25)\n",
    "# plt.plot(df[[('head','x')]], 'w')\n",
    "# plt.plot(df[[('head','y')]], '--w')\n",
    "# plt.plot(df[[('bottom','x')]], 'k', alpha=0.25)\n",
    "# plt.plot(df[[('bottom','y')]], 'k', alpha=0.25)\n",
    "# plt.plot(df[[('bottom','x')]], '--k')\n",
    "# plt.plot(df[[('bottom','y')]], 'k')\n",
    "plt.plot(df[[('abdomen','x')]], 'y')\n",
    "plt.plot(df[[('abdomen','y')]], '--y')\n",
    "# plt.plot(df[[('rightMiddleLeg','y')]], 'w')\n",
    "# plt.plot(df[[('leftForeleg','x')]], 'm')\n",
    "\n",
    "# plt.plot(df[[('rightMiddleLeg','y')]], 'w')\n",
    "\n",
    "\n",
    "\n",
    "plt.xlabel('time (frames)')\n",
    "plt.ylabel('body part position (A.U.)')\n",
    "plt.legend(['right middle leg, x', 'left middle leg, x', 'right middle leg, y', 'left middle leg, y', 'proboscis, x', 'proboscis, y', 'abdomen, x', 'abdomen, y'])\n",
    "# plt.xlim((-2, 45))\n",
    "# plt.savefig('181206_01_1783-1816_exploring_01.pdf')"
   ]
  },
  {
   "cell_type": "code",
   "execution_count": null,
   "metadata": {},
   "outputs": [],
   "source": [
    "plt.figure(figsize=(10,7))\n",
    "plt.plot(dfRel[[('rightMiddleLeg','x')]], 'c')\n",
    "plt.plot(dfRel[[('leftMiddleLeg','x')]], 'm')\n",
    "plt.plot(dfRel[[('rightMiddleLeg','y')]], '--c')#, alpha=0.25)\n",
    "plt.plot(dfRel[[('leftMiddleLeg','y')]], '--m')#, alpha=0.25)\n",
    "plt.plot(dfRel[[('proboscis','x')]], 'k')\n",
    "plt.plot(dfRel[[('proboscis','y')]], '--k')\n",
    "# plt.plot(df[[('proboscis','y')]], '--k')#, alpha=0.25)\n",
    "# plt.plot(df[[('head','x')]], 'w')\n",
    "# plt.plot(df[[('head','y')]], '--w')\n",
    "# plt.plot(df[[('bottom','x')]], 'k', alpha=0.25)\n",
    "# plt.plot(df[[('bottom','y')]], 'k', alpha=0.25)\n",
    "# plt.plot(df[[('bottom','x')]], '--k')\n",
    "# plt.plot(df[[('bottom','y')]], 'k')\n",
    "plt.plot(dfRel[[('abdomen','x')]], 'y')\n",
    "plt.plot(dfRel[[('abdomen','y')]], '--y')\n",
    "# plt.plot(df[[('rightMiddleLeg','y')]], 'w')\n",
    "# plt.plot(df[[('leftForeleg','x')]], 'm')\n",
    "\n",
    "# plt.plot(df[[('rightMiddleLeg','y')]], 'w')\n",
    "\n",
    "\n",
    "\n",
    "plt.xlabel('time (frames)')\n",
    "plt.ylabel('body part position (A.U.)')\n",
    "plt.legend(['right middle leg, x', 'left middle leg, x', 'right middle leg, y', 'left middle leg, y', 'proboscis, x', 'proboscis, y', 'abdomen, x', 'abdomen, y'])\n",
    "# plt.xlim((-2, 45))\n",
    "# plt.savefig('181206_01_1783-1816_exploring_01.pdf')"
   ]
  },
  {
   "cell_type": "code",
   "execution_count": null,
   "metadata": {},
   "outputs": [],
   "source": [
    "plt.figure(figsize=(15,11))\n",
    "plt.plot(dfRelRot[[('rightMiddleLeg','x')]], 'y')\n",
    "# plt.plot(dfRelRot[[('leftMiddleLeg','x')]], 'm')\n",
    "# plt.plot(dfRelRot[[('rightHindLeg','x')]], 'm')\n",
    "plt.plot(dfRelRot[[('rightHindLeg','y')]], 'm')\n",
    "plt.plot(dfRelRot[[('rightForeleg','x')]], 'c')#, alpha=0.25)\n",
    "# plt.plot(dfRelRot[[('rightForeleg','y')]], '--m')#, alpha=0.25)\n",
    "# plt.plot(dfRelRot[[('proboscis','x')]], 'k')\n",
    "plt.plot(dfRelRot[[('proboscis','y')]], 'k')\n",
    "# plt.plot(df[[('proboscis','y')]], '--k')#, alpha=0.25)\n",
    "# plt.plot(df[[('head','x')]], 'w')\n",
    "# plt.plot(df[[('head','y')]], '--w')\n",
    "# plt.plot(df[[('bottom','x')]], 'k', alpha=0.25)\n",
    "# plt.plot(df[[('bottom','y')]], 'k', alpha=0.25)\n",
    "# plt.plot(df[[('bottom','x')]], '--k')\n",
    "# plt.plot(df[[('bottom','y')]], 'k')\n",
    "# plt.plot(dfRelRot[[('abdomen','x')]], 'y')\n",
    "# plt.plot(dfRelRot[[('abdomen','y')]], '--y')\n",
    "# plt.plot(df[[('rightMiddleLeg','y')]], 'w')\n",
    "# plt.plot(df[[('leftForeleg','x')]], 'm')\n",
    "\n",
    "# plt.plot(df[[('rightMiddleLeg','y')]], 'w')\n",
    "\n",
    "\n",
    "\n",
    "plt.xlabel('time (frames)')\n",
    "plt.ylabel('body part position (A.U.)')\n",
    "plt.legend(['right middle leg, x', 'right hind leg, y', 'right foreleg, x', 'proboscis, y'])#, 'proboscis, x', 'proboscis, y', 'abdomen, x', 'abdomen, y'])\n",
    "# plt.xlim((-2, 45))\n",
    "# plt.savefig('181206_01_1783-1816_exploring_01.pdf')"
   ]
  }
 ],
 "metadata": {
  "kernelspec": {
   "display_name": "bs",
   "language": "python",
   "name": "bs"
  },
  "language_info": {
   "codemirror_mode": {
    "name": "ipython",
    "version": 3
   },
   "file_extension": ".py",
   "mimetype": "text/x-python",
   "name": "python",
   "nbconvert_exporter": "python",
   "pygments_lexer": "ipython3",
   "version": "3.6.5"
  },
  "varInspector": {
   "cols": {
    "lenName": 16,
    "lenType": 16,
    "lenVar": 40
   },
   "kernels_config": {
    "python": {
     "delete_cmd_postfix": "",
     "delete_cmd_prefix": "del ",
     "library": "var_list.py",
     "varRefreshCmd": "print(var_dic_list())"
    },
    "r": {
     "delete_cmd_postfix": ") ",
     "delete_cmd_prefix": "rm(",
     "library": "var_list.r",
     "varRefreshCmd": "cat(var_dic_list()) "
    }
   },
   "types_to_exclude": [
    "module",
    "function",
    "builtin_function_or_method",
    "instance",
    "_Feature"
   ],
   "window_display": false
  }
 },
 "nbformat": 4,
 "nbformat_minor": 4
}
