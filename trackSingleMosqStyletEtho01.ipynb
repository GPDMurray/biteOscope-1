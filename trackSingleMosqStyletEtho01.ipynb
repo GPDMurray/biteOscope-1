{
 "cells": [
  {
   "cell_type": "code",
   "execution_count": null,
   "metadata": {},
   "outputs": [],
   "source": [
    "'''\n",
    "author: Felix Hol\n",
    "date: 2019 Aug 20\n",
    "content: code to track mosquitoes, create crops, creat presence / stylet ethogram\n",
    "'''\n",
    "\n",
    "import numpy as np\n",
    "%matplotlib inline\n",
    "import matplotlib as mpl\n",
    "# mpl.use('TkAgg') ### this is a workaround for a bug when running on macOS, may not be necessary anymore\n",
    "import matplotlib.pyplot as plt\n",
    "import os\n",
    "import itertools as it\n",
    "import pandas as pd\n",
    "from pandas import DataFrame, Series  # for convenience\n",
    "import pims\n",
    "import skimage\n",
    "from skimage import data, io, util\n",
    "from skimage.feature import (canny, match_descriptors, peak_local_max, match_template, corner_peaks, corner_harris, plot_matches, BRIEF)\n",
    "from skimage.color import rgb2gray\n",
    "from skimage.draw import circle\n",
    "from skimage.measure import label, regionprops\n",
    "from skimage.morphology import binary_dilation, erosion, dilation, opening, binary_closing, closing, white_tophat, remove_small_objects, disk, black_tophat, skeletonize, convex_hull_image\n",
    "from scipy import ndimage as ndi\n",
    "import scipy\n",
    "import trackpy as tp\n",
    "import pylab\n",
    "import math\n",
    "from joblib import Parallel, delayed\n",
    "import multiprocessing\n",
    "from datetime import datetime\n",
    "from tqdm import tnrange\n",
    "import pickle\n",
    "import glob"
   ]
  },
  {
   "cell_type": "code",
   "execution_count": null,
   "metadata": {},
   "outputs": [],
   "source": [
    "dataDir = '/Volumes/Fe_ssd02/bloodTaste/190702_SalineNoATP/M7/'\n",
    "saveDir = '/Users/felix/Documents/mosquitoes/mosquitoData/bloodTasteData/analysis/SalineNoATP/190702_SalineNoATP_M7/'\n",
    "frames = pims.ImageSequence(dataDir+'/*.tiff', as_grey=True)"
   ]
  },
  {
   "cell_type": "code",
   "execution_count": null,
   "metadata": {},
   "outputs": [],
   "source": [
    "len(frames)"
   ]
  },
  {
   "cell_type": "code",
   "execution_count": null,
   "metadata": {},
   "outputs": [],
   "source": [
    "####create background image\n",
    "\n",
    "start = 1423\n",
    "stop = len(frames) - 1\n",
    "step = math.floor(len(frames)/20)\n",
    "\n",
    "numBGframes = int(np.ceil((stop - start) /step) + 1)\n",
    "frameSize = frames[1].shape\n",
    "BG = np.zeros([frameSize[0], frameSize[1], numBGframes])\n",
    "\n",
    "j = 1\n",
    "for i in range(start, stop, step):\n",
    "    j += 1\n",
    "    BG[:, :, j - 1] = np.invert(frames[i])    \n",
    "\n",
    "BG = np.median(BG, axis=2)"
   ]
  },
  {
   "cell_type": "code",
   "execution_count": null,
   "metadata": {},
   "outputs": [],
   "source": [
    "plt.figure(figsize=(25,10))\n",
    "plt.imshow(BG)"
   ]
  },
  {
   "cell_type": "code",
   "execution_count": null,
   "metadata": {},
   "outputs": [],
   "source": [
    "#### get centroid coordinates\n",
    "\n",
    "def trackMosq2(i):\n",
    "    borderToExclude = 50\n",
    "    selem1 = disk(8)\n",
    "    selem2 = disk(1)\n",
    "    A = np.zeros(frameSize)\n",
    "    A = A + np.invert(frames[i])\n",
    "    B = A - BG\n",
    "    if B.min() > 0:\n",
    "        Bm = B - B.min()\n",
    "    else:\n",
    "        Bm = B\n",
    "    Bt = Bm > 90\n",
    "    Bts = remove_small_objects(Bt, min_size=400)\n",
    "    Be = erosion(Bts, selem2)\n",
    "    Bf = remove_small_objects(Be, min_size=300)\n",
    "    Bc = binary_closing(Bf, selem1)\n",
    "    C = B * Bc\n",
    "    eroded = erosion(C, selem2)\n",
    "    eroded = skimage.filters.gaussian(eroded, 4)\n",
    "    eroded[eroded < 0] = 0\n",
    "    erL = label(eroded>0)\n",
    "    erR = regionprops(erL, C)#, coordinates='xy')\n",
    "    l = 1\n",
    "    for props in erR:\n",
    "        if props.area > 100000:\n",
    "            erL[erL==l] = 0\n",
    "        if props.area < 1000:\n",
    "            erL[erL==l] = 0\n",
    "        if props.major_axis_length > 1000:\n",
    "            erL[erL==l] = 0\n",
    "        if props.centroid[0] < borderToExclude or props.centroid[1] < borderToExclude or props.centroid[0] > frameSize[0] - borderToExclude or props.centroid[1] > frameSize[1] - borderToExclude:\n",
    "            erL[erL==l] = 0\n",
    "        l = l +1\n",
    "    erLf = label(erL>0)\n",
    "    erodedF = eroded * (erLf > 0)\n",
    "    erRf = regionprops(erLf, C)#, coordinates='xy')\n",
    "    centroids = np.zeros([len(erRf), 2])\n",
    "    numCent = 0\n",
    "    for props in erRf:\n",
    "        centroids[numCent] = props.centroid\n",
    "        numCent += 1\n",
    "#     coordinates = peak_local_max(eroded, min_distance=130, exclude_border=1)\n",
    "#     cS= coordinates.shape; numCoor = cS[0]\n",
    "    cenS= centroids.shape; numCen = cenS[0]\n",
    "    frameNo = i\n",
    "#     frameNoA = np.zeros((numCoor,1), dtype=np.int)\n",
    "    frameNoCen = np.zeros((numCen,1), dtype=np.int)\n",
    "#     frameNoA[:] = frameNo\n",
    "    frameNoCen[:] = frameNo\n",
    "#     coordinatesF = np.hstack((coordinates,frameNoA))\n",
    "    centroidsF = np.hstack((centroids,frameNoCen))\n",
    "    if len(centroids) > 1:\n",
    "        diffX = np.abs(centroids[0][0] - centroids[1][0])\n",
    "        diffY = np.abs(centroids[0][1] - centroids[1][1])\n",
    "        if diffX < 250 and diffY < 250:\n",
    "            AA = np.zeros([1,3])\n",
    "            AA[0][0] = np.mean([centroidsF[0][0], centroidsF[1][0]]) \n",
    "            AA[0][1] = np.mean([centroidsF[0][1], centroidsF[1][1]])\n",
    "            AA[0][2] = np.mean(frameNoCen)\n",
    "            centroidsF = AA\n",
    "#     coordinatesF = np.hstack((coordinates,frameNoA))\n",
    "#     numCoords = coordinatesF.shape[0]\n",
    "    numCents = centroidsF.shape[0]\n",
    "    return centroidsF, numCents\n",
    "\n",
    "#     return centroidsF, coordinatesF, numCents, numCoords\n"
   ]
  },
  {
   "cell_type": "code",
   "execution_count": null,
   "metadata": {},
   "outputs": [],
   "source": [
    "#####testing....\n",
    "i = 1788\n",
    "centroidsF, numCents = trackMosq2(i)\n",
    "plt.figure(figsize=(18,12))\n",
    "plt.imshow(frames[i], cmap = 'gray')\n",
    "# plt.imshow(eroded)\n",
    "# plt.plot(coordinatesF[:,1],coordinatesF[:,0],'r.')\n",
    "plt.plot(centroidsF[:,1],centroidsF[:,0],'r.')\n",
    "centroidsF"
   ]
  },
  {
   "cell_type": "code",
   "execution_count": null,
   "metadata": {},
   "outputs": [],
   "source": [
    "num_cores = multiprocessing.cpu_count()\n",
    "results = Parallel(n_jobs=num_cores)(delayed(trackMosq2)(i) for i in tnrange(1426, len(frames)))"
   ]
  },
  {
   "cell_type": "code",
   "execution_count": null,
   "metadata": {},
   "outputs": [],
   "source": [
    "centroidsAllT = np.zeros((1,3))\n",
    "\n",
    "for i in range(len(results)):\n",
    "    centroidsAllT = np.vstack((centroidsAllT,results[i][0]))"
   ]
  },
  {
   "cell_type": "code",
   "execution_count": null,
   "metadata": {},
   "outputs": [],
   "source": [
    "len(centroidsAllT)"
   ]
  },
  {
   "cell_type": "code",
   "execution_count": null,
   "metadata": {
    "scrolled": false
   },
   "outputs": [],
   "source": [
    "plt.figure(figsize=(18,12))\n",
    "plt.imshow(frames[1000], cmap = 'gray')\n",
    "# plt.imshow(eroded)\n",
    "# plt.plot(coordinatesF[:,1],coordinatesF[:,0],'r.')\n",
    "plt.plot(centroidsAllT[:,1],centroidsAllT[:,0],'r.')"
   ]
  },
  {
   "cell_type": "code",
   "execution_count": null,
   "metadata": {},
   "outputs": [],
   "source": [
    "os.chdir(saveDir)\n",
    "with open('190702_SalineNoATP_M7_ROICent.pkl', 'wb') as f:\n",
    "    pickle.dump(centroidsAllT, f)"
   ]
  },
  {
   "cell_type": "code",
   "execution_count": null,
   "metadata": {},
   "outputs": [],
   "source": [
    "# os.chdir(saveDir)\n",
    "# with open('190625_KPPTN_01_Cent.pkl', 'rb') as f:\n",
    "#     centroidsAllT = pickle.load(f)"
   ]
  },
  {
   "cell_type": "code",
   "execution_count": null,
   "metadata": {},
   "outputs": [],
   "source": [
    "df_cenAllT = pd.DataFrame(centroidsAllT)\n",
    "df_cenAllT = df_cenAllT.rename(columns={0: \"y\", 1: \"x\", 2: \"frame\"})\n",
    "df_cenAllT.head()"
   ]
  },
  {
   "cell_type": "code",
   "execution_count": null,
   "metadata": {},
   "outputs": [],
   "source": [
    "t = tp.link_df(df_cenAllT, 300, memory=2)"
   ]
  },
  {
   "cell_type": "code",
   "execution_count": null,
   "metadata": {},
   "outputs": [],
   "source": [
    "plt.figure(figsize=(25,10))\n",
    "plt.imshow(frames[200], cmap='gray')\n",
    "plt.plot(centroidsAllT[:,1],centroidsAllT[:,0],'r.',alpha=0.5, markersize=10)\n",
    "tp.plot_traj(t, plot_style={'linewidth':'2.0'})"
   ]
  },
  {
   "cell_type": "code",
   "execution_count": null,
   "metadata": {},
   "outputs": [],
   "source": [
    "tFilt = tp.filter_stubs(t, 10)"
   ]
  },
  {
   "cell_type": "code",
   "execution_count": null,
   "metadata": {},
   "outputs": [],
   "source": [
    "fig = plt.figure(figsize=(30,10))\n",
    "ax = fig.add_subplot(1, 1, 1)\n",
    "# fig.figure(figsize=(10,50))\n",
    "\n",
    "for i in tFilt.particle.unique():\n",
    "    start = np.min(tFilt.loc[tFilt['particle'] == i].frame)\n",
    "    width = np.max(tFilt.loc[tFilt['particle'] == i].frame) - np.min(tFilt.loc[tFilt['particle'] == i].frame)\n",
    "    rect = plt.Rectangle((start, 0.75), width, 0.15, color='r', alpha=0.2, ec=None)\n",
    "    ax.add_patch(rect)\n",
    "\n",
    "plt.xlim([0, 9000])"
   ]
  },
  {
   "cell_type": "code",
   "execution_count": null,
   "metadata": {},
   "outputs": [],
   "source": [
    "os.chdir(saveDir)\n",
    "t.to_pickle('190702_SalineNoATP_M7_ROItracks.pkl')"
   ]
  },
  {
   "cell_type": "code",
   "execution_count": null,
   "metadata": {},
   "outputs": [],
   "source": [
    "# os.chdir(saveDir)\n",
    "# t = pickle.load(open('190625_KPPTN_01_tracks.pkl', 'rb'))"
   ]
  },
  {
   "cell_type": "code",
   "execution_count": null,
   "metadata": {},
   "outputs": [],
   "source": [
    "t.head()"
   ]
  },
  {
   "cell_type": "code",
   "execution_count": null,
   "metadata": {},
   "outputs": [],
   "source": [
    "tFilt = tp.filter_stubs(t, 4)\n",
    "tFilt.particle.unique()"
   ]
  },
  {
   "cell_type": "code",
   "execution_count": null,
   "metadata": {},
   "outputs": [],
   "source": [
    "len(tFilt)"
   ]
  },
  {
   "cell_type": "code",
   "execution_count": null,
   "metadata": {},
   "outputs": [],
   "source": [
    "def cropMos(p, t):\n",
    "    \n",
    "    frameWidth = 2048\n",
    "    frameHeigth = 2048\n",
    "    ROIwidth = 550\n",
    "    ROIheigth = 550\n",
    "    halfROIwidth = ROIwidth / 2\n",
    "    halfROIheigth = ROIheigth / 2\n",
    "    \n",
    "    tP = t.loc[t['particle'] == p]\n",
    "    for index, row in tP.iterrows():\n",
    "        if row['x'] < halfROIwidth:\n",
    "            x_start = 0\n",
    "            x_stop = ROIwidth\n",
    "        elif row['x'] + halfROIwidth > frameWidth:\n",
    "            x_start = frameWidth - ROIwidth\n",
    "            x_stop = frameWidth\n",
    "        else:\n",
    "            x_start = row['x'] - halfROIwidth\n",
    "            x_stop = row['x'] + halfROIwidth\n",
    "        if row['y'] < halfROIwidth:\n",
    "            y_start = 0\n",
    "            y_stop = ROIwidth\n",
    "        elif row['y'] + halfROIwidth > frameWidth:\n",
    "            y_start = frameWidth - ROIwidth\n",
    "            y_stop = frameWidth\n",
    "        else:\n",
    "            y_start = row['y'] - halfROIwidth\n",
    "            y_stop = row['y'] + halfROIwidth\n",
    "        currFrame = frames[row['frame']]\n",
    "        currROI = currFrame[int(y_start):int(y_stop), int(x_start):int(x_stop)]\n",
    "        skimage.io.imsave(\"crop_p\" + str(int(p)).zfill(3) + \"_f\" + str(int(row['frame'])).zfill(6) + \".png\", currROI)\n"
   ]
  },
  {
   "cell_type": "code",
   "execution_count": null,
   "metadata": {},
   "outputs": [],
   "source": [
    "os.chdir(saveDir + 'crops/')\n",
    "mosToCrop = tFilt.particle.unique()\n",
    "\n",
    "num_cores = multiprocessing.cpu_count()\n",
    "Parallel(n_jobs=num_cores)(delayed(cropMos)(i, t) for i in mosToCrop)"
   ]
  },
  {
   "cell_type": "code",
   "execution_count": null,
   "metadata": {},
   "outputs": [],
   "source": [
    "startPierce = [1924, 4064, 4376, 4486, 4601, 4648]\n",
    "stopPierce = [1949, 4297, 4436, 4512, 4628, 4673]"
   ]
  },
  {
   "cell_type": "code",
   "execution_count": null,
   "metadata": {},
   "outputs": [],
   "source": [
    "len(startPierce)"
   ]
  },
  {
   "cell_type": "code",
   "execution_count": null,
   "metadata": {},
   "outputs": [],
   "source": [
    "tp = t.copy()\n",
    "tp['stylet'] = 0\n",
    "\n",
    "for i in range(0,len(startPierce) - 1):\n",
    "    start = startPierce[i]\n",
    "    stop = stopPierce[i]\n",
    "    tp.loc[(tp.frame >= start) & (tp.frame <= stop), 'stylet'] = 1"
   ]
  },
  {
   "cell_type": "code",
   "execution_count": null,
   "metadata": {},
   "outputs": [],
   "source": [
    "os.chdir(saveDir)\n",
    "tp.to_pickle('190702_SalineNoATP_M7_ROItracksStylet.pkl')"
   ]
  },
  {
   "cell_type": "code",
   "execution_count": null,
   "metadata": {},
   "outputs": [],
   "source": [
    "tsd = tp.copy()\n",
    "\n",
    "fig = plt.figure(figsize=(22,3))\n",
    "ax = fig.add_subplot(1, 1, 1)\n",
    "\n",
    "for i in tsd.particle.unique():\n",
    "    start = np.min(tsd.loc[ts['particle'] == i].frame)\n",
    "    width = np.max(tsd.loc[ts['particle'] == i].frame) - np.min(tsd.loc[ts['particle'] == i].frame)\n",
    "    rect = plt.Rectangle((start, 1), width, 0.1, color='c', alpha=0.65, ec=None)\n",
    "    ax.add_patch(rect)\n",
    "\n",
    "p = tsd.loc[tsd.stylet == 1].frame.values\n",
    "ph = np.full((len(p)), 0.95)\n",
    "P = [p,ph]\n",
    "P_zipped = zip(*P)\n",
    "for P_x, P_y in P_zipped:\n",
    "    ax.add_patch(plt.Rectangle((P_x, P_y), 1, 0.1, color='m', alpha=0.75, ec=None))\n",
    "\n",
    "ax.set_xticklabels(list(range(0,1000, 100)))\n",
    "ax.set_yticklabels([])\n",
    "plt.xlabel('time (s)')\n",
    "\n",
    "cyan_patch = mpl.patches.Patch(color='c', label='mosquito present')\n",
    "magenta_patch = mpl.patches.Patch(color='m', label='stylet piercing')\n",
    "plt.legend(handles=[cyan_patch, magenta_patch])\n",
    "    \n",
    "plt.xlim([0, 9000])\n",
    "plt.ylim([0.8, 1.2])"
   ]
  },
  {
   "cell_type": "code",
   "execution_count": null,
   "metadata": {},
   "outputs": [],
   "source": [
    "plt.figure(figsize=(25,10))\n",
    "plt.imshow(frames[200], cmap='gray')\n",
    "plt.plot(centroidsAllT[:,1],centroidsAllT[:,0],'r.',alpha=0.5, markersize=10)\n",
    "tp.plot_traj(tFilt, plot_style={'linewidth':'2.0'})"
   ]
  },
  {
   "cell_type": "code",
   "execution_count": null,
   "metadata": {},
   "outputs": [],
   "source": [
    "len(tFilt.particle.unique())"
   ]
  },
  {
   "cell_type": "code",
   "execution_count": null,
   "metadata": {},
   "outputs": [],
   "source": [
    "plt.figure(figsize=(25,10))\n",
    "plt.imshow(frames[50], cmap='gray')\n",
    "tp.plot_traj(tFilt.loc[tFilt['particle'] == 17.0], plot_style={'linewidth':'3.0'})"
   ]
  },
  {
   "cell_type": "code",
   "execution_count": null,
   "metadata": {},
   "outputs": [],
   "source": [
    "os.chdir(saveDir)\n",
    "pickleList = glob.glob('*.pkl')\n",
    "centroidsAllCat = np.zeros((1,3))\n",
    "\n",
    "for i in pickleList:\n",
    "    with open(i, \"rb\") as input_file:\n",
    "        centroidsI = pickle.load(input_file)\n",
    "    centroidsAllCat = np.vstack((centroidsAllCat, centroidsI))"
   ]
  },
  {
   "cell_type": "code",
   "execution_count": null,
   "metadata": {},
   "outputs": [],
   "source": [
    "np.max(B)"
   ]
  },
  {
   "cell_type": "code",
   "execution_count": null,
   "metadata": {},
   "outputs": [],
   "source": [
    "\n",
    "A = np.zeros(frameSize)\n",
    "A = A + np.invert(frames[4381])\n",
    "B = A - BG\n",
    "B[B < 0] = 0\n",
    "# if B.min() > 0:\n",
    "#     Bm = B - B.min()\n",
    "# else:\n",
    "#     Bm = B\n",
    "\n",
    "plt.figure(figsize=(25,25))\n",
    "plt.imshow(np.invert(B.astype(int)), cmap='gray', vmin=25, vmax=95)"
   ]
  },
  {
   "cell_type": "code",
   "execution_count": null,
   "metadata": {},
   "outputs": [],
   "source": [
    "plt.figure(figsize=(25,25))\n",
    "\n",
    "alphas = [1, 0.5, 0.35, 0.25]\n",
    "\n",
    "j = 0\n",
    "\n",
    "for i in [3194, 3312, 4675, 5767]:\n",
    "    A = np.zeros(frameSize)\n",
    "    A = A + np.invert(frames[i])\n",
    "    B = A - BG\n",
    "    B[B < 0] = 0\n",
    "    plt.imshow(np.invert(B.astype(int)), cmap='gray', alpha=alphas[j], vmin=-40, vmax=-3)\n",
    "    j = j + 1\n",
    "    \n",
    "plt.savefig('190625_KPTTN_p049_114_125_NOtracks05.png')"
   ]
  },
  {
   "cell_type": "code",
   "execution_count": null,
   "metadata": {},
   "outputs": [],
   "source": [
    "plt.figure(figsize=(25,25))\n",
    "\n",
    "alphas = [1, 0.75, 0.65, 0.55]\n",
    "\n",
    "j = 0\n",
    "\n",
    "for i in [3194, 3312, 4675, 5767]:\n",
    "    A = np.zeros(frameSize)\n",
    "    A = A + np.invert(frames[i])\n",
    "    B = A - BG\n",
    "    B[B < 0] = 0\n",
    "    plt.imshow(np.invert(B.astype(int)), cmap='gray', alpha=alphas[j], vmin=-40, vmax=-3)\n",
    "    j = j + 1\n",
    "\n",
    "for i in range(1, len(p114) - 2):\n",
    "    d = math.sqrt((p114.iloc[i + 1].x - p114.iloc[i].x) ** 2 + (p114.iloc[i + 1].y - p114.iloc[i].y) ** 2)\n",
    "    plt.plot(p114.iloc[i:i+2].x, p114.iloc[i:i+2].y, c=mpl.cm.autumn(1 / (d/15)), lw=5)\n",
    "    \n",
    "for i in range(1, len(p049) - 2):\n",
    "    d = math.sqrt((p049.iloc[i + 1].x - p049.iloc[i].x) ** 2 + (p049.iloc[i + 1].y - p049.iloc[i].y) ** 2)\n",
    "    plt.plot(p049.iloc[i:i+2].x, p049.iloc[i:i+2].y, c=mpl.cm.autumn(1 / (d/15)), lw=5)\n",
    "    \n",
    "for i in range(1, len(p125) - 2):\n",
    "    d = math.sqrt((p125.iloc[i + 1].x - p125.iloc[i].x) ** 2 + (p125.iloc[i + 1].y - p125.iloc[i].y) ** 2)\n",
    "    plt.plot(p125.iloc[i:i+2].x, p125.iloc[i:i+2].y, c=mpl.cm.autumn(1 / (d/15)), lw=5)\n",
    "    \n",
    "plt.savefig('190625_KPTTN_p049_114_125_tracks05.pdf')"
   ]
  },
  {
   "cell_type": "code",
   "execution_count": null,
   "metadata": {},
   "outputs": [],
   "source": [
    "os.getcwd()"
   ]
  },
  {
   "cell_type": "code",
   "execution_count": null,
   "metadata": {},
   "outputs": [],
   "source": [
    "plt.figure(figsize=(25,25))\n",
    "plt.imshow(frames[3194], cmap='gray', vmin=125, vmax=155, alpha=1)\n",
    "plt.imshow(frames[3312], cmap='gray', vmin=125, vmax=155, alpha=0.5)\n",
    "plt.imshow(frames[5100], cmap='gray', vmin=125, vmax=155, alpha=0.4)\n",
    "# plt.imshow(frames[2591], cmap='gray', vmin=55, vmax=160, alpha=0.4)\n",
    "# plt.imshow(frames[5571], cmap='gray', vmin=55, vmax=160, alpha=0.4)\n",
    "# plt.imshow(frames[3195], cmap='gray', vmin=55, vmax=180, alpha=0.4)\n",
    "\n",
    "# plt.imshow(frames[4327], cmap='gray', vmin=95, vmax=180, alpha=1)\n",
    "# plt.imshow(frames[4411], cmap='gray', vmin=95, vmax=180, alpha=0.5)\n",
    "# plt.imshow(frames[5148], cmap='gray', vmin=55, vmax=180, alpha=0.4)\n",
    "\n",
    "# for i in range(1, len(p114) - 2):\n",
    "#     d = math.sqrt((p114.iloc[i + 1].x - p114.iloc[i].x) ** 2 + (p114.iloc[i + 1].y - p114.iloc[i].y) ** 2)\n",
    "#     plt.plot(p114.iloc[i:i+2].x, p114.iloc[i:i+2].y, c=mpl.cm.autumn(1 / (d/15)), lw=5)\n",
    "    \n",
    "# for i in range(1, len(p049) - 2):\n",
    "#     d = math.sqrt((p049.iloc[i + 1].x - p049.iloc[i].x) ** 2 + (p049.iloc[i + 1].y - p049.iloc[i].y) ** 2)\n",
    "#     plt.plot(p049.iloc[i:i+2].x, p049.iloc[i:i+2].y, c=mpl.cm.autumn(1 / (d/15)), lw=5)\n",
    "    \n",
    "# for i in range(1, len(p125) - 2):\n",
    "#     d = math.sqrt((p125.iloc[i + 1].x - p125.iloc[i].x) ** 2 + (p125.iloc[i + 1].y - p125.iloc[i].y) ** 2)\n",
    "#     plt.plot(p125.iloc[i:i+2].x, p125.iloc[i:i+2].y, c=mpl.cm.autumn(1 / (d/15)), lw=5)"
   ]
  }
 ],
 "metadata": {
  "kernelspec": {
   "display_name": "bs2",
   "language": "python",
   "name": "bs2"
  },
  "language_info": {
   "codemirror_mode": {
    "name": "ipython",
    "version": 3
   },
   "file_extension": ".py",
   "mimetype": "text/x-python",
   "name": "python",
   "nbconvert_exporter": "python",
   "pygments_lexer": "ipython3",
   "version": "3.6.5"
  },
  "varInspector": {
   "cols": {
    "lenName": 16,
    "lenType": 16,
    "lenVar": 40
   },
   "kernels_config": {
    "python": {
     "delete_cmd_postfix": "",
     "delete_cmd_prefix": "del ",
     "library": "var_list.py",
     "varRefreshCmd": "print(var_dic_list())"
    },
    "r": {
     "delete_cmd_postfix": ") ",
     "delete_cmd_prefix": "rm(",
     "library": "var_list.r",
     "varRefreshCmd": "cat(var_dic_list()) "
    }
   },
   "types_to_exclude": [
    "module",
    "function",
    "builtin_function_or_method",
    "instance",
    "_Feature"
   ],
   "window_display": false
  }
 },
 "nbformat": 4,
 "nbformat_minor": 2
}
